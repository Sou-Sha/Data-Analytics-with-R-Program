{
 "cells": [
  {
   "cell_type": "markdown",
   "id": "cc3c49af",
   "metadata": {},
   "source": [
    "# Problem 1"
   ]
  },
  {
   "cell_type": "markdown",
   "id": "9b45ba8d",
   "metadata": {},
   "source": [
    "Six Sigma (6σ) is a set of techniques and tools for process improvement. It was introduced by American engineer Bill Smith while working at Motorola in 1980.Jack Welch made it central to his business strategy at General Electric in 1995. A six sigma process is one in which 99.99966% of all opportunities to produce some feature of a part are statistically expected to be free of defects. \n",
    "1. Please write R code to verify the probabilities within σ, 2σ and 3σ as shown in the above graph \n",
    "2. Write R code to find out, within how many σ, the probability is 99.99966%. Is it really 6σ?"
   ]
  },
  {
   "cell_type": "code",
   "execution_count": 61,
   "id": "cbbe6b3f",
   "metadata": {},
   "outputs": [
    {
     "data": {
      "text/html": [
       "0.999999998026825"
      ],
      "text/latex": [
       "0.999999998026825"
      ],
      "text/markdown": [
       "0.999999998026825"
      ],
      "text/plain": [
       "[1] 1"
      ]
     },
     "metadata": {},
     "output_type": "display_data"
    }
   ],
   "source": [
    "#1.1 : 6σ\n",
    "ms<-0\n",
    "sd<-1\n",
    "lb<-ms-sd*6\n",
    "ub<-ms+sd*6\n",
    "pnorm(ub,ms,sd)-pnorm(lb,ms,sd)"
   ]
  },
  {
   "cell_type": "code",
   "execution_count": 62,
   "id": "80402c7e",
   "metadata": {},
   "outputs": [
    {
     "data": {
      "text/html": [
       "0.682689492137086"
      ],
      "text/latex": [
       "0.682689492137086"
      ],
      "text/markdown": [
       "0.682689492137086"
      ],
      "text/plain": [
       "[1] 0.6826895"
      ]
     },
     "metadata": {},
     "output_type": "display_data"
    }
   ],
   "source": [
    "# σ\n",
    "ms<-0\n",
    "sd<-1\n",
    "lb<-ms-sd*1\n",
    "ub<-ms+sd*1\n",
    "pnorm(ub,ms,sd)-pnorm(lb,ms,sd)"
   ]
  },
  {
   "cell_type": "code",
   "execution_count": 63,
   "id": "8f4ffee9",
   "metadata": {},
   "outputs": [
    {
     "data": {
      "text/html": [
       "0.954499736103642"
      ],
      "text/latex": [
       "0.954499736103642"
      ],
      "text/markdown": [
       "0.954499736103642"
      ],
      "text/plain": [
       "[1] 0.9544997"
      ]
     },
     "metadata": {},
     "output_type": "display_data"
    }
   ],
   "source": [
    "# 2σ\n",
    "ms<-0\n",
    "sd<-1\n",
    "lb<-ms-sd*2\n",
    "ub<-ms+sd*2\n",
    "pnorm(ub,ms,sd)-pnorm(lb,ms,sd)"
   ]
  },
  {
   "cell_type": "code",
   "execution_count": 64,
   "id": "77711d6a",
   "metadata": {},
   "outputs": [
    {
     "data": {
      "text/html": [
       "0.99730020393674"
      ],
      "text/latex": [
       "0.99730020393674"
      ],
      "text/markdown": [
       "0.99730020393674"
      ],
      "text/plain": [
       "[1] 0.9973002"
      ]
     },
     "metadata": {},
     "output_type": "display_data"
    }
   ],
   "source": [
    "# 3σ\n",
    "ms<-0\n",
    "sd<-1\n",
    "lb<-ms-sd*3\n",
    "ub<-ms+sd*3\n",
    "pnorm(ub,ms,sd)-pnorm(lb,ms,sd)"
   ]
  },
  {
   "cell_type": "code",
   "execution_count": 60,
   "id": "29d52a92",
   "metadata": {},
   "outputs": [
    {
     "data": {
      "text/html": [
       "4.64504641802141"
      ],
      "text/latex": [
       "4.64504641802141"
      ],
      "text/markdown": [
       "4.64504641802141"
      ],
      "text/plain": [
       "[1] 4.645046"
      ]
     },
     "metadata": {},
     "output_type": "display_data"
    }
   ],
   "source": [
    "#1.2\n",
    "ms<-0\n",
    "sd<-1\n",
    "c<-0.9999966+((1-0.9999966)/2)\n",
    "qnorm(c,ms,sd)"
   ]
  },
  {
   "cell_type": "markdown",
   "id": "b716d480",
   "metadata": {},
   "source": [
    "# Problem 2"
   ]
  },
  {
   "cell_type": "markdown",
   "id": "21557ce9",
   "metadata": {},
   "source": [
    "You are spamming resumes to apply jobs. Each resume you send out has 1% chance of getting a job offer. You have sent 100 resumes. What's your chance to get at least one job offer? \n",
    "1. Please solve the problem by math. Use R mathematical expression to get the result. \n",
    "2. Analytic solution. Use R’s probability functions to solve the problem. \n",
    "3. Answer by simulation. Use sampling function to simulate the process and estimate the answer. \n",
    "4. How many resumes in total do you have to spam so that you will have 90% chance to get at least one job offer? "
   ]
  },
  {
   "cell_type": "code",
   "execution_count": 67,
   "id": "b907a233",
   "metadata": {},
   "outputs": [
    {
     "data": {
      "text/html": [
       "0.633967658726771"
      ],
      "text/latex": [
       "0.633967658726771"
      ],
      "text/markdown": [
       "0.633967658726771"
      ],
      "text/plain": [
       "[1] 0.6339677"
      ]
     },
     "metadata": {},
     "output_type": "display_data"
    }
   ],
   "source": [
    "# 2.1\n",
    "1-(1-0.01)^100"
   ]
  },
  {
   "cell_type": "code",
   "execution_count": 68,
   "id": "d6547cb4",
   "metadata": {},
   "outputs": [
    {
     "data": {
      "text/html": [
       "0.63396765872677"
      ],
      "text/latex": [
       "0.63396765872677"
      ],
      "text/markdown": [
       "0.63396765872677"
      ],
      "text/plain": [
       "[1] 0.6339677"
      ]
     },
     "metadata": {},
     "output_type": "display_data"
    }
   ],
   "source": [
    "# 2.2\n",
    "1-pbinom(0,100,0.01)"
   ]
  },
  {
   "cell_type": "code",
   "execution_count": 71,
   "id": "5ed1e5ba",
   "metadata": {},
   "outputs": [
    {
     "data": {
      "text/html": [
       "<ol class=list-inline>\n",
       "\t<li>0</li>\n",
       "\t<li>1</li>\n",
       "</ol>\n"
      ],
      "text/latex": [
       "\\begin{enumerate*}\n",
       "\\item 0\n",
       "\\item 1\n",
       "\\end{enumerate*}\n"
      ],
      "text/markdown": [
       "1. 0\n",
       "2. 1\n",
       "\n",
       "\n"
      ],
      "text/plain": [
       "[1] 0 1"
      ]
     },
     "metadata": {},
     "output_type": "display_data"
    },
    {
     "data": {
      "text/html": [
       "<strong>0:</strong> 0.633967658726771"
      ],
      "text/latex": [
       "\\textbf{0:} 0.633967658726771"
      ],
      "text/markdown": [
       "**0:** 0.633967658726771"
      ],
      "text/plain": [
       "        0 \n",
       "0.6339677 "
      ]
     },
     "metadata": {},
     "output_type": "display_data"
    }
   ],
   "source": [
    "# 2.3\n",
    "c(0,1)\n",
    "x<-table(sample(0:1,100,replace=TRUE,prob=c(0.99,0.01)))\n",
    "prob<-1-(x[\"0\"]/100)^100\n",
    "prob"
   ]
  },
  {
   "cell_type": "code",
   "execution_count": 72,
   "id": "69b72278",
   "metadata": {},
   "outputs": [
    {
     "data": {
      "text/html": [
       "230"
      ],
      "text/latex": [
       "230"
      ],
      "text/markdown": [
       "230"
      ],
      "text/plain": [
       "[1] 230"
      ]
     },
     "metadata": {},
     "output_type": "display_data"
    }
   ],
   "source": [
    "# 2.4\n",
    "total=log(0.1)/log(0.99)\n",
    "ceiling(total)"
   ]
  },
  {
   "cell_type": "markdown",
   "id": "81a963a4",
   "metadata": {},
   "source": [
    "# Problem 3"
   ]
  },
  {
   "cell_type": "markdown",
   "id": "cc4c368b",
   "metadata": {},
   "source": [
    "Half of the population supports the president (i.e., p=0.5). For a random sample of size 1000, what is the probability of having ≥600 in support of the president? \n",
    "1. Use binomial distribution \n",
    "2. Use normal distribution as approximation. "
   ]
  },
  {
   "cell_type": "code",
   "execution_count": 1,
   "id": "f3c19199",
   "metadata": {},
   "outputs": [
    {
     "data": {
      "text/html": [
       "1.36423206065217e-10"
      ],
      "text/latex": [
       "1.36423206065217e-10"
      ],
      "text/markdown": [
       "1.36423206065217e-10"
      ],
      "text/plain": [
       "[1] 1.364232e-10"
      ]
     },
     "metadata": {},
     "output_type": "display_data"
    }
   ],
   "source": [
    "# 3.1\n",
    "1-pbinom(599,1000,0.5)"
   ]
  },
  {
   "cell_type": "code",
   "execution_count": 2,
   "id": "aebba776",
   "metadata": {},
   "outputs": [
    {
     "data": {
      "text/html": [
       "1.90878646222359e-10"
      ],
      "text/latex": [
       "1.90878646222359e-10"
      ],
      "text/markdown": [
       "1.90878646222359e-10"
      ],
      "text/plain": [
       "[1] 1.908786e-10"
      ]
     },
     "metadata": {},
     "output_type": "display_data"
    }
   ],
   "source": [
    "# 3.2\n",
    "ms=1000*0.5\n",
    "sd=sqrt(1000*0.5*0.5)\n",
    "1-pnorm(599,ms,sd)"
   ]
  }
 ],
 "metadata": {
  "kernelspec": {
   "display_name": "R",
   "language": "R",
   "name": "ir"
  },
  "language_info": {
   "codemirror_mode": "r",
   "file_extension": ".r",
   "mimetype": "text/x-r-source",
   "name": "R",
   "pygments_lexer": "r",
   "version": "3.6.1"
  }
 },
 "nbformat": 4,
 "nbformat_minor": 5
}
