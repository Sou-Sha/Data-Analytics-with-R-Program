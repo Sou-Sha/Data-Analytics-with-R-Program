{
 "cells": [
  {
   "cell_type": "code",
   "execution_count": 1,
   "id": "1b440dff",
   "metadata": {},
   "outputs": [
    {
     "data": {
      "text/html": [
       "160"
      ],
      "text/latex": [
       "160"
      ],
      "text/markdown": [
       "160"
      ],
      "text/plain": [
       "[1] 160"
      ]
     },
     "metadata": {},
     "output_type": "display_data"
    }
   ],
   "source": [
    "mtcars[\"Mazda RX4 Wag\", \"disp\"]"
   ]
  },
  {
   "cell_type": "code",
   "execution_count": 2,
   "id": "b2a7ae99",
   "metadata": {},
   "outputs": [
    {
     "data": {
      "text/html": [
       "<ol class=list-inline>\n",
       "\t<li>110</li>\n",
       "\t<li>110</li>\n",
       "\t<li>93</li>\n",
       "\t<li>110</li>\n",
       "\t<li>175</li>\n",
       "\t<li>105</li>\n",
       "\t<li>245</li>\n",
       "\t<li>62</li>\n",
       "\t<li>95</li>\n",
       "\t<li>123</li>\n",
       "\t<li>123</li>\n",
       "\t<li>180</li>\n",
       "\t<li>180</li>\n",
       "\t<li>180</li>\n",
       "\t<li>205</li>\n",
       "\t<li>215</li>\n",
       "\t<li>230</li>\n",
       "\t<li>66</li>\n",
       "\t<li>52</li>\n",
       "\t<li>65</li>\n",
       "\t<li>97</li>\n",
       "\t<li>150</li>\n",
       "\t<li>150</li>\n",
       "\t<li>245</li>\n",
       "\t<li>175</li>\n",
       "\t<li>66</li>\n",
       "\t<li>91</li>\n",
       "\t<li>113</li>\n",
       "\t<li>264</li>\n",
       "\t<li>175</li>\n",
       "\t<li>335</li>\n",
       "\t<li>109</li>\n",
       "</ol>\n"
      ],
      "text/latex": [
       "\\begin{enumerate*}\n",
       "\\item 110\n",
       "\\item 110\n",
       "\\item 93\n",
       "\\item 110\n",
       "\\item 175\n",
       "\\item 105\n",
       "\\item 245\n",
       "\\item 62\n",
       "\\item 95\n",
       "\\item 123\n",
       "\\item 123\n",
       "\\item 180\n",
       "\\item 180\n",
       "\\item 180\n",
       "\\item 205\n",
       "\\item 215\n",
       "\\item 230\n",
       "\\item 66\n",
       "\\item 52\n",
       "\\item 65\n",
       "\\item 97\n",
       "\\item 150\n",
       "\\item 150\n",
       "\\item 245\n",
       "\\item 175\n",
       "\\item 66\n",
       "\\item 91\n",
       "\\item 113\n",
       "\\item 264\n",
       "\\item 175\n",
       "\\item 335\n",
       "\\item 109\n",
       "\\end{enumerate*}\n"
      ],
      "text/markdown": [
       "1. 110\n",
       "2. 110\n",
       "3. 93\n",
       "4. 110\n",
       "5. 175\n",
       "6. 105\n",
       "7. 245\n",
       "8. 62\n",
       "9. 95\n",
       "10. 123\n",
       "11. 123\n",
       "12. 180\n",
       "13. 180\n",
       "14. 180\n",
       "15. 205\n",
       "16. 215\n",
       "17. 230\n",
       "18. 66\n",
       "19. 52\n",
       "20. 65\n",
       "21. 97\n",
       "22. 150\n",
       "23. 150\n",
       "24. 245\n",
       "25. 175\n",
       "26. 66\n",
       "27. 91\n",
       "28. 113\n",
       "29. 264\n",
       "30. 175\n",
       "31. 335\n",
       "32. 109\n",
       "\n",
       "\n"
      ],
      "text/plain": [
       " [1] 110 110  93 110 175 105 245  62  95 123 123 180 180 180 205 215 230  66  52\n",
       "[20]  65  97 150 150 245 175  66  91 113 264 175 335 109"
      ]
     },
     "metadata": {},
     "output_type": "display_data"
    }
   ],
   "source": [
    "mtcars[[\"hp\"]]"
   ]
  },
  {
   "cell_type": "code",
   "execution_count": 5,
   "id": "6c26597b",
   "metadata": {},
   "outputs": [
    {
     "data": {
      "text/html": [
       "<table>\n",
       "<thead><tr><th scope=col>Index...symbol...color</th></tr></thead>\n",
       "<tbody>\n",
       "\t<tr><td>1             A            red</td></tr>\n",
       "\t<tr><td>2             B            red</td></tr>\n",
       "\t<tr><td>3             C            red</td></tr>\n",
       "\t<tr><td>4             D            red</td></tr>\n",
       "\t<tr><td>5             E            red</td></tr>\n",
       "\t<tr><td>6             F            red</td></tr>\n",
       "</tbody>\n",
       "</table>\n"
      ],
      "text/latex": [
       "\\begin{tabular}{r|l}\n",
       " Index...symbol...color\\\\\n",
       "\\hline\n",
       "\t 1             A            red\\\\\n",
       "\t 2             B            red\\\\\n",
       "\t 3             C            red\\\\\n",
       "\t 4             D            red\\\\\n",
       "\t 5             E            red\\\\\n",
       "\t 6             F            red\\\\\n",
       "\\end{tabular}\n"
      ],
      "text/markdown": [
       "\n",
       "| Index...symbol...color |\n",
       "|---|\n",
       "| 1             A            red |\n",
       "| 2             B            red |\n",
       "| 3             C            red |\n",
       "| 4             D            red |\n",
       "| 5             E            red |\n",
       "| 6             F            red |\n",
       "\n"
      ],
      "text/plain": [
       "  Index...symbol...color        \n",
       "1 1             A            red\n",
       "2 2             B            red\n",
       "3 3             C            red\n",
       "4 4             D            red\n",
       "5 5             E            red\n",
       "6 6             F            red"
      ]
     },
     "metadata": {},
     "output_type": "display_data"
    }
   ],
   "source": [
    "var<-read.delim(\"/Users/soumyasharma/Downloads/test.txt\")\n",
    "var"
   ]
  },
  {
   "cell_type": "code",
   "execution_count": 6,
   "id": "91b6f5ae",
   "metadata": {},
   "outputs": [
    {
     "data": {
      "text/html": [
       "'data.frame'"
      ],
      "text/latex": [
       "'data.frame'"
      ],
      "text/markdown": [
       "'data.frame'"
      ],
      "text/plain": [
       "[1] \"data.frame\""
      ]
     },
     "metadata": {},
     "output_type": "display_data"
    }
   ],
   "source": [
    "class(var)"
   ]
  },
  {
   "cell_type": "code",
   "execution_count": 8,
   "id": "36737762",
   "metadata": {},
   "outputs": [
    {
     "data": {
      "text/html": [
       "<table>\n",
       "<thead><tr><th scope=col>Index...symbol...color</th></tr></thead>\n",
       "<tbody>\n",
       "\t<tr><td>1             A            red</td></tr>\n",
       "\t<tr><td>2             B            red</td></tr>\n",
       "\t<tr><td>3             C            red</td></tr>\n",
       "\t<tr><td>4             D            red</td></tr>\n",
       "\t<tr><td>5             E            red</td></tr>\n",
       "\t<tr><td>6             F            red</td></tr>\n",
       "</tbody>\n",
       "</table>\n"
      ],
      "text/latex": [
       "\\begin{tabular}{r|l}\n",
       " Index...symbol...color\\\\\n",
       "\\hline\n",
       "\t 1             A            red\\\\\n",
       "\t 2             B            red\\\\\n",
       "\t 3             C            red\\\\\n",
       "\t 4             D            red\\\\\n",
       "\t 5             E            red\\\\\n",
       "\t 6             F            red\\\\\n",
       "\\end{tabular}\n"
      ],
      "text/markdown": [
       "\n",
       "| Index...symbol...color |\n",
       "|---|\n",
       "| 1             A            red |\n",
       "| 2             B            red |\n",
       "| 3             C            red |\n",
       "| 4             D            red |\n",
       "| 5             E            red |\n",
       "| 6             F            red |\n",
       "\n"
      ],
      "text/plain": [
       "  Index...symbol...color        \n",
       "1 1             A            red\n",
       "2 2             B            red\n",
       "3 3             C            red\n",
       "4 4             D            red\n",
       "5 5             E            red\n",
       "6 6             F            red"
      ]
     },
     "metadata": {},
     "output_type": "display_data"
    }
   ],
   "source": [
    "var = read.table(file=\"/Users/soumyasharma/Downloads/test.txt\",header=TRUE,sep=\"\\t\")\n",
    "var"
   ]
  },
  {
   "cell_type": "code",
   "execution_count": 9,
   "id": "b28bf042",
   "metadata": {},
   "outputs": [
    {
     "data": {
      "text/html": [
       "<dl>\n",
       "\t<dt>$sex</dt>\n",
       "\t\t<dd><ol class=list-inline>\n",
       "\t<li>1</li>\n",
       "\t<li>1</li>\n",
       "\t<li>1</li>\n",
       "\t<li>1</li>\n",
       "\t<li>2</li>\n",
       "\t<li>2</li>\n",
       "\t<li>2</li>\n",
       "\t<li>2</li>\n",
       "\t<li>2</li>\n",
       "\t<li>2</li>\n",
       "</ol>\n",
       "</dd>\n",
       "\t<dt>$smoking</dt>\n",
       "\t\t<dd><ol class=list-inline>\n",
       "\t<li>1</li>\n",
       "\t<li>0</li>\n",
       "\t<li>1</li>\n",
       "\t<li>0</li>\n",
       "\t<li>1</li>\n",
       "\t<li>0</li>\n",
       "\t<li>0</li>\n",
       "\t<li>0</li>\n",
       "\t<li>1</li>\n",
       "\t<li>1</li>\n",
       "</ol>\n",
       "</dd>\n",
       "\t<dt>$age</dt>\n",
       "\t\t<dd><ol class=list-inline>\n",
       "\t<li>21</li>\n",
       "\t<li>22</li>\n",
       "\t<li>23</li>\n",
       "\t<li>24</li>\n",
       "\t<li>25</li>\n",
       "\t<li>26</li>\n",
       "\t<li>27</li>\n",
       "\t<li>28</li>\n",
       "\t<li>29</li>\n",
       "\t<li>30</li>\n",
       "</ol>\n",
       "</dd>\n",
       "</dl>\n"
      ],
      "text/latex": [
       "\\begin{description}\n",
       "\\item[\\$sex] \\begin{enumerate*}\n",
       "\\item 1\n",
       "\\item 1\n",
       "\\item 1\n",
       "\\item 1\n",
       "\\item 2\n",
       "\\item 2\n",
       "\\item 2\n",
       "\\item 2\n",
       "\\item 2\n",
       "\\item 2\n",
       "\\end{enumerate*}\n",
       "\n",
       "\\item[\\$smoking] \\begin{enumerate*}\n",
       "\\item 1\n",
       "\\item 0\n",
       "\\item 1\n",
       "\\item 0\n",
       "\\item 1\n",
       "\\item 0\n",
       "\\item 0\n",
       "\\item 0\n",
       "\\item 1\n",
       "\\item 1\n",
       "\\end{enumerate*}\n",
       "\n",
       "\\item[\\$age] \\begin{enumerate*}\n",
       "\\item 21\n",
       "\\item 22\n",
       "\\item 23\n",
       "\\item 24\n",
       "\\item 25\n",
       "\\item 26\n",
       "\\item 27\n",
       "\\item 28\n",
       "\\item 29\n",
       "\\item 30\n",
       "\\end{enumerate*}\n",
       "\n",
       "\\end{description}\n"
      ],
      "text/markdown": [
       "$sex\n",
       ":   1. 1\n",
       "2. 1\n",
       "3. 1\n",
       "4. 1\n",
       "5. 2\n",
       "6. 2\n",
       "7. 2\n",
       "8. 2\n",
       "9. 2\n",
       "10. 2\n",
       "\n",
       "\n",
       "\n",
       "$smoking\n",
       ":   1. 1\n",
       "2. 0\n",
       "3. 1\n",
       "4. 0\n",
       "5. 1\n",
       "6. 0\n",
       "7. 0\n",
       "8. 0\n",
       "9. 1\n",
       "10. 1\n",
       "\n",
       "\n",
       "\n",
       "$age\n",
       ":   1. 21\n",
       "2. 22\n",
       "3. 23\n",
       "4. 24\n",
       "5. 25\n",
       "6. 26\n",
       "7. 27\n",
       "8. 28\n",
       "9. 29\n",
       "10. 30\n",
       "\n",
       "\n",
       "\n",
       "\n",
       "\n"
      ],
      "text/plain": [
       "$sex\n",
       " [1] 1 1 1 1 2 2 2 2 2 2\n",
       "\n",
       "$smoking\n",
       " [1] 1 0 1 0 1 0 0 0 1 1\n",
       "\n",
       "$age\n",
       " [1] 21 22 23 24 25 26 27 28 29 30\n"
      ]
     },
     "metadata": {},
     "output_type": "display_data"
    }
   ],
   "source": [
    "mylist=list(sex = c(1,1,1,1,2,2,2,2,2,2), smoking = c(1,0,1,0,1,0,0,0,1,1), age=c(21:30))\n",
    "mylist"
   ]
  },
  {
   "cell_type": "code",
   "execution_count": 13,
   "id": "4c997f96",
   "metadata": {},
   "outputs": [
    {
     "data": {
      "text/html": [
       "<dl>\n",
       "\t<dt>$sex</dt>\n",
       "\t\t<dd><ol class=list-inline>\n",
       "\t<li>2</li>\n",
       "\t<li>2</li>\n",
       "\t<li>2</li>\n",
       "\t<li>2</li>\n",
       "\t<li>4</li>\n",
       "\t<li>4</li>\n",
       "\t<li>4</li>\n",
       "\t<li>4</li>\n",
       "\t<li>4</li>\n",
       "\t<li>4</li>\n",
       "</ol>\n",
       "</dd>\n",
       "\t<dt>$smoking</dt>\n",
       "\t\t<dd><ol class=list-inline>\n",
       "\t<li>2</li>\n",
       "\t<li>0</li>\n",
       "\t<li>2</li>\n",
       "\t<li>0</li>\n",
       "\t<li>2</li>\n",
       "\t<li>0</li>\n",
       "\t<li>0</li>\n",
       "\t<li>0</li>\n",
       "\t<li>2</li>\n",
       "\t<li>2</li>\n",
       "</ol>\n",
       "</dd>\n",
       "\t<dt>$age</dt>\n",
       "\t\t<dd><ol class=list-inline>\n",
       "\t<li>42</li>\n",
       "\t<li>44</li>\n",
       "\t<li>46</li>\n",
       "\t<li>48</li>\n",
       "\t<li>50</li>\n",
       "\t<li>52</li>\n",
       "\t<li>54</li>\n",
       "\t<li>56</li>\n",
       "\t<li>58</li>\n",
       "\t<li>60</li>\n",
       "</ol>\n",
       "</dd>\n",
       "</dl>\n"
      ],
      "text/latex": [
       "\\begin{description}\n",
       "\\item[\\$sex] \\begin{enumerate*}\n",
       "\\item 2\n",
       "\\item 2\n",
       "\\item 2\n",
       "\\item 2\n",
       "\\item 4\n",
       "\\item 4\n",
       "\\item 4\n",
       "\\item 4\n",
       "\\item 4\n",
       "\\item 4\n",
       "\\end{enumerate*}\n",
       "\n",
       "\\item[\\$smoking] \\begin{enumerate*}\n",
       "\\item 2\n",
       "\\item 0\n",
       "\\item 2\n",
       "\\item 0\n",
       "\\item 2\n",
       "\\item 0\n",
       "\\item 0\n",
       "\\item 0\n",
       "\\item 2\n",
       "\\item 2\n",
       "\\end{enumerate*}\n",
       "\n",
       "\\item[\\$age] \\begin{enumerate*}\n",
       "\\item 42\n",
       "\\item 44\n",
       "\\item 46\n",
       "\\item 48\n",
       "\\item 50\n",
       "\\item 52\n",
       "\\item 54\n",
       "\\item 56\n",
       "\\item 58\n",
       "\\item 60\n",
       "\\end{enumerate*}\n",
       "\n",
       "\\end{description}\n"
      ],
      "text/markdown": [
       "$sex\n",
       ":   1. 2\n",
       "2. 2\n",
       "3. 2\n",
       "4. 2\n",
       "5. 4\n",
       "6. 4\n",
       "7. 4\n",
       "8. 4\n",
       "9. 4\n",
       "10. 4\n",
       "\n",
       "\n",
       "\n",
       "$smoking\n",
       ":   1. 2\n",
       "2. 0\n",
       "3. 2\n",
       "4. 0\n",
       "5. 2\n",
       "6. 0\n",
       "7. 0\n",
       "8. 0\n",
       "9. 2\n",
       "10. 2\n",
       "\n",
       "\n",
       "\n",
       "$age\n",
       ":   1. 42\n",
       "2. 44\n",
       "3. 46\n",
       "4. 48\n",
       "5. 50\n",
       "6. 52\n",
       "7. 54\n",
       "8. 56\n",
       "9. 58\n",
       "10. 60\n",
       "\n",
       "\n",
       "\n",
       "\n",
       "\n"
      ],
      "text/plain": [
       "$sex\n",
       " [1] 2 2 2 2 4 4 4 4 4 4\n",
       "\n",
       "$smoking\n",
       " [1] 2 0 2 0 2 0 0 0 2 2\n",
       "\n",
       "$age\n",
       " [1] 42 44 46 48 50 52 54 56 58 60\n"
      ]
     },
     "metadata": {},
     "output_type": "display_data"
    }
   ],
   "source": [
    "lapply(mylist, function(kk){ kk*2 })"
   ]
  },
  {
   "cell_type": "code",
   "execution_count": 11,
   "id": "68bb5b25",
   "metadata": {},
   "outputs": [
    {
     "data": {
      "text/html": [
       "<dl class=dl-horizontal>\n",
       "\t<dt>sex</dt>\n",
       "\t\t<dd>1</dd>\n",
       "\t<dt>smoking</dt>\n",
       "\t\t<dd>0</dd>\n",
       "\t<dt>age</dt>\n",
       "\t\t<dd>21</dd>\n",
       "</dl>\n"
      ],
      "text/latex": [
       "\\begin{description*}\n",
       "\\item[sex] 1\n",
       "\\item[smoking] 0\n",
       "\\item[age] 21\n",
       "\\end{description*}\n"
      ],
      "text/markdown": [
       "sex\n",
       ":   1smoking\n",
       ":   0age\n",
       ":   21\n",
       "\n"
      ],
      "text/plain": [
       "    sex smoking     age \n",
       "      1       0      21 "
      ]
     },
     "metadata": {},
     "output_type": "display_data"
    }
   ],
   "source": [
    "sapply(mylist, min)"
   ]
  },
  {
   "cell_type": "code",
   "execution_count": 12,
   "id": "3bad748a",
   "metadata": {},
   "outputs": [
    {
     "data": {
      "text/html": [
       "<dl>\n",
       "\t<dt>$sex</dt>\n",
       "\t\t<dd>1</dd>\n",
       "\t<dt>$smoking</dt>\n",
       "\t\t<dd>0</dd>\n",
       "\t<dt>$age</dt>\n",
       "\t\t<dd>21</dd>\n",
       "</dl>\n"
      ],
      "text/latex": [
       "\\begin{description}\n",
       "\\item[\\$sex] 1\n",
       "\\item[\\$smoking] 0\n",
       "\\item[\\$age] 21\n",
       "\\end{description}\n"
      ],
      "text/markdown": [
       "$sex\n",
       ":   1\n",
       "$smoking\n",
       ":   0\n",
       "$age\n",
       ":   21\n",
       "\n",
       "\n"
      ],
      "text/plain": [
       "$sex\n",
       "[1] 1\n",
       "\n",
       "$smoking\n",
       "[1] 0\n",
       "\n",
       "$age\n",
       "[1] 21\n"
      ]
     },
     "metadata": {},
     "output_type": "display_data"
    },
    {
     "data": {
      "text/html": [
       "<dl class=dl-horizontal>\n",
       "\t<dt>sex</dt>\n",
       "\t\t<dd>1</dd>\n",
       "\t<dt>smoking</dt>\n",
       "\t\t<dd>0</dd>\n",
       "\t<dt>age</dt>\n",
       "\t\t<dd>21</dd>\n",
       "</dl>\n"
      ],
      "text/latex": [
       "\\begin{description*}\n",
       "\\item[sex] 1\n",
       "\\item[smoking] 0\n",
       "\\item[age] 21\n",
       "\\end{description*}\n"
      ],
      "text/markdown": [
       "sex\n",
       ":   1smoking\n",
       ":   0age\n",
       ":   21\n",
       "\n"
      ],
      "text/plain": [
       "    sex smoking     age \n",
       "      1       0      21 "
      ]
     },
     "metadata": {},
     "output_type": "display_data"
    }
   ],
   "source": [
    "lapply(mylist, min)\n",
    "sapply(mylist, min) "
   ]
  },
  {
   "cell_type": "code",
   "execution_count": 27,
   "id": "cabbade5",
   "metadata": {},
   "outputs": [
    {
     "data": {
      "text/html": [
       "<table>\n",
       "<tbody>\n",
       "\t<tr><td>1 </td><td>2 </td><td>NA</td><td>3 </td><td>4 </td></tr>\n",
       "\t<tr><td>5 </td><td>6 </td><td> 7</td><td>8 </td><td>9 </td></tr>\n",
       "</tbody>\n",
       "</table>\n"
      ],
      "text/latex": [
       "\\begin{tabular}{lllll}\n",
       "\t 1  & 2  & NA & 3  & 4 \\\\\n",
       "\t 5  & 6  &  7 & 8  & 9 \\\\\n",
       "\\end{tabular}\n"
      ],
      "text/markdown": [
       "\n",
       "| 1  | 2  | NA | 3  | 4  |\n",
       "| 5  | 6  |  7 | 8  | 9  |\n",
       "\n"
      ],
      "text/plain": [
       "     [,1] [,2] [,3] [,4] [,5]\n",
       "[1,] 1    2    NA   3    4   \n",
       "[2,] 5    6     7   8    9   "
      ]
     },
     "metadata": {},
     "output_type": "display_data"
    },
    {
     "data": {
      "text/html": [
       "<ol class=list-inline>\n",
       "\t<li>10</li>\n",
       "\t<li>35</li>\n",
       "</ol>\n"
      ],
      "text/latex": [
       "\\begin{enumerate*}\n",
       "\\item 10\n",
       "\\item 35\n",
       "\\end{enumerate*}\n"
      ],
      "text/markdown": [
       "1. 10\n",
       "2. 35\n",
       "\n",
       "\n"
      ],
      "text/plain": [
       "[1] 10 35"
      ]
     },
     "metadata": {},
     "output_type": "display_data"
    },
    {
     "data": {
      "text/html": [
       "<ol class=list-inline>\n",
       "\t<li>3</li>\n",
       "\t<li>4</li>\n",
       "\t<li>7</li>\n",
       "\t<li>5.5</li>\n",
       "\t<li>6.5</li>\n",
       "</ol>\n"
      ],
      "text/latex": [
       "\\begin{enumerate*}\n",
       "\\item 3\n",
       "\\item 4\n",
       "\\item 7\n",
       "\\item 5.5\n",
       "\\item 6.5\n",
       "\\end{enumerate*}\n"
      ],
      "text/markdown": [
       "1. 3\n",
       "2. 4\n",
       "3. 7\n",
       "4. 5.5\n",
       "5. 6.5\n",
       "\n",
       "\n"
      ],
      "text/plain": [
       "[1] 3.0 4.0 7.0 5.5 6.5"
      ]
     },
     "metadata": {},
     "output_type": "display_data"
    }
   ],
   "source": [
    "zz=matrix(c(c(1,2,NA), c(3,4,5), 6:9), nrow = 2, ncol = 5, byrow = TRUE)\n",
    "zz\n",
    "apply(zz,1,sum,na.rm=T) \n",
    "apply(zz,2,mean,na.rm=T)"
   ]
  },
  {
   "cell_type": "code",
   "execution_count": 28,
   "id": "b1a05158",
   "metadata": {},
   "outputs": [],
   "source": [
    "library(dplyr)"
   ]
  },
  {
   "cell_type": "code",
   "execution_count": 29,
   "id": "5e5a5729",
   "metadata": {},
   "outputs": [
    {
     "data": {
      "text/html": [
       "<table>\n",
       "<thead><tr><th></th><th scope=col>hp</th><th scope=col>drat</th><th scope=col>wt</th><th scope=col>qsec</th><th scope=col>vs</th></tr></thead>\n",
       "<tbody>\n",
       "\t<tr><th scope=row>Mazda RX4</th><td>110  </td><td>3.90 </td><td>2.620</td><td>16.46</td><td>0    </td></tr>\n",
       "\t<tr><th scope=row>Mazda RX4 Wag</th><td>110  </td><td>3.90 </td><td>2.875</td><td>17.02</td><td>0    </td></tr>\n",
       "\t<tr><th scope=row>Datsun 710</th><td> 93  </td><td>3.85 </td><td>2.320</td><td>18.61</td><td>1    </td></tr>\n",
       "\t<tr><th scope=row>Hornet 4 Drive</th><td>110  </td><td>3.08 </td><td>3.215</td><td>19.44</td><td>1    </td></tr>\n",
       "\t<tr><th scope=row>Hornet Sportabout</th><td>175  </td><td>3.15 </td><td>3.440</td><td>17.02</td><td>0    </td></tr>\n",
       "\t<tr><th scope=row>Valiant</th><td>105  </td><td>2.76 </td><td>3.460</td><td>20.22</td><td>1    </td></tr>\n",
       "</tbody>\n",
       "</table>\n"
      ],
      "text/latex": [
       "\\begin{tabular}{r|lllll}\n",
       "  & hp & drat & wt & qsec & vs\\\\\n",
       "\\hline\n",
       "\tMazda RX4 & 110   & 3.90  & 2.620 & 16.46 & 0    \\\\\n",
       "\tMazda RX4 Wag & 110   & 3.90  & 2.875 & 17.02 & 0    \\\\\n",
       "\tDatsun 710 &  93   & 3.85  & 2.320 & 18.61 & 1    \\\\\n",
       "\tHornet 4 Drive & 110   & 3.08  & 3.215 & 19.44 & 1    \\\\\n",
       "\tHornet Sportabout & 175   & 3.15  & 3.440 & 17.02 & 0    \\\\\n",
       "\tValiant & 105   & 2.76  & 3.460 & 20.22 & 1    \\\\\n",
       "\\end{tabular}\n"
      ],
      "text/markdown": [
       "\n",
       "| <!--/--> | hp | drat | wt | qsec | vs |\n",
       "|---|---|---|---|---|---|\n",
       "| Mazda RX4 | 110   | 3.90  | 2.620 | 16.46 | 0     |\n",
       "| Mazda RX4 Wag | 110   | 3.90  | 2.875 | 17.02 | 0     |\n",
       "| Datsun 710 |  93   | 3.85  | 2.320 | 18.61 | 1     |\n",
       "| Hornet 4 Drive | 110   | 3.08  | 3.215 | 19.44 | 1     |\n",
       "| Hornet Sportabout | 175   | 3.15  | 3.440 | 17.02 | 0     |\n",
       "| Valiant | 105   | 2.76  | 3.460 | 20.22 | 1     |\n",
       "\n"
      ],
      "text/plain": [
       "                  hp  drat wt    qsec  vs\n",
       "Mazda RX4         110 3.90 2.620 16.46 0 \n",
       "Mazda RX4 Wag     110 3.90 2.875 17.02 0 \n",
       "Datsun 710         93 3.85 2.320 18.61 1 \n",
       "Hornet 4 Drive    110 3.08 3.215 19.44 1 \n",
       "Hornet Sportabout 175 3.15 3.440 17.02 0 \n",
       "Valiant           105 2.76 3.460 20.22 1 "
      ]
     },
     "metadata": {},
     "output_type": "display_data"
    }
   ],
   "source": [
    "b=mtcars[,4:8]\n",
    "head(b)"
   ]
  },
  {
   "cell_type": "code",
   "execution_count": 30,
   "id": "be806fd2",
   "metadata": {},
   "outputs": [
    {
     "data": {
      "text/html": [
       "<table>\n",
       "<thead><tr><th></th><th scope=col>hp</th><th scope=col>drat</th><th scope=col>wt</th><th scope=col>qsec</th><th scope=col>vs</th></tr></thead>\n",
       "<tbody>\n",
       "\t<tr><th scope=row>Mazda RX4</th><td>110  </td><td>3.90 </td><td>2.620</td><td>16.46</td><td>0    </td></tr>\n",
       "\t<tr><th scope=row>Mazda RX4 Wag</th><td>110  </td><td>3.90 </td><td>2.875</td><td>17.02</td><td>0    </td></tr>\n",
       "\t<tr><th scope=row>Datsun 710</th><td> 93  </td><td>3.85 </td><td>2.320</td><td>18.61</td><td>1    </td></tr>\n",
       "\t<tr><th scope=row>Hornet 4 Drive</th><td>110  </td><td>3.08 </td><td>3.215</td><td>19.44</td><td>1    </td></tr>\n",
       "\t<tr><th scope=row>Hornet Sportabout</th><td>175  </td><td>3.15 </td><td>3.440</td><td>17.02</td><td>0    </td></tr>\n",
       "\t<tr><th scope=row>Valiant</th><td>105  </td><td>2.76 </td><td>3.460</td><td>20.22</td><td>1    </td></tr>\n",
       "</tbody>\n",
       "</table>\n"
      ],
      "text/latex": [
       "\\begin{tabular}{r|lllll}\n",
       "  & hp & drat & wt & qsec & vs\\\\\n",
       "\\hline\n",
       "\tMazda RX4 & 110   & 3.90  & 2.620 & 16.46 & 0    \\\\\n",
       "\tMazda RX4 Wag & 110   & 3.90  & 2.875 & 17.02 & 0    \\\\\n",
       "\tDatsun 710 &  93   & 3.85  & 2.320 & 18.61 & 1    \\\\\n",
       "\tHornet 4 Drive & 110   & 3.08  & 3.215 & 19.44 & 1    \\\\\n",
       "\tHornet Sportabout & 175   & 3.15  & 3.440 & 17.02 & 0    \\\\\n",
       "\tValiant & 105   & 2.76  & 3.460 & 20.22 & 1    \\\\\n",
       "\\end{tabular}\n"
      ],
      "text/markdown": [
       "\n",
       "| <!--/--> | hp | drat | wt | qsec | vs |\n",
       "|---|---|---|---|---|---|\n",
       "| Mazda RX4 | 110   | 3.90  | 2.620 | 16.46 | 0     |\n",
       "| Mazda RX4 Wag | 110   | 3.90  | 2.875 | 17.02 | 0     |\n",
       "| Datsun 710 |  93   | 3.85  | 2.320 | 18.61 | 1     |\n",
       "| Hornet 4 Drive | 110   | 3.08  | 3.215 | 19.44 | 1     |\n",
       "| Hornet Sportabout | 175   | 3.15  | 3.440 | 17.02 | 0     |\n",
       "| Valiant | 105   | 2.76  | 3.460 | 20.22 | 1     |\n",
       "\n"
      ],
      "text/plain": [
       "                  hp  drat wt    qsec  vs\n",
       "Mazda RX4         110 3.90 2.620 16.46 0 \n",
       "Mazda RX4 Wag     110 3.90 2.875 17.02 0 \n",
       "Datsun 710         93 3.85 2.320 18.61 1 \n",
       "Hornet 4 Drive    110 3.08 3.215 19.44 1 \n",
       "Hornet Sportabout 175 3.15 3.440 17.02 0 \n",
       "Valiant           105 2.76 3.460 20.22 1 "
      ]
     },
     "metadata": {},
     "output_type": "display_data"
    }
   ],
   "source": [
    "head(select(mtcars,hp:vs))"
   ]
  },
  {
   "cell_type": "code",
   "execution_count": 31,
   "id": "ffa6b84a",
   "metadata": {},
   "outputs": [
    {
     "data": {
      "text/html": [
       "<table>\n",
       "<thead><tr><th></th><th scope=col>mpg</th><th scope=col>cyl</th><th scope=col>disp</th><th scope=col>hp</th><th scope=col>drat</th><th scope=col>wt</th><th scope=col>qsec</th><th scope=col>vs</th><th scope=col>am</th><th scope=col>gear</th><th scope=col>carb</th><th scope=col>wt1000</th></tr></thead>\n",
       "<tbody>\n",
       "\t<tr><th scope=row>Mazda RX4</th><td>21.0 </td><td>6    </td><td>160  </td><td>110  </td><td>3.90 </td><td>2.620</td><td>16.46</td><td>0    </td><td>1    </td><td>4    </td><td>4    </td><td>2620 </td></tr>\n",
       "\t<tr><th scope=row>Mazda RX4 Wag</th><td>21.0 </td><td>6    </td><td>160  </td><td>110  </td><td>3.90 </td><td>2.875</td><td>17.02</td><td>0    </td><td>1    </td><td>4    </td><td>4    </td><td>2875 </td></tr>\n",
       "\t<tr><th scope=row>Hornet 4 Drive</th><td>21.4 </td><td>6    </td><td>258  </td><td>110  </td><td>3.08 </td><td>3.215</td><td>19.44</td><td>1    </td><td>0    </td><td>3    </td><td>1    </td><td>3215 </td></tr>\n",
       "\t<tr><th scope=row>Hornet Sportabout</th><td>18.7 </td><td>8    </td><td>360  </td><td>175  </td><td>3.15 </td><td>3.440</td><td>17.02</td><td>0    </td><td>0    </td><td>3    </td><td>2    </td><td>3440 </td></tr>\n",
       "\t<tr><th scope=row>Valiant</th><td>18.1 </td><td>6    </td><td>225  </td><td>105  </td><td>2.76 </td><td>3.460</td><td>20.22</td><td>1    </td><td>0    </td><td>3    </td><td>1    </td><td>3460 </td></tr>\n",
       "\t<tr><th scope=row>Duster 360</th><td>14.3 </td><td>8    </td><td>360  </td><td>245  </td><td>3.21 </td><td>3.570</td><td>15.84</td><td>0    </td><td>0    </td><td>3    </td><td>4    </td><td>3570 </td></tr>\n",
       "</tbody>\n",
       "</table>\n"
      ],
      "text/latex": [
       "\\begin{tabular}{r|llllllllllll}\n",
       "  & mpg & cyl & disp & hp & drat & wt & qsec & vs & am & gear & carb & wt1000\\\\\n",
       "\\hline\n",
       "\tMazda RX4 & 21.0  & 6     & 160   & 110   & 3.90  & 2.620 & 16.46 & 0     & 1     & 4     & 4     & 2620 \\\\\n",
       "\tMazda RX4 Wag & 21.0  & 6     & 160   & 110   & 3.90  & 2.875 & 17.02 & 0     & 1     & 4     & 4     & 2875 \\\\\n",
       "\tHornet 4 Drive & 21.4  & 6     & 258   & 110   & 3.08  & 3.215 & 19.44 & 1     & 0     & 3     & 1     & 3215 \\\\\n",
       "\tHornet Sportabout & 18.7  & 8     & 360   & 175   & 3.15  & 3.440 & 17.02 & 0     & 0     & 3     & 2     & 3440 \\\\\n",
       "\tValiant & 18.1  & 6     & 225   & 105   & 2.76  & 3.460 & 20.22 & 1     & 0     & 3     & 1     & 3460 \\\\\n",
       "\tDuster 360 & 14.3  & 8     & 360   & 245   & 3.21  & 3.570 & 15.84 & 0     & 0     & 3     & 4     & 3570 \\\\\n",
       "\\end{tabular}\n"
      ],
      "text/markdown": [
       "\n",
       "| <!--/--> | mpg | cyl | disp | hp | drat | wt | qsec | vs | am | gear | carb | wt1000 |\n",
       "|---|---|---|---|---|---|---|---|---|---|---|---|---|\n",
       "| Mazda RX4 | 21.0  | 6     | 160   | 110   | 3.90  | 2.620 | 16.46 | 0     | 1     | 4     | 4     | 2620  |\n",
       "| Mazda RX4 Wag | 21.0  | 6     | 160   | 110   | 3.90  | 2.875 | 17.02 | 0     | 1     | 4     | 4     | 2875  |\n",
       "| Hornet 4 Drive | 21.4  | 6     | 258   | 110   | 3.08  | 3.215 | 19.44 | 1     | 0     | 3     | 1     | 3215  |\n",
       "| Hornet Sportabout | 18.7  | 8     | 360   | 175   | 3.15  | 3.440 | 17.02 | 0     | 0     | 3     | 2     | 3440  |\n",
       "| Valiant | 18.1  | 6     | 225   | 105   | 2.76  | 3.460 | 20.22 | 1     | 0     | 3     | 1     | 3460  |\n",
       "| Duster 360 | 14.3  | 8     | 360   | 245   | 3.21  | 3.570 | 15.84 | 0     | 0     | 3     | 4     | 3570  |\n",
       "\n"
      ],
      "text/plain": [
       "                  mpg  cyl disp hp  drat wt    qsec  vs am gear carb wt1000\n",
       "Mazda RX4         21.0 6   160  110 3.90 2.620 16.46 0  1  4    4    2620  \n",
       "Mazda RX4 Wag     21.0 6   160  110 3.90 2.875 17.02 0  1  4    4    2875  \n",
       "Hornet 4 Drive    21.4 6   258  110 3.08 3.215 19.44 1  0  3    1    3215  \n",
       "Hornet Sportabout 18.7 8   360  175 3.15 3.440 17.02 0  0  3    2    3440  \n",
       "Valiant           18.1 6   225  105 2.76 3.460 20.22 1  0  3    1    3460  \n",
       "Duster 360        14.3 8   360  245 3.21 3.570 15.84 0  0  3    4    3570  "
      ]
     },
     "metadata": {},
     "output_type": "display_data"
    }
   ],
   "source": [
    "mtcars_c=mtcars[mtcars$hp>100,]\n",
    "head(mtcars_c)"
   ]
  },
  {
   "cell_type": "code",
   "execution_count": 32,
   "id": "7da449e9",
   "metadata": {},
   "outputs": [
    {
     "data": {
      "text/html": [
       "<table>\n",
       "<thead><tr><th></th><th scope=col>mpg</th><th scope=col>cyl</th><th scope=col>disp</th><th scope=col>hp</th><th scope=col>drat</th><th scope=col>wt</th><th scope=col>qsec</th><th scope=col>vs</th><th scope=col>am</th><th scope=col>gear</th><th scope=col>carb</th><th scope=col>wt1000</th></tr></thead>\n",
       "<tbody>\n",
       "\t<tr><th scope=row>Cadillac Fleetwood</th><td>10.4 </td><td>8    </td><td>472  </td><td>205  </td><td>2.93 </td><td>5.250</td><td>17.98</td><td>0    </td><td>0    </td><td>3    </td><td>4    </td><td>5250 </td></tr>\n",
       "\t<tr><th scope=row>Lincoln Continental</th><td>10.4 </td><td>8    </td><td>460  </td><td>215  </td><td>3.00 </td><td>5.424</td><td>17.82</td><td>0    </td><td>0    </td><td>3    </td><td>4    </td><td>5424 </td></tr>\n",
       "\t<tr><th scope=row>Camaro Z28</th><td>13.3 </td><td>8    </td><td>350  </td><td>245  </td><td>3.73 </td><td>3.840</td><td>15.41</td><td>0    </td><td>0    </td><td>3    </td><td>4    </td><td>3840 </td></tr>\n",
       "\t<tr><th scope=row>Duster 360</th><td>14.3 </td><td>8    </td><td>360  </td><td>245  </td><td>3.21 </td><td>3.570</td><td>15.84</td><td>0    </td><td>0    </td><td>3    </td><td>4    </td><td>3570 </td></tr>\n",
       "\t<tr><th scope=row>Chrysler Imperial</th><td>14.7 </td><td>8    </td><td>440  </td><td>230  </td><td>3.23 </td><td>5.345</td><td>17.42</td><td>0    </td><td>0    </td><td>3    </td><td>4    </td><td>5345 </td></tr>\n",
       "\t<tr><th scope=row>Maserati Bora</th><td>15.0 </td><td>8    </td><td>301  </td><td>335  </td><td>3.54 </td><td>3.570</td><td>14.60</td><td>0    </td><td>1    </td><td>5    </td><td>8    </td><td>3570 </td></tr>\n",
       "</tbody>\n",
       "</table>\n"
      ],
      "text/latex": [
       "\\begin{tabular}{r|llllllllllll}\n",
       "  & mpg & cyl & disp & hp & drat & wt & qsec & vs & am & gear & carb & wt1000\\\\\n",
       "\\hline\n",
       "\tCadillac Fleetwood & 10.4  & 8     & 472   & 205   & 2.93  & 5.250 & 17.98 & 0     & 0     & 3     & 4     & 5250 \\\\\n",
       "\tLincoln Continental & 10.4  & 8     & 460   & 215   & 3.00  & 5.424 & 17.82 & 0     & 0     & 3     & 4     & 5424 \\\\\n",
       "\tCamaro Z28 & 13.3  & 8     & 350   & 245   & 3.73  & 3.840 & 15.41 & 0     & 0     & 3     & 4     & 3840 \\\\\n",
       "\tDuster 360 & 14.3  & 8     & 360   & 245   & 3.21  & 3.570 & 15.84 & 0     & 0     & 3     & 4     & 3570 \\\\\n",
       "\tChrysler Imperial & 14.7  & 8     & 440   & 230   & 3.23  & 5.345 & 17.42 & 0     & 0     & 3     & 4     & 5345 \\\\\n",
       "\tMaserati Bora & 15.0  & 8     & 301   & 335   & 3.54  & 3.570 & 14.60 & 0     & 1     & 5     & 8     & 3570 \\\\\n",
       "\\end{tabular}\n"
      ],
      "text/markdown": [
       "\n",
       "| <!--/--> | mpg | cyl | disp | hp | drat | wt | qsec | vs | am | gear | carb | wt1000 |\n",
       "|---|---|---|---|---|---|---|---|---|---|---|---|---|\n",
       "| Cadillac Fleetwood | 10.4  | 8     | 472   | 205   | 2.93  | 5.250 | 17.98 | 0     | 0     | 3     | 4     | 5250  |\n",
       "| Lincoln Continental | 10.4  | 8     | 460   | 215   | 3.00  | 5.424 | 17.82 | 0     | 0     | 3     | 4     | 5424  |\n",
       "| Camaro Z28 | 13.3  | 8     | 350   | 245   | 3.73  | 3.840 | 15.41 | 0     | 0     | 3     | 4     | 3840  |\n",
       "| Duster 360 | 14.3  | 8     | 360   | 245   | 3.21  | 3.570 | 15.84 | 0     | 0     | 3     | 4     | 3570  |\n",
       "| Chrysler Imperial | 14.7  | 8     | 440   | 230   | 3.23  | 5.345 | 17.42 | 0     | 0     | 3     | 4     | 5345  |\n",
       "| Maserati Bora | 15.0  | 8     | 301   | 335   | 3.54  | 3.570 | 14.60 | 0     | 1     | 5     | 8     | 3570  |\n",
       "\n"
      ],
      "text/plain": [
       "                    mpg  cyl disp hp  drat wt    qsec  vs am gear carb wt1000\n",
       "Cadillac Fleetwood  10.4 8   472  205 2.93 5.250 17.98 0  0  3    4    5250  \n",
       "Lincoln Continental 10.4 8   460  215 3.00 5.424 17.82 0  0  3    4    5424  \n",
       "Camaro Z28          13.3 8   350  245 3.73 3.840 15.41 0  0  3    4    3840  \n",
       "Duster 360          14.3 8   360  245 3.21 3.570 15.84 0  0  3    4    3570  \n",
       "Chrysler Imperial   14.7 8   440  230 3.23 5.345 17.42 0  0  3    4    5345  \n",
       "Maserati Bora       15.0 8   301  335 3.54 3.570 14.60 0  1  5    8    3570  "
      ]
     },
     "metadata": {},
     "output_type": "display_data"
    }
   ],
   "source": [
    "head(mtcars[order(mtcars$mpg),])"
   ]
  },
  {
   "cell_type": "code",
   "execution_count": 33,
   "id": "f9774475",
   "metadata": {},
   "outputs": [
    {
     "data": {
      "text/html": [
       "<table>\n",
       "<thead><tr><th></th><th scope=col>mpg</th><th scope=col>cyl</th><th scope=col>disp</th><th scope=col>hp</th><th scope=col>drat</th><th scope=col>wt</th><th scope=col>qsec</th><th scope=col>vs</th><th scope=col>am</th><th scope=col>gear</th><th scope=col>carb</th><th scope=col>wt1000</th></tr></thead>\n",
       "<tbody>\n",
       "\t<tr><th scope=row>Mazda RX4</th><td>21.0 </td><td>6    </td><td>160  </td><td>110  </td><td>3.90 </td><td>2.620</td><td>16.46</td><td>0    </td><td>1    </td><td>4    </td><td>4    </td><td>2620 </td></tr>\n",
       "\t<tr><th scope=row>Mazda RX4 Wag</th><td>21.0 </td><td>6    </td><td>160  </td><td>110  </td><td>3.90 </td><td>2.875</td><td>17.02</td><td>0    </td><td>1    </td><td>4    </td><td>4    </td><td>2875 </td></tr>\n",
       "\t<tr><th scope=row>Datsun 710</th><td>22.8 </td><td>4    </td><td>108  </td><td> 93  </td><td>3.85 </td><td>2.320</td><td>18.61</td><td>1    </td><td>1    </td><td>4    </td><td>1    </td><td>2320 </td></tr>\n",
       "\t<tr><th scope=row>Hornet 4 Drive</th><td>21.4 </td><td>6    </td><td>258  </td><td>110  </td><td>3.08 </td><td>3.215</td><td>19.44</td><td>1    </td><td>0    </td><td>3    </td><td>1    </td><td>3215 </td></tr>\n",
       "\t<tr><th scope=row>Hornet Sportabout</th><td>18.7 </td><td>8    </td><td>360  </td><td>175  </td><td>3.15 </td><td>3.440</td><td>17.02</td><td>0    </td><td>0    </td><td>3    </td><td>2    </td><td>3440 </td></tr>\n",
       "\t<tr><th scope=row>Valiant</th><td>18.1 </td><td>6    </td><td>225  </td><td>105  </td><td>2.76 </td><td>3.460</td><td>20.22</td><td>1    </td><td>0    </td><td>3    </td><td>1    </td><td>3460 </td></tr>\n",
       "</tbody>\n",
       "</table>\n"
      ],
      "text/latex": [
       "\\begin{tabular}{r|llllllllllll}\n",
       "  & mpg & cyl & disp & hp & drat & wt & qsec & vs & am & gear & carb & wt1000\\\\\n",
       "\\hline\n",
       "\tMazda RX4 & 21.0  & 6     & 160   & 110   & 3.90  & 2.620 & 16.46 & 0     & 1     & 4     & 4     & 2620 \\\\\n",
       "\tMazda RX4 Wag & 21.0  & 6     & 160   & 110   & 3.90  & 2.875 & 17.02 & 0     & 1     & 4     & 4     & 2875 \\\\\n",
       "\tDatsun 710 & 22.8  & 4     & 108   &  93   & 3.85  & 2.320 & 18.61 & 1     & 1     & 4     & 1     & 2320 \\\\\n",
       "\tHornet 4 Drive & 21.4  & 6     & 258   & 110   & 3.08  & 3.215 & 19.44 & 1     & 0     & 3     & 1     & 3215 \\\\\n",
       "\tHornet Sportabout & 18.7  & 8     & 360   & 175   & 3.15  & 3.440 & 17.02 & 0     & 0     & 3     & 2     & 3440 \\\\\n",
       "\tValiant & 18.1  & 6     & 225   & 105   & 2.76  & 3.460 & 20.22 & 1     & 0     & 3     & 1     & 3460 \\\\\n",
       "\\end{tabular}\n"
      ],
      "text/markdown": [
       "\n",
       "| <!--/--> | mpg | cyl | disp | hp | drat | wt | qsec | vs | am | gear | carb | wt1000 |\n",
       "|---|---|---|---|---|---|---|---|---|---|---|---|---|\n",
       "| Mazda RX4 | 21.0  | 6     | 160   | 110   | 3.90  | 2.620 | 16.46 | 0     | 1     | 4     | 4     | 2620  |\n",
       "| Mazda RX4 Wag | 21.0  | 6     | 160   | 110   | 3.90  | 2.875 | 17.02 | 0     | 1     | 4     | 4     | 2875  |\n",
       "| Datsun 710 | 22.8  | 4     | 108   |  93   | 3.85  | 2.320 | 18.61 | 1     | 1     | 4     | 1     | 2320  |\n",
       "| Hornet 4 Drive | 21.4  | 6     | 258   | 110   | 3.08  | 3.215 | 19.44 | 1     | 0     | 3     | 1     | 3215  |\n",
       "| Hornet Sportabout | 18.7  | 8     | 360   | 175   | 3.15  | 3.440 | 17.02 | 0     | 0     | 3     | 2     | 3440  |\n",
       "| Valiant | 18.1  | 6     | 225   | 105   | 2.76  | 3.460 | 20.22 | 1     | 0     | 3     | 1     | 3460  |\n",
       "\n"
      ],
      "text/plain": [
       "                  mpg  cyl disp hp  drat wt    qsec  vs am gear carb wt1000\n",
       "Mazda RX4         21.0 6   160  110 3.90 2.620 16.46 0  1  4    4    2620  \n",
       "Mazda RX4 Wag     21.0 6   160  110 3.90 2.875 17.02 0  1  4    4    2875  \n",
       "Datsun 710        22.8 4   108   93 3.85 2.320 18.61 1  1  4    1    2320  \n",
       "Hornet 4 Drive    21.4 6   258  110 3.08 3.215 19.44 1  0  3    1    3215  \n",
       "Hornet Sportabout 18.7 8   360  175 3.15 3.440 17.02 0  0  3    2    3440  \n",
       "Valiant           18.1 6   225  105 2.76 3.460 20.22 1  0  3    1    3460  "
      ]
     },
     "metadata": {},
     "output_type": "display_data"
    }
   ],
   "source": [
    "mtcars$wt1000=mtcars$wt * 1000\n",
    "head(mtcars)"
   ]
  },
  {
   "cell_type": "code",
   "execution_count": null,
   "id": "477c59e0",
   "metadata": {},
   "outputs": [],
   "source": []
  }
 ],
 "metadata": {
  "kernelspec": {
   "display_name": "R",
   "language": "R",
   "name": "ir"
  },
  "language_info": {
   "codemirror_mode": "r",
   "file_extension": ".r",
   "mimetype": "text/x-r-source",
   "name": "R",
   "pygments_lexer": "r",
   "version": "3.6.1"
  }
 },
 "nbformat": 4,
 "nbformat_minor": 5
}
