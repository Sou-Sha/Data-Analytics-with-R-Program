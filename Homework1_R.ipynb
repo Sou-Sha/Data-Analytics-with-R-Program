{
  "cells": [
    {
      "cell_type": "code",
      "execution_count": 1,
      "id": "443ba876",
      "metadata": {
        "colab": {
          "base_uri": "https://localhost:8080/",
          "height": 34
        },
        "id": "443ba876",
        "outputId": "edcfe8e6-fe88-4e36-c453-c2bc4bf24983"
      },
      "outputs": [
        {
          "output_type": "display_data",
          "data": {
            "text/plain": [
              "         Asia        Africa North America South America    Antarctica \n",
              "        16988         11506          9390          6795          5500 \n",
              "       Europe     Australia \n",
              "         3745          2968 "
            ],
            "text/latex": "\\begin{description*}\n\\item[Asia] 16988\n\\item[Africa] 11506\n\\item[North America] 9390\n\\item[South America] 6795\n\\item[Antarctica] 5500\n\\item[Europe] 3745\n\\item[Australia] 2968\n\\end{description*}\n",
            "text/markdown": "Asia\n:   16988Africa\n:   11506North America\n:   9390South America\n:   6795Antarctica\n:   5500Europe\n:   3745Australia\n:   2968\n\n",
            "text/html": [
              "<style>\n",
              ".dl-inline {width: auto; margin:0; padding: 0}\n",
              ".dl-inline>dt, .dl-inline>dd {float: none; width: auto; display: inline-block}\n",
              ".dl-inline>dt::after {content: \":\\0020\"; padding-right: .5ex}\n",
              ".dl-inline>dt:not(:first-of-type) {padding-left: .5ex}\n",
              "</style><dl class=dl-inline><dt>Asia</dt><dd>16988</dd><dt>Africa</dt><dd>11506</dd><dt>North America</dt><dd>9390</dd><dt>South America</dt><dd>6795</dd><dt>Antarctica</dt><dd>5500</dd><dt>Europe</dt><dd>3745</dd><dt>Australia</dt><dd>2968</dd></dl>\n"
            ]
          },
          "metadata": {}
        }
      ],
      "source": [
        "# Q1.20\n",
        "sort(islands, decreasing=TRUE)[1:7]"
      ]
    },
    {
      "cell_type": "code",
      "execution_count": 5,
      "id": "60dba1a9",
      "metadata": {
        "colab": {
          "base_uri": "https://localhost:8080/"
        },
        "id": "60dba1a9",
        "outputId": "1ddd80c7-3c5c-4a19-96b4-421af76bb8f6"
      },
      "outputs": [
        {
          "output_type": "stream",
          "name": "stderr",
          "text": [
            "Installing package into ‘/usr/local/lib/R/site-library’\n",
            "(as ‘lib’ is unspecified)\n",
            "\n",
            "Installing package into ‘/usr/local/lib/R/site-library’\n",
            "(as ‘lib’ is unspecified)\n",
            "\n",
            "also installing the dependencies ‘png’, ‘jpeg’, ‘checkmate’, ‘htmlwidgets’, ‘Formula’, ‘latticeExtra’, ‘gridExtra’, ‘htmlTable’, ‘viridis’\n",
            "\n",
            "\n",
            "Warning message in install.packages(\"Hmisc\"):\n",
            "“installation of package ‘png’ had non-zero exit status”\n",
            "Warning message in install.packages(\"Hmisc\"):\n",
            "“installation of package ‘latticeExtra’ had non-zero exit status”\n",
            "Warning message in install.packages(\"Hmisc\"):\n",
            "“installation of package ‘Hmisc’ had non-zero exit status”\n",
            "Installing package into ‘/usr/local/lib/R/site-library’\n",
            "(as ‘lib’ is unspecified)\n",
            "\n",
            "Installing package into ‘/usr/local/lib/R/site-library’\n",
            "(as ‘lib’ is unspecified)\n",
            "\n",
            "also installing the dependencies ‘png’, ‘latticeExtra’, ‘Hmisc’\n",
            "\n",
            "\n"
          ]
        }
      ],
      "source": [
        "# packages HistData, Formula, Hmisc, UsingR were not available\n",
        "install.packages(\"HistData\")\n",
        "install.packages(\"Hmisc\")\n",
        "install.packages(\"Formula\")\n",
        "install.packages(\"UsingR\")"
      ]
    },
    {
      "cell_type": "code",
      "execution_count": 6,
      "id": "8ce5aeee",
      "metadata": {
        "colab": {
          "base_uri": "https://localhost:8080/"
        },
        "id": "8ce5aeee",
        "outputId": "4358caad-d5f9-40c0-b1c6-5848243d94a3"
      },
      "outputs": [
        {
          "output_type": "stream",
          "name": "stderr",
          "text": [
            "\n",
            "Attaching package: ‘Hmisc’\n",
            "\n",
            "\n",
            "The following objects are masked from ‘package:base’:\n",
            "\n",
            "    format.pval, units\n",
            "\n",
            "\n",
            "\n",
            "Attaching package: ‘UsingR’\n",
            "\n",
            "\n",
            "The following object is masked from ‘package:survival’:\n",
            "\n",
            "    cancer\n",
            "\n",
            "\n"
          ]
        }
      ],
      "source": [
        "library(MASS)\n",
        "library(HistData)\n",
        "library(lattice)\n",
        "library(survival)\n",
        "library(Formula)\n",
        "library(ggplot2)\n",
        "library(Hmisc)\n",
        "library(UsingR)"
      ]
    },
    {
      "cell_type": "code",
      "execution_count": 7,
      "id": "76735f64",
      "metadata": {
        "colab": {
          "base_uri": "https://localhost:8080/",
          "height": 34
        },
        "id": "76735f64",
        "outputId": "4ee49dcf-26da-4eb2-c0ed-74e3a22edc43"
      },
      "outputs": [
        {
          "output_type": "display_data",
          "data": {
            "text/plain": [
              "[1] 304"
            ],
            "text/latex": "304",
            "text/markdown": "304",
            "text/html": [
              "304"
            ]
          },
          "metadata": {}
        }
      ],
      "source": [
        "# Q1.21\n",
        "data(\"primes\")\n",
        "length(primes)"
      ]
    },
    {
      "cell_type": "code",
      "execution_count": 8,
      "id": "2b1d9737",
      "metadata": {
        "colab": {
          "base_uri": "https://localhost:8080/",
          "height": 34
        },
        "id": "2b1d9737",
        "outputId": "fa598df2-e69f-46be-98e2-950d53d7fefd"
      },
      "outputs": [
        {
          "output_type": "display_data",
          "data": {
            "text/plain": [
              "[1] 25"
            ],
            "text/latex": "25",
            "text/markdown": "25",
            "text/html": [
              "25"
            ]
          },
          "metadata": {}
        }
      ],
      "source": [
        "# (Q 1.21)How many in the range [1,100]?\n",
        "length(primes[primes<=100])"
      ]
    },
    {
      "cell_type": "code",
      "execution_count": 9,
      "id": "dd842eb3",
      "metadata": {
        "colab": {
          "base_uri": "https://localhost:8080/",
          "height": 34
        },
        "id": "dd842eb3",
        "outputId": "c8e3e658-58a0-4a5c-bcd4-d260a0b9ce05"
      },
      "outputs": [
        {
          "output_type": "display_data",
          "data": {
            "text/plain": [
              "[1] 143"
            ],
            "text/latex": "143",
            "text/markdown": "143",
            "text/html": [
              "143"
            ]
          },
          "metadata": {}
        }
      ],
      "source": [
        "# (Q 1.21)How many in the range [100,1000]?\n",
        "length(primes[primes>=100 & primes<=1000])"
      ]
    },
    {
      "cell_type": "code",
      "execution_count": 10,
      "id": "974e93f9",
      "metadata": {
        "colab": {
          "base_uri": "https://localhost:8080/",
          "height": 191
        },
        "id": "974e93f9",
        "outputId": "20e65bd9-a976-4aee-fb86-9607f6d85718"
      },
      "outputs": [
        {
          "output_type": "display_data",
          "data": {
            "text/plain": [
              "  [1]    3    5    7   11   13   17   19   23   29   31   37   41   43   47   53\n",
              " [16]   59   61   67   71   73   79   83   89   97  101  103  107  109  113  127\n",
              " [31]  131  137  139  149  151  157  163  167  173  179  181  191  193  197  199\n",
              " [46]  211  223  227  229  233  239  241  251  257  263  269  271  277  281  283\n",
              " [61]  293  307  311  313  317  331  337  347  349  353  359  367  373  379  383\n",
              " [76]  389  397  401  409  419  421  431  433  439  443  449  457  461  463  467\n",
              " [91]  479  487  491  499  503  509  521  523  541  547  557  563  569  571  577\n",
              "[106]  587  593  599  601  607  613  617  619  631  641  643  647  653  659  661\n",
              "[121]  673  677  683  691  701  709  719  727  733  739  743  751  757  761  769\n",
              "[136]  773  787  797  809  811  821  823  827  829  839  853  857  859  863  877\n",
              "[151]  881  883  887  907  911  919  929  937  941  947  953  967  971  977  983\n",
              "[166]  991  997 1009 1013 1019 1021 1031 1033 1039 1049 1051 1061 1063 1069 1087\n",
              "[181] 1091 1093 1097 1103 1109 1117 1123 1129 1151 1153 1163 1171 1181 1187 1193\n",
              "[196] 1201 1213 1217 1223 1229 1231 1237 1249 1259 1277 1279 1283 1289 1291 1297\n",
              "[211] 1301 1303 1307 1319 1321 1327 1361 1367 1373 1381 1399 1409 1423 1427 1429\n",
              "[226] 1433 1439 1447 1451 1453 1459 1471 1481 1483 1487 1489 1493 1499 1511 1523\n",
              "[241] 1531 1543 1549 1553 1559 1567 1571 1579 1583 1597 1601 1607 1609 1613 1619\n",
              "[256] 1621 1627 1637 1657 1663 1667 1669 1693 1697 1699 1709 1721 1723 1733 1741\n",
              "[271] 1747 1753 1759 1777 1783 1787 1789 1801 1811 1823 1831 1847 1861 1867 1871\n",
              "[286] 1873 1877 1879 1889 1901 1907 1913 1931 1933 1949 1951 1973 1979 1987 1993\n",
              "[301] 1997 1999 2003"
            ],
            "text/latex": "\\begin{enumerate*}\n\\item 3\n\\item 5\n\\item 7\n\\item 11\n\\item 13\n\\item 17\n\\item 19\n\\item 23\n\\item 29\n\\item 31\n\\item 37\n\\item 41\n\\item 43\n\\item 47\n\\item 53\n\\item 59\n\\item 61\n\\item 67\n\\item 71\n\\item 73\n\\item 79\n\\item 83\n\\item 89\n\\item 97\n\\item 101\n\\item 103\n\\item 107\n\\item 109\n\\item 113\n\\item 127\n\\item 131\n\\item 137\n\\item 139\n\\item 149\n\\item 151\n\\item 157\n\\item 163\n\\item 167\n\\item 173\n\\item 179\n\\item 181\n\\item 191\n\\item 193\n\\item 197\n\\item 199\n\\item 211\n\\item 223\n\\item 227\n\\item 229\n\\item 233\n\\item 239\n\\item 241\n\\item 251\n\\item 257\n\\item 263\n\\item 269\n\\item 271\n\\item 277\n\\item 281\n\\item 283\n\\item 293\n\\item 307\n\\item 311\n\\item 313\n\\item 317\n\\item 331\n\\item 337\n\\item 347\n\\item 349\n\\item 353\n\\item 359\n\\item 367\n\\item 373\n\\item 379\n\\item 383\n\\item 389\n\\item 397\n\\item 401\n\\item 409\n\\item 419\n\\item 421\n\\item 431\n\\item 433\n\\item 439\n\\item 443\n\\item 449\n\\item 457\n\\item 461\n\\item 463\n\\item 467\n\\item 479\n\\item 487\n\\item 491\n\\item 499\n\\item 503\n\\item 509\n\\item 521\n\\item 523\n\\item 541\n\\item 547\n\\item 557\n\\item 563\n\\item 569\n\\item 571\n\\item 577\n\\item 587\n\\item 593\n\\item 599\n\\item 601\n\\item 607\n\\item 613\n\\item 617\n\\item 619\n\\item 631\n\\item 641\n\\item 643\n\\item 647\n\\item 653\n\\item 659\n\\item 661\n\\item 673\n\\item 677\n\\item 683\n\\item 691\n\\item 701\n\\item 709\n\\item 719\n\\item 727\n\\item 733\n\\item 739\n\\item 743\n\\item 751\n\\item 757\n\\item 761\n\\item 769\n\\item 773\n\\item 787\n\\item 797\n\\item 809\n\\item 811\n\\item 821\n\\item 823\n\\item 827\n\\item 829\n\\item 839\n\\item 853\n\\item 857\n\\item 859\n\\item 863\n\\item 877\n\\item 881\n\\item 883\n\\item 887\n\\item 907\n\\item 911\n\\item 919\n\\item 929\n\\item 937\n\\item 941\n\\item 947\n\\item 953\n\\item 967\n\\item 971\n\\item 977\n\\item 983\n\\item 991\n\\item 997\n\\item 1009\n\\item 1013\n\\item 1019\n\\item 1021\n\\item 1031\n\\item 1033\n\\item 1039\n\\item 1049\n\\item 1051\n\\item 1061\n\\item 1063\n\\item 1069\n\\item 1087\n\\item 1091\n\\item 1093\n\\item 1097\n\\item 1103\n\\item 1109\n\\item 1117\n\\item 1123\n\\item 1129\n\\item 1151\n\\item 1153\n\\item 1163\n\\item 1171\n\\item 1181\n\\item 1187\n\\item 1193\n\\item 1201\n\\item 1213\n\\item 1217\n\\item 1223\n\\item 1229\n\\item 1231\n\\item 1237\n\\item 1249\n\\item 1259\n\\item 1277\n\\item 1279\n\\item 1283\n\\item 1289\n\\item 1291\n\\item 1297\n\\item 1301\n\\item 1303\n\\item 1307\n\\item 1319\n\\item 1321\n\\item 1327\n\\item 1361\n\\item 1367\n\\item 1373\n\\item 1381\n\\item 1399\n\\item 1409\n\\item 1423\n\\item 1427\n\\item 1429\n\\item 1433\n\\item 1439\n\\item 1447\n\\item 1451\n\\item 1453\n\\item 1459\n\\item 1471\n\\item 1481\n\\item 1483\n\\item 1487\n\\item 1489\n\\item 1493\n\\item 1499\n\\item 1511\n\\item 1523\n\\item 1531\n\\item 1543\n\\item 1549\n\\item 1553\n\\item 1559\n\\item 1567\n\\item 1571\n\\item 1579\n\\item 1583\n\\item 1597\n\\item 1601\n\\item 1607\n\\item 1609\n\\item 1613\n\\item 1619\n\\item 1621\n\\item 1627\n\\item 1637\n\\item 1657\n\\item 1663\n\\item 1667\n\\item 1669\n\\item 1693\n\\item 1697\n\\item 1699\n\\item 1709\n\\item 1721\n\\item 1723\n\\item 1733\n\\item 1741\n\\item 1747\n\\item 1753\n\\item 1759\n\\item 1777\n\\item 1783\n\\item 1787\n\\item 1789\n\\item 1801\n\\item 1811\n\\item 1823\n\\item 1831\n\\item 1847\n\\item 1861\n\\item 1867\n\\item 1871\n\\item 1873\n\\item 1877\n\\item 1879\n\\item 1889\n\\item 1901\n\\item 1907\n\\item 1913\n\\item 1931\n\\item 1933\n\\item 1949\n\\item 1951\n\\item 1973\n\\item 1979\n\\item 1987\n\\item 1993\n\\item 1997\n\\item 1999\n\\item 2003\n\\end{enumerate*}\n",
            "text/markdown": "1. 3\n2. 5\n3. 7\n4. 11\n5. 13\n6. 17\n7. 19\n8. 23\n9. 29\n10. 31\n11. 37\n12. 41\n13. 43\n14. 47\n15. 53\n16. 59\n17. 61\n18. 67\n19. 71\n20. 73\n21. 79\n22. 83\n23. 89\n24. 97\n25. 101\n26. 103\n27. 107\n28. 109\n29. 113\n30. 127\n31. 131\n32. 137\n33. 139\n34. 149\n35. 151\n36. 157\n37. 163\n38. 167\n39. 173\n40. 179\n41. 181\n42. 191\n43. 193\n44. 197\n45. 199\n46. 211\n47. 223\n48. 227\n49. 229\n50. 233\n51. 239\n52. 241\n53. 251\n54. 257\n55. 263\n56. 269\n57. 271\n58. 277\n59. 281\n60. 283\n61. 293\n62. 307\n63. 311\n64. 313\n65. 317\n66. 331\n67. 337\n68. 347\n69. 349\n70. 353\n71. 359\n72. 367\n73. 373\n74. 379\n75. 383\n76. 389\n77. 397\n78. 401\n79. 409\n80. 419\n81. 421\n82. 431\n83. 433\n84. 439\n85. 443\n86. 449\n87. 457\n88. 461\n89. 463\n90. 467\n91. 479\n92. 487\n93. 491\n94. 499\n95. 503\n96. 509\n97. 521\n98. 523\n99. 541\n100. 547\n101. 557\n102. 563\n103. 569\n104. 571\n105. 577\n106. 587\n107. 593\n108. 599\n109. 601\n110. 607\n111. 613\n112. 617\n113. 619\n114. 631\n115. 641\n116. 643\n117. 647\n118. 653\n119. 659\n120. 661\n121. 673\n122. 677\n123. 683\n124. 691\n125. 701\n126. 709\n127. 719\n128. 727\n129. 733\n130. 739\n131. 743\n132. 751\n133. 757\n134. 761\n135. 769\n136. 773\n137. 787\n138. 797\n139. 809\n140. 811\n141. 821\n142. 823\n143. 827\n144. 829\n145. 839\n146. 853\n147. 857\n148. 859\n149. 863\n150. 877\n151. 881\n152. 883\n153. 887\n154. 907\n155. 911\n156. 919\n157. 929\n158. 937\n159. 941\n160. 947\n161. 953\n162. 967\n163. 971\n164. 977\n165. 983\n166. 991\n167. 997\n168. 1009\n169. 1013\n170. 1019\n171. 1021\n172. 1031\n173. 1033\n174. 1039\n175. 1049\n176. 1051\n177. 1061\n178. 1063\n179. 1069\n180. 1087\n181. 1091\n182. 1093\n183. 1097\n184. 1103\n185. 1109\n186. 1117\n187. 1123\n188. 1129\n189. 1151\n190. 1153\n191. 1163\n192. 1171\n193. 1181\n194. 1187\n195. 1193\n196. 1201\n197. 1213\n198. 1217\n199. 1223\n200. 1229\n201. 1231\n202. 1237\n203. 1249\n204. 1259\n205. 1277\n206. 1279\n207. 1283\n208. 1289\n209. 1291\n210. 1297\n211. 1301\n212. 1303\n213. 1307\n214. 1319\n215. 1321\n216. 1327\n217. 1361\n218. 1367\n219. 1373\n220. 1381\n221. 1399\n222. 1409\n223. 1423\n224. 1427\n225. 1429\n226. 1433\n227. 1439\n228. 1447\n229. 1451\n230. 1453\n231. 1459\n232. 1471\n233. 1481\n234. 1483\n235. 1487\n236. 1489\n237. 1493\n238. 1499\n239. 1511\n240. 1523\n241. 1531\n242. 1543\n243. 1549\n244. 1553\n245. 1559\n246. 1567\n247. 1571\n248. 1579\n249. 1583\n250. 1597\n251. 1601\n252. 1607\n253. 1609\n254. 1613\n255. 1619\n256. 1621\n257. 1627\n258. 1637\n259. 1657\n260. 1663\n261. 1667\n262. 1669\n263. 1693\n264. 1697\n265. 1699\n266. 1709\n267. 1721\n268. 1723\n269. 1733\n270. 1741\n271. 1747\n272. 1753\n273. 1759\n274. 1777\n275. 1783\n276. 1787\n277. 1789\n278. 1801\n279. 1811\n280. 1823\n281. 1831\n282. 1847\n283. 1861\n284. 1867\n285. 1871\n286. 1873\n287. 1877\n288. 1879\n289. 1889\n290. 1901\n291. 1907\n292. 1913\n293. 1931\n294. 1933\n295. 1949\n296. 1951\n297. 1973\n298. 1979\n299. 1987\n300. 1993\n301. 1997\n302. 1999\n303. 2003\n\n\n",
            "text/html": [
              "<style>\n",
              ".list-inline {list-style: none; margin:0; padding: 0}\n",
              ".list-inline>li {display: inline-block}\n",
              ".list-inline>li:not(:last-child)::after {content: \"\\00b7\"; padding: 0 .5ex}\n",
              "</style>\n",
              "<ol class=list-inline><li>3</li><li>5</li><li>7</li><li>11</li><li>13</li><li>17</li><li>19</li><li>23</li><li>29</li><li>31</li><li>37</li><li>41</li><li>43</li><li>47</li><li>53</li><li>59</li><li>61</li><li>67</li><li>71</li><li>73</li><li>79</li><li>83</li><li>89</li><li>97</li><li>101</li><li>103</li><li>107</li><li>109</li><li>113</li><li>127</li><li>131</li><li>137</li><li>139</li><li>149</li><li>151</li><li>157</li><li>163</li><li>167</li><li>173</li><li>179</li><li>181</li><li>191</li><li>193</li><li>197</li><li>199</li><li>211</li><li>223</li><li>227</li><li>229</li><li>233</li><li>239</li><li>241</li><li>251</li><li>257</li><li>263</li><li>269</li><li>271</li><li>277</li><li>281</li><li>283</li><li>293</li><li>307</li><li>311</li><li>313</li><li>317</li><li>331</li><li>337</li><li>347</li><li>349</li><li>353</li><li>359</li><li>367</li><li>373</li><li>379</li><li>383</li><li>389</li><li>397</li><li>401</li><li>409</li><li>419</li><li>421</li><li>431</li><li>433</li><li>439</li><li>443</li><li>449</li><li>457</li><li>461</li><li>463</li><li>467</li><li>479</li><li>487</li><li>491</li><li>499</li><li>503</li><li>509</li><li>521</li><li>523</li><li>541</li><li>547</li><li>557</li><li>563</li><li>569</li><li>571</li><li>577</li><li>587</li><li>593</li><li>599</li><li>601</li><li>607</li><li>613</li><li>617</li><li>619</li><li>631</li><li>641</li><li>643</li><li>647</li><li>653</li><li>659</li><li>661</li><li>673</li><li>677</li><li>683</li><li>691</li><li>701</li><li>709</li><li>719</li><li>727</li><li>733</li><li>739</li><li>743</li><li>751</li><li>757</li><li>761</li><li>769</li><li>773</li><li>787</li><li>797</li><li>809</li><li>811</li><li>821</li><li>823</li><li>827</li><li>829</li><li>839</li><li>853</li><li>857</li><li>859</li><li>863</li><li>877</li><li>881</li><li>883</li><li>887</li><li>907</li><li>911</li><li>919</li><li>929</li><li>937</li><li>941</li><li>947</li><li>953</li><li>967</li><li>971</li><li>977</li><li>983</li><li>991</li><li>997</li><li>1009</li><li>1013</li><li>1019</li><li>1021</li><li>1031</li><li>1033</li><li>1039</li><li>1049</li><li>1051</li><li>1061</li><li>1063</li><li>1069</li><li>1087</li><li>1091</li><li>1093</li><li>1097</li><li>1103</li><li>1109</li><li>1117</li><li>1123</li><li>1129</li><li>1151</li><li>1153</li><li>1163</li><li>1171</li><li>1181</li><li>1187</li><li>1193</li><li>1201</li><li>1213</li><li>1217</li><li>1223</li><li>1229</li><li>1231</li><li>1237</li><li>1249</li><li>1259</li><li>1277</li><li>1279</li><li>1283</li><li>1289</li><li>1291</li><li>1297</li><li>1301</li><li>1303</li><li>1307</li><li>1319</li><li>1321</li><li>1327</li><li>1361</li><li>1367</li><li>1373</li><li>1381</li><li>1399</li><li>1409</li><li>1423</li><li>1427</li><li>1429</li><li>1433</li><li>1439</li><li>1447</li><li>1451</li><li>1453</li><li>1459</li><li>1471</li><li>1481</li><li>1483</li><li>1487</li><li>1489</li><li>1493</li><li>1499</li><li>1511</li><li>1523</li><li>1531</li><li>1543</li><li>1549</li><li>1553</li><li>1559</li><li>1567</li><li>1571</li><li>1579</li><li>1583</li><li>1597</li><li>1601</li><li>1607</li><li>1609</li><li>1613</li><li>1619</li><li>1621</li><li>1627</li><li>1637</li><li>1657</li><li>1663</li><li>1667</li><li>1669</li><li>1693</li><li>1697</li><li>1699</li><li>1709</li><li>1721</li><li>1723</li><li>1733</li><li>1741</li><li>1747</li><li>1753</li><li>1759</li><li>1777</li><li>1783</li><li>1787</li><li>1789</li><li>1801</li><li>1811</li><li>1823</li><li>1831</li><li>1847</li><li>1861</li><li>1867</li><li>1871</li><li>1873</li><li>1877</li><li>1879</li><li>1889</li><li>1901</li><li>1907</li><li>1913</li><li>1931</li><li>1933</li><li>1949</li><li>1951</li><li>1973</li><li>1979</li><li>1987</li><li>1993</li><li>1997</li><li>1999</li><li>2003</li></ol>\n"
            ]
          },
          "metadata": {}
        }
      ],
      "source": [
        "# Q 1.22 - 1\n",
        "primes[-1]\n",
        "# primes[-1] returns all the prime numbers present in primes dataset except 1st number."
      ]
    },
    {
      "cell_type": "code",
      "execution_count": 11,
      "id": "68e4535d",
      "metadata": {
        "colab": {
          "base_uri": "https://localhost:8080/",
          "height": 191
        },
        "id": "68e4535d",
        "outputId": "73291bd0-f17b-4789-a994-f635930af91c"
      },
      "outputs": [
        {
          "output_type": "display_data",
          "data": {
            "text/plain": [
              "  [1]    2    3    5    7   11   13   17   19   23   29   31   37   41   43   47\n",
              " [16]   53   59   61   67   71   73   79   83   89   97  101  103  107  109  113\n",
              " [31]  127  131  137  139  149  151  157  163  167  173  179  181  191  193  197\n",
              " [46]  199  211  223  227  229  233  239  241  251  257  263  269  271  277  281\n",
              " [61]  283  293  307  311  313  317  331  337  347  349  353  359  367  373  379\n",
              " [76]  383  389  397  401  409  419  421  431  433  439  443  449  457  461  463\n",
              " [91]  467  479  487  491  499  503  509  521  523  541  547  557  563  569  571\n",
              "[106]  577  587  593  599  601  607  613  617  619  631  641  643  647  653  659\n",
              "[121]  661  673  677  683  691  701  709  719  727  733  739  743  751  757  761\n",
              "[136]  769  773  787  797  809  811  821  823  827  829  839  853  857  859  863\n",
              "[151]  877  881  883  887  907  911  919  929  937  941  947  953  967  971  977\n",
              "[166]  983  991  997 1009 1013 1019 1021 1031 1033 1039 1049 1051 1061 1063 1069\n",
              "[181] 1087 1091 1093 1097 1103 1109 1117 1123 1129 1151 1153 1163 1171 1181 1187\n",
              "[196] 1193 1201 1213 1217 1223 1229 1231 1237 1249 1259 1277 1279 1283 1289 1291\n",
              "[211] 1297 1301 1303 1307 1319 1321 1327 1361 1367 1373 1381 1399 1409 1423 1427\n",
              "[226] 1429 1433 1439 1447 1451 1453 1459 1471 1481 1483 1487 1489 1493 1499 1511\n",
              "[241] 1523 1531 1543 1549 1553 1559 1567 1571 1579 1583 1597 1601 1607 1609 1613\n",
              "[256] 1619 1621 1627 1637 1657 1663 1667 1669 1693 1697 1699 1709 1721 1723 1733\n",
              "[271] 1741 1747 1753 1759 1777 1783 1787 1789 1801 1811 1823 1831 1847 1861 1867\n",
              "[286] 1871 1873 1877 1879 1889 1901 1907 1913 1931 1933 1949 1951 1973 1979 1987\n",
              "[301] 1993 1997 1999"
            ],
            "text/latex": "\\begin{enumerate*}\n\\item 2\n\\item 3\n\\item 5\n\\item 7\n\\item 11\n\\item 13\n\\item 17\n\\item 19\n\\item 23\n\\item 29\n\\item 31\n\\item 37\n\\item 41\n\\item 43\n\\item 47\n\\item 53\n\\item 59\n\\item 61\n\\item 67\n\\item 71\n\\item 73\n\\item 79\n\\item 83\n\\item 89\n\\item 97\n\\item 101\n\\item 103\n\\item 107\n\\item 109\n\\item 113\n\\item 127\n\\item 131\n\\item 137\n\\item 139\n\\item 149\n\\item 151\n\\item 157\n\\item 163\n\\item 167\n\\item 173\n\\item 179\n\\item 181\n\\item 191\n\\item 193\n\\item 197\n\\item 199\n\\item 211\n\\item 223\n\\item 227\n\\item 229\n\\item 233\n\\item 239\n\\item 241\n\\item 251\n\\item 257\n\\item 263\n\\item 269\n\\item 271\n\\item 277\n\\item 281\n\\item 283\n\\item 293\n\\item 307\n\\item 311\n\\item 313\n\\item 317\n\\item 331\n\\item 337\n\\item 347\n\\item 349\n\\item 353\n\\item 359\n\\item 367\n\\item 373\n\\item 379\n\\item 383\n\\item 389\n\\item 397\n\\item 401\n\\item 409\n\\item 419\n\\item 421\n\\item 431\n\\item 433\n\\item 439\n\\item 443\n\\item 449\n\\item 457\n\\item 461\n\\item 463\n\\item 467\n\\item 479\n\\item 487\n\\item 491\n\\item 499\n\\item 503\n\\item 509\n\\item 521\n\\item 523\n\\item 541\n\\item 547\n\\item 557\n\\item 563\n\\item 569\n\\item 571\n\\item 577\n\\item 587\n\\item 593\n\\item 599\n\\item 601\n\\item 607\n\\item 613\n\\item 617\n\\item 619\n\\item 631\n\\item 641\n\\item 643\n\\item 647\n\\item 653\n\\item 659\n\\item 661\n\\item 673\n\\item 677\n\\item 683\n\\item 691\n\\item 701\n\\item 709\n\\item 719\n\\item 727\n\\item 733\n\\item 739\n\\item 743\n\\item 751\n\\item 757\n\\item 761\n\\item 769\n\\item 773\n\\item 787\n\\item 797\n\\item 809\n\\item 811\n\\item 821\n\\item 823\n\\item 827\n\\item 829\n\\item 839\n\\item 853\n\\item 857\n\\item 859\n\\item 863\n\\item 877\n\\item 881\n\\item 883\n\\item 887\n\\item 907\n\\item 911\n\\item 919\n\\item 929\n\\item 937\n\\item 941\n\\item 947\n\\item 953\n\\item 967\n\\item 971\n\\item 977\n\\item 983\n\\item 991\n\\item 997\n\\item 1009\n\\item 1013\n\\item 1019\n\\item 1021\n\\item 1031\n\\item 1033\n\\item 1039\n\\item 1049\n\\item 1051\n\\item 1061\n\\item 1063\n\\item 1069\n\\item 1087\n\\item 1091\n\\item 1093\n\\item 1097\n\\item 1103\n\\item 1109\n\\item 1117\n\\item 1123\n\\item 1129\n\\item 1151\n\\item 1153\n\\item 1163\n\\item 1171\n\\item 1181\n\\item 1187\n\\item 1193\n\\item 1201\n\\item 1213\n\\item 1217\n\\item 1223\n\\item 1229\n\\item 1231\n\\item 1237\n\\item 1249\n\\item 1259\n\\item 1277\n\\item 1279\n\\item 1283\n\\item 1289\n\\item 1291\n\\item 1297\n\\item 1301\n\\item 1303\n\\item 1307\n\\item 1319\n\\item 1321\n\\item 1327\n\\item 1361\n\\item 1367\n\\item 1373\n\\item 1381\n\\item 1399\n\\item 1409\n\\item 1423\n\\item 1427\n\\item 1429\n\\item 1433\n\\item 1439\n\\item 1447\n\\item 1451\n\\item 1453\n\\item 1459\n\\item 1471\n\\item 1481\n\\item 1483\n\\item 1487\n\\item 1489\n\\item 1493\n\\item 1499\n\\item 1511\n\\item 1523\n\\item 1531\n\\item 1543\n\\item 1549\n\\item 1553\n\\item 1559\n\\item 1567\n\\item 1571\n\\item 1579\n\\item 1583\n\\item 1597\n\\item 1601\n\\item 1607\n\\item 1609\n\\item 1613\n\\item 1619\n\\item 1621\n\\item 1627\n\\item 1637\n\\item 1657\n\\item 1663\n\\item 1667\n\\item 1669\n\\item 1693\n\\item 1697\n\\item 1699\n\\item 1709\n\\item 1721\n\\item 1723\n\\item 1733\n\\item 1741\n\\item 1747\n\\item 1753\n\\item 1759\n\\item 1777\n\\item 1783\n\\item 1787\n\\item 1789\n\\item 1801\n\\item 1811\n\\item 1823\n\\item 1831\n\\item 1847\n\\item 1861\n\\item 1867\n\\item 1871\n\\item 1873\n\\item 1877\n\\item 1879\n\\item 1889\n\\item 1901\n\\item 1907\n\\item 1913\n\\item 1931\n\\item 1933\n\\item 1949\n\\item 1951\n\\item 1973\n\\item 1979\n\\item 1987\n\\item 1993\n\\item 1997\n\\item 1999\n\\end{enumerate*}\n",
            "text/markdown": "1. 2\n2. 3\n3. 5\n4. 7\n5. 11\n6. 13\n7. 17\n8. 19\n9. 23\n10. 29\n11. 31\n12. 37\n13. 41\n14. 43\n15. 47\n16. 53\n17. 59\n18. 61\n19. 67\n20. 71\n21. 73\n22. 79\n23. 83\n24. 89\n25. 97\n26. 101\n27. 103\n28. 107\n29. 109\n30. 113\n31. 127\n32. 131\n33. 137\n34. 139\n35. 149\n36. 151\n37. 157\n38. 163\n39. 167\n40. 173\n41. 179\n42. 181\n43. 191\n44. 193\n45. 197\n46. 199\n47. 211\n48. 223\n49. 227\n50. 229\n51. 233\n52. 239\n53. 241\n54. 251\n55. 257\n56. 263\n57. 269\n58. 271\n59. 277\n60. 281\n61. 283\n62. 293\n63. 307\n64. 311\n65. 313\n66. 317\n67. 331\n68. 337\n69. 347\n70. 349\n71. 353\n72. 359\n73. 367\n74. 373\n75. 379\n76. 383\n77. 389\n78. 397\n79. 401\n80. 409\n81. 419\n82. 421\n83. 431\n84. 433\n85. 439\n86. 443\n87. 449\n88. 457\n89. 461\n90. 463\n91. 467\n92. 479\n93. 487\n94. 491\n95. 499\n96. 503\n97. 509\n98. 521\n99. 523\n100. 541\n101. 547\n102. 557\n103. 563\n104. 569\n105. 571\n106. 577\n107. 587\n108. 593\n109. 599\n110. 601\n111. 607\n112. 613\n113. 617\n114. 619\n115. 631\n116. 641\n117. 643\n118. 647\n119. 653\n120. 659\n121. 661\n122. 673\n123. 677\n124. 683\n125. 691\n126. 701\n127. 709\n128. 719\n129. 727\n130. 733\n131. 739\n132. 743\n133. 751\n134. 757\n135. 761\n136. 769\n137. 773\n138. 787\n139. 797\n140. 809\n141. 811\n142. 821\n143. 823\n144. 827\n145. 829\n146. 839\n147. 853\n148. 857\n149. 859\n150. 863\n151. 877\n152. 881\n153. 883\n154. 887\n155. 907\n156. 911\n157. 919\n158. 929\n159. 937\n160. 941\n161. 947\n162. 953\n163. 967\n164. 971\n165. 977\n166. 983\n167. 991\n168. 997\n169. 1009\n170. 1013\n171. 1019\n172. 1021\n173. 1031\n174. 1033\n175. 1039\n176. 1049\n177. 1051\n178. 1061\n179. 1063\n180. 1069\n181. 1087\n182. 1091\n183. 1093\n184. 1097\n185. 1103\n186. 1109\n187. 1117\n188. 1123\n189. 1129\n190. 1151\n191. 1153\n192. 1163\n193. 1171\n194. 1181\n195. 1187\n196. 1193\n197. 1201\n198. 1213\n199. 1217\n200. 1223\n201. 1229\n202. 1231\n203. 1237\n204. 1249\n205. 1259\n206. 1277\n207. 1279\n208. 1283\n209. 1289\n210. 1291\n211. 1297\n212. 1301\n213. 1303\n214. 1307\n215. 1319\n216. 1321\n217. 1327\n218. 1361\n219. 1367\n220. 1373\n221. 1381\n222. 1399\n223. 1409\n224. 1423\n225. 1427\n226. 1429\n227. 1433\n228. 1439\n229. 1447\n230. 1451\n231. 1453\n232. 1459\n233. 1471\n234. 1481\n235. 1483\n236. 1487\n237. 1489\n238. 1493\n239. 1499\n240. 1511\n241. 1523\n242. 1531\n243. 1543\n244. 1549\n245. 1553\n246. 1559\n247. 1567\n248. 1571\n249. 1579\n250. 1583\n251. 1597\n252. 1601\n253. 1607\n254. 1609\n255. 1613\n256. 1619\n257. 1621\n258. 1627\n259. 1637\n260. 1657\n261. 1663\n262. 1667\n263. 1669\n264. 1693\n265. 1697\n266. 1699\n267. 1709\n268. 1721\n269. 1723\n270. 1733\n271. 1741\n272. 1747\n273. 1753\n274. 1759\n275. 1777\n276. 1783\n277. 1787\n278. 1789\n279. 1801\n280. 1811\n281. 1823\n282. 1831\n283. 1847\n284. 1861\n285. 1867\n286. 1871\n287. 1873\n288. 1877\n289. 1879\n290. 1889\n291. 1901\n292. 1907\n293. 1913\n294. 1931\n295. 1933\n296. 1949\n297. 1951\n298. 1973\n299. 1979\n300. 1987\n301. 1993\n302. 1997\n303. 1999\n\n\n",
            "text/html": [
              "<style>\n",
              ".list-inline {list-style: none; margin:0; padding: 0}\n",
              ".list-inline>li {display: inline-block}\n",
              ".list-inline>li:not(:last-child)::after {content: \"\\00b7\"; padding: 0 .5ex}\n",
              "</style>\n",
              "<ol class=list-inline><li>2</li><li>3</li><li>5</li><li>7</li><li>11</li><li>13</li><li>17</li><li>19</li><li>23</li><li>29</li><li>31</li><li>37</li><li>41</li><li>43</li><li>47</li><li>53</li><li>59</li><li>61</li><li>67</li><li>71</li><li>73</li><li>79</li><li>83</li><li>89</li><li>97</li><li>101</li><li>103</li><li>107</li><li>109</li><li>113</li><li>127</li><li>131</li><li>137</li><li>139</li><li>149</li><li>151</li><li>157</li><li>163</li><li>167</li><li>173</li><li>179</li><li>181</li><li>191</li><li>193</li><li>197</li><li>199</li><li>211</li><li>223</li><li>227</li><li>229</li><li>233</li><li>239</li><li>241</li><li>251</li><li>257</li><li>263</li><li>269</li><li>271</li><li>277</li><li>281</li><li>283</li><li>293</li><li>307</li><li>311</li><li>313</li><li>317</li><li>331</li><li>337</li><li>347</li><li>349</li><li>353</li><li>359</li><li>367</li><li>373</li><li>379</li><li>383</li><li>389</li><li>397</li><li>401</li><li>409</li><li>419</li><li>421</li><li>431</li><li>433</li><li>439</li><li>443</li><li>449</li><li>457</li><li>461</li><li>463</li><li>467</li><li>479</li><li>487</li><li>491</li><li>499</li><li>503</li><li>509</li><li>521</li><li>523</li><li>541</li><li>547</li><li>557</li><li>563</li><li>569</li><li>571</li><li>577</li><li>587</li><li>593</li><li>599</li><li>601</li><li>607</li><li>613</li><li>617</li><li>619</li><li>631</li><li>641</li><li>643</li><li>647</li><li>653</li><li>659</li><li>661</li><li>673</li><li>677</li><li>683</li><li>691</li><li>701</li><li>709</li><li>719</li><li>727</li><li>733</li><li>739</li><li>743</li><li>751</li><li>757</li><li>761</li><li>769</li><li>773</li><li>787</li><li>797</li><li>809</li><li>811</li><li>821</li><li>823</li><li>827</li><li>829</li><li>839</li><li>853</li><li>857</li><li>859</li><li>863</li><li>877</li><li>881</li><li>883</li><li>887</li><li>907</li><li>911</li><li>919</li><li>929</li><li>937</li><li>941</li><li>947</li><li>953</li><li>967</li><li>971</li><li>977</li><li>983</li><li>991</li><li>997</li><li>1009</li><li>1013</li><li>1019</li><li>1021</li><li>1031</li><li>1033</li><li>1039</li><li>1049</li><li>1051</li><li>1061</li><li>1063</li><li>1069</li><li>1087</li><li>1091</li><li>1093</li><li>1097</li><li>1103</li><li>1109</li><li>1117</li><li>1123</li><li>1129</li><li>1151</li><li>1153</li><li>1163</li><li>1171</li><li>1181</li><li>1187</li><li>1193</li><li>1201</li><li>1213</li><li>1217</li><li>1223</li><li>1229</li><li>1231</li><li>1237</li><li>1249</li><li>1259</li><li>1277</li><li>1279</li><li>1283</li><li>1289</li><li>1291</li><li>1297</li><li>1301</li><li>1303</li><li>1307</li><li>1319</li><li>1321</li><li>1327</li><li>1361</li><li>1367</li><li>1373</li><li>1381</li><li>1399</li><li>1409</li><li>1423</li><li>1427</li><li>1429</li><li>1433</li><li>1439</li><li>1447</li><li>1451</li><li>1453</li><li>1459</li><li>1471</li><li>1481</li><li>1483</li><li>1487</li><li>1489</li><li>1493</li><li>1499</li><li>1511</li><li>1523</li><li>1531</li><li>1543</li><li>1549</li><li>1553</li><li>1559</li><li>1567</li><li>1571</li><li>1579</li><li>1583</li><li>1597</li><li>1601</li><li>1607</li><li>1609</li><li>1613</li><li>1619</li><li>1621</li><li>1627</li><li>1637</li><li>1657</li><li>1663</li><li>1667</li><li>1669</li><li>1693</li><li>1697</li><li>1699</li><li>1709</li><li>1721</li><li>1723</li><li>1733</li><li>1741</li><li>1747</li><li>1753</li><li>1759</li><li>1777</li><li>1783</li><li>1787</li><li>1789</li><li>1801</li><li>1811</li><li>1823</li><li>1831</li><li>1847</li><li>1861</li><li>1867</li><li>1871</li><li>1873</li><li>1877</li><li>1879</li><li>1889</li><li>1901</li><li>1907</li><li>1913</li><li>1931</li><li>1933</li><li>1949</li><li>1951</li><li>1973</li><li>1979</li><li>1987</li><li>1993</li><li>1997</li><li>1999</li></ol>\n"
            ]
          },
          "metadata": {}
        }
      ],
      "source": [
        "# Q 1.22 - 2\n",
        "n = length(primes)\n",
        "primes[-n]\n",
        "# primes[-1] returns all the prime numbers present in primes dataset except last number."
      ]
    },
    {
      "cell_type": "code",
      "execution_count": 12,
      "id": "398bcd6c",
      "metadata": {
        "colab": {
          "base_uri": "https://localhost:8080/",
          "height": 34
        },
        "id": "398bcd6c",
        "outputId": "af1acefb-7132-4b23-9520-0a20086c3666"
      },
      "outputs": [
        {
          "output_type": "display_data",
          "data": {
            "text/plain": [
              "[1] 61"
            ],
            "text/latex": "61",
            "text/markdown": "61",
            "text/html": [
              "61"
            ]
          },
          "metadata": {}
        }
      ],
      "source": [
        "# Q 1.22 - 3\n",
        "sum((primes[-1] - primes[-n])==2)"
      ]
    },
    {
      "cell_type": "code",
      "execution_count": 13,
      "id": "9788cc43",
      "metadata": {
        "colab": {
          "base_uri": "https://localhost:8080/",
          "height": 34
        },
        "id": "9788cc43",
        "outputId": "0571f04a-9552-41bb-904b-54fefc7bedd4"
      },
      "outputs": [
        {
          "output_type": "display_data",
          "data": {
            "text/plain": [
              "[1] 7980"
            ],
            "text/latex": "7980",
            "text/markdown": "7980",
            "text/html": [
              "7980"
            ]
          },
          "metadata": {}
        }
      ],
      "source": [
        "# Q 1.23 - 1\n",
        "data(\"treering\")\n",
        "length(treering)"
      ]
    },
    {
      "cell_type": "code",
      "execution_count": 14,
      "id": "33b4dc41",
      "metadata": {
        "colab": {
          "base_uri": "https://localhost:8080/",
          "height": 34
        },
        "id": "33b4dc41",
        "outputId": "0176f98a-71ad-49cf-d52d-c2b9b980c074"
      },
      "outputs": [
        {
          "output_type": "display_data",
          "data": {
            "text/plain": [
              "[1] 0"
            ],
            "text/latex": "0",
            "text/markdown": "0",
            "text/html": [
              "0"
            ]
          },
          "metadata": {}
        }
      ],
      "source": [
        "# Q 1.23 - 2\n",
        "min(treering)"
      ]
    },
    {
      "cell_type": "code",
      "execution_count": 15,
      "id": "04ab0861",
      "metadata": {
        "colab": {
          "base_uri": "https://localhost:8080/",
          "height": 34
        },
        "id": "04ab0861",
        "outputId": "845f5fb1-22db-4c10-aa6d-46c047269bc1"
      },
      "outputs": [
        {
          "output_type": "display_data",
          "data": {
            "text/plain": [
              "[1] 1.908"
            ],
            "text/latex": "1.908",
            "text/markdown": "1.908",
            "text/html": [
              "1.908"
            ]
          },
          "metadata": {}
        }
      ],
      "source": [
        "# Q 1.23 - 3\n",
        "max(treering)"
      ]
    },
    {
      "cell_type": "code",
      "execution_count": 16,
      "id": "a4bfe5a9",
      "metadata": {
        "colab": {
          "base_uri": "https://localhost:8080/",
          "height": 34
        },
        "id": "a4bfe5a9",
        "outputId": "cb32b082-37fb-4d4b-9fdc-6769c74d25a9"
      },
      "outputs": [
        {
          "output_type": "display_data",
          "data": {
            "text/plain": [
              "[1] 219"
            ],
            "text/latex": "219",
            "text/markdown": "219",
            "text/html": [
              "219"
            ]
          },
          "metadata": {}
        }
      ],
      "source": [
        "# Q 1.23 - 4\n",
        "sum(treering>1.5)"
      ]
    },
    {
      "cell_type": "code",
      "execution_count": 17,
      "id": "438f7462",
      "metadata": {
        "id": "438f7462"
      },
      "outputs": [],
      "source": [
        "# Q 1.24\n",
        "data(\"mandms\")"
      ]
    },
    {
      "cell_type": "code",
      "execution_count": 18,
      "id": "8bcd055d",
      "metadata": {
        "colab": {
          "base_uri": "https://localhost:8080/",
          "height": 272
        },
        "id": "8bcd055d",
        "outputId": "2d78068c-d02c-4a68-c9c5-a25f952f2968"
      },
      "outputs": [
        {
          "output_type": "display_data",
          "data": {
            "text/plain": [
              "               blue    brown   green   orange  red     yellow \n",
              "milk chocolate 10.0000 30.0000 10.0000 10.0000 20.0000 20.0000\n",
              "Peanut         20.0000 20.0000 10.0000 10.0000 20.0000 20.0000\n",
              "Peanut Butter  20.0000 20.0000 20.0000  0.0000 20.0000 20.0000\n",
              "Almond         16.6667 16.6667 16.6667 16.6667 16.6667 16.6667\n",
              "kid minis      16.6667 16.6667 16.6667 16.6667 16.6667 16.6667"
            ],
            "text/latex": "A data.frame: 5 × 6\n\\begin{tabular}{r|llllll}\n  & blue & brown & green & orange & red & yellow\\\\\n  & <dbl> & <dbl> & <dbl> & <dbl> & <dbl> & <dbl>\\\\\n\\hline\n\tmilk chocolate & 10.0000 & 30.0000 & 10.0000 & 10.0000 & 20.0000 & 20.0000\\\\\n\tPeanut & 20.0000 & 20.0000 & 10.0000 & 10.0000 & 20.0000 & 20.0000\\\\\n\tPeanut Butter & 20.0000 & 20.0000 & 20.0000 &  0.0000 & 20.0000 & 20.0000\\\\\n\tAlmond & 16.6667 & 16.6667 & 16.6667 & 16.6667 & 16.6667 & 16.6667\\\\\n\tkid minis & 16.6667 & 16.6667 & 16.6667 & 16.6667 & 16.6667 & 16.6667\\\\\n\\end{tabular}\n",
            "text/markdown": "\nA data.frame: 5 × 6\n\n| <!--/--> | blue &lt;dbl&gt; | brown &lt;dbl&gt; | green &lt;dbl&gt; | orange &lt;dbl&gt; | red &lt;dbl&gt; | yellow &lt;dbl&gt; |\n|---|---|---|---|---|---|---|\n| milk chocolate | 10.0000 | 30.0000 | 10.0000 | 10.0000 | 20.0000 | 20.0000 |\n| Peanut | 20.0000 | 20.0000 | 10.0000 | 10.0000 | 20.0000 | 20.0000 |\n| Peanut Butter | 20.0000 | 20.0000 | 20.0000 |  0.0000 | 20.0000 | 20.0000 |\n| Almond | 16.6667 | 16.6667 | 16.6667 | 16.6667 | 16.6667 | 16.6667 |\n| kid minis | 16.6667 | 16.6667 | 16.6667 | 16.6667 | 16.6667 | 16.6667 |\n\n",
            "text/html": [
              "<table class=\"dataframe\">\n",
              "<caption>A data.frame: 5 × 6</caption>\n",
              "<thead>\n",
              "\t<tr><th></th><th scope=col>blue</th><th scope=col>brown</th><th scope=col>green</th><th scope=col>orange</th><th scope=col>red</th><th scope=col>yellow</th></tr>\n",
              "\t<tr><th></th><th scope=col>&lt;dbl&gt;</th><th scope=col>&lt;dbl&gt;</th><th scope=col>&lt;dbl&gt;</th><th scope=col>&lt;dbl&gt;</th><th scope=col>&lt;dbl&gt;</th><th scope=col>&lt;dbl&gt;</th></tr>\n",
              "</thead>\n",
              "<tbody>\n",
              "\t<tr><th scope=row>milk chocolate</th><td>10.0000</td><td>30.0000</td><td>10.0000</td><td>10.0000</td><td>20.0000</td><td>20.0000</td></tr>\n",
              "\t<tr><th scope=row>Peanut</th><td>20.0000</td><td>20.0000</td><td>10.0000</td><td>10.0000</td><td>20.0000</td><td>20.0000</td></tr>\n",
              "\t<tr><th scope=row>Peanut Butter</th><td>20.0000</td><td>20.0000</td><td>20.0000</td><td> 0.0000</td><td>20.0000</td><td>20.0000</td></tr>\n",
              "\t<tr><th scope=row>Almond</th><td>16.6667</td><td>16.6667</td><td>16.6667</td><td>16.6667</td><td>16.6667</td><td>16.6667</td></tr>\n",
              "\t<tr><th scope=row>kid minis</th><td>16.6667</td><td>16.6667</td><td>16.6667</td><td>16.6667</td><td>16.6667</td><td>16.6667</td></tr>\n",
              "</tbody>\n",
              "</table>\n"
            ]
          },
          "metadata": {}
        },
        {
          "output_type": "display_data",
          "data": {
            "text/plain": [
              "[1] \"Peanut Butter\""
            ],
            "text/latex": "'Peanut Butter'",
            "text/markdown": "'Peanut Butter'",
            "text/html": [
              "'Peanut Butter'"
            ]
          },
          "metadata": {}
        }
      ],
      "source": [
        "# Q 1.24 - 1\n",
        "mandms\n",
        "names(which(rowSums(mandms==0)==1))"
      ]
    },
    {
      "cell_type": "code",
      "execution_count": 19,
      "id": "2a5cf55b",
      "metadata": {
        "colab": {
          "base_uri": "https://localhost:8080/",
          "height": 34
        },
        "id": "2a5cf55b",
        "outputId": "da8abe35-c99e-4804-c935-092628015557"
      },
      "outputs": [
        {
          "output_type": "display_data",
          "data": {
            "text/plain": [
              "[1] \"Almond\"    \"kid minis\""
            ],
            "text/latex": "\\begin{enumerate*}\n\\item 'Almond'\n\\item 'kid minis'\n\\end{enumerate*}\n",
            "text/markdown": "1. 'Almond'\n2. 'kid minis'\n\n\n",
            "text/html": [
              "<style>\n",
              ".list-inline {list-style: none; margin:0; padding: 0}\n",
              ".list-inline>li {display: inline-block}\n",
              ".list-inline>li:not(:last-child)::after {content: \"\\00b7\"; padding: 0 .5ex}\n",
              "</style>\n",
              "<ol class=list-inline><li>'Almond'</li><li>'kid minis'</li></ol>\n"
            ]
          },
          "metadata": {}
        }
      ],
      "source": [
        "# Q 1.24 - 2\n",
        "names(which(rowSums(mandms==rowMeans(mandms))==6))"
      ]
    },
    {
      "cell_type": "code",
      "execution_count": 20,
      "id": "6421eca4",
      "metadata": {
        "colab": {
          "base_uri": "https://localhost:8080/",
          "height": 52
        },
        "id": "6421eca4",
        "outputId": "4d4dc49b-3389-404f-819e-016de739823e"
      },
      "outputs": [
        {
          "output_type": "display_data",
          "data": {
            "text/plain": [
              "[1] \"milk chocolate\""
            ],
            "text/latex": "'milk chocolate'",
            "text/markdown": "'milk chocolate'",
            "text/html": [
              "'milk chocolate'"
            ]
          },
          "metadata": {}
        },
        {
          "output_type": "display_data",
          "data": {
            "text/plain": [
              "[1] \"brown\""
            ],
            "text/latex": "'brown'",
            "text/markdown": "'brown'",
            "text/html": [
              "'brown'"
            ]
          },
          "metadata": {}
        }
      ],
      "source": [
        "# Q 1.24 -3\n",
        "names(which(rowSums(mandms==max(mandms))==1))\n",
        "names(which(colSums(mandms==max(mandms))==1))"
      ]
    },
    {
      "cell_type": "code",
      "execution_count": 21,
      "id": "f681a980",
      "metadata": {
        "colab": {
          "base_uri": "https://localhost:8080/",
          "height": 1000
        },
        "id": "f681a980",
        "outputId": "1709abe5-8e77-453b-a356-7a1ef18f40a5"
      },
      "outputs": [
        {
          "output_type": "display_data",
          "data": {
            "text/plain": [
              "      place gender age home time    \n",
              "3475   3592 Male   52  GBR  217.4833\n",
              "13594 13853 Female 40  NY   272.5500\n",
              "12012 12256 Male   31  FRA  265.2833\n",
              "10236 10457 Female 33  MI   256.1500\n",
              "9476   9686 Male   33  NY   252.2500\n",
              "1720   1784 Male   40  NJ   201.9667\n",
              "15736 16020 Female 30  CA   283.5667\n",
              "10580 10805 Male   27  GBR  255.8833\n",
              "11957 12201 Male   42  NED  264.2500\n",
              "18933 19266 Male   48  B.C  306.6833\n",
              "14956 15229 Female 63  GBR  281.2667\n",
              "14987 15260 Male   49  ITA  280.2500\n",
              "10447 10670 Male   33  NY   258.3333\n",
              "10435 10658 Male   43  NY   257.1333\n",
              "191     200 Male   40  GER  163.9333\n",
              "9962  10178 Male   33  NY   253.6167\n",
              "2379   2467 Male   40  FRA  206.2667\n",
              "10505 10729 Male   36  NY   257.9333\n",
              "11853 12093 Male   49  SWE  262.1333\n",
              "12181 12428 Female 34  NY   264.2167\n",
              "2633   2730 Male   26  DEN  209.7333\n",
              "11935 12179 Male   50  NED  265.2500\n",
              "20116 20460 Male   33  NJ   315.2333\n",
              "23043 23413 Male   71  FL   414.7000\n",
              "19584 19921 Female 39  GER  309.2667\n",
              "11640 11878 Female 28  GBR  261.2667\n",
              "17363 17683 Male   52  GBR  295.3167\n",
              "17611 17933 Male   28  NED  294.8333\n",
              "9935  10151 Male   52  CA   254.2500\n",
              "8713   8915 Male   41  BRA  248.9500\n",
              "⋮     ⋮     ⋮      ⋮   ⋮    ⋮       \n",
              "15236 15514 Male   40  NY   281.4000\n",
              "20863 21215 Male   53  MA   331.7000\n",
              "6238   6402 Male   35  ITA  235.8000\n",
              "22642 23010 Male   69  MI   376.6500\n",
              "15733 16017 Male   24  NY   284.3167\n",
              "22691 23059 Male   51  CT   380.6833\n",
              "20188 20532 Male   29  NY   316.8167\n",
              "13477 13736 Female 33  CT   273.0000\n",
              "9151   9353 Male   30  NY   251.5833\n",
              "2200   2279 Male   21  NJ   206.1333\n",
              "17945 18272 Male   43  FL   298.4000\n",
              "13982 14246 Male   31  NY   275.5500\n",
              "13403 13661 Male   39  FRA  270.2833\n",
              "1595   1654 Male   35  ESP  200.5500\n",
              "15869 16157 Male   31  ITA  285.2500\n",
              "20530 20877 Male   29  SUI  324.6667\n",
              "13981 14245 Male   40  MA   273.7000\n",
              "13190 13446 Female 37  IN   267.6333\n",
              "1038   1079 Male   40  NED  191.3167\n",
              "13752 14013 Male   49  ITA  273.0333\n",
              "23273 23645 Female 46  NY   501.5500\n",
              "15901 16189 Female 51  TN   285.3500\n",
              "14889 15162 Female 50  GER  278.1167\n",
              "11547 11784 Female 40  NY   263.3833\n",
              "4079   4206 Male   27  CAN  223.3333\n",
              "15972 16261 Male   61  FRA  285.8833\n",
              "1090   1131 Male   37  GBR  191.9167\n",
              "16419 16713 Female 53  IRL  289.0167\n",
              "13977 14241 Female 21  NY   276.0500\n",
              "8527   8726 Male   55  GER  240.9667"
            ],
            "text/latex": "A data.frame: 1000 × 5\n\\begin{tabular}{r|lllll}\n  & place & gender & age & home & time\\\\\n  & <dbl> & <fct> & <dbl> & <fct> & <dbl>\\\\\n\\hline\n\t3475 &  3592 & Male   & 52 & GBR & 217.4833\\\\\n\t13594 & 13853 & Female & 40 & NY  & 272.5500\\\\\n\t12012 & 12256 & Male   & 31 & FRA & 265.2833\\\\\n\t10236 & 10457 & Female & 33 & MI  & 256.1500\\\\\n\t9476 &  9686 & Male   & 33 & NY  & 252.2500\\\\\n\t1720 &  1784 & Male   & 40 & NJ  & 201.9667\\\\\n\t15736 & 16020 & Female & 30 & CA  & 283.5667\\\\\n\t10580 & 10805 & Male   & 27 & GBR & 255.8833\\\\\n\t11957 & 12201 & Male   & 42 & NED & 264.2500\\\\\n\t18933 & 19266 & Male   & 48 & B.C & 306.6833\\\\\n\t14956 & 15229 & Female & 63 & GBR & 281.2667\\\\\n\t14987 & 15260 & Male   & 49 & ITA & 280.2500\\\\\n\t10447 & 10670 & Male   & 33 & NY  & 258.3333\\\\\n\t10435 & 10658 & Male   & 43 & NY  & 257.1333\\\\\n\t191 &   200 & Male   & 40 & GER & 163.9333\\\\\n\t9962 & 10178 & Male   & 33 & NY  & 253.6167\\\\\n\t2379 &  2467 & Male   & 40 & FRA & 206.2667\\\\\n\t10505 & 10729 & Male   & 36 & NY  & 257.9333\\\\\n\t11853 & 12093 & Male   & 49 & SWE & 262.1333\\\\\n\t12181 & 12428 & Female & 34 & NY  & 264.2167\\\\\n\t2633 &  2730 & Male   & 26 & DEN & 209.7333\\\\\n\t11935 & 12179 & Male   & 50 & NED & 265.2500\\\\\n\t20116 & 20460 & Male   & 33 & NJ  & 315.2333\\\\\n\t23043 & 23413 & Male   & 71 & FL  & 414.7000\\\\\n\t19584 & 19921 & Female & 39 & GER & 309.2667\\\\\n\t11640 & 11878 & Female & 28 & GBR & 261.2667\\\\\n\t17363 & 17683 & Male   & 52 & GBR & 295.3167\\\\\n\t17611 & 17933 & Male   & 28 & NED & 294.8333\\\\\n\t9935 & 10151 & Male   & 52 & CA  & 254.2500\\\\\n\t8713 &  8915 & Male   & 41 & BRA & 248.9500\\\\\n\t⋮ & ⋮ & ⋮ & ⋮ & ⋮ & ⋮\\\\\n\t15236 & 15514 & Male   & 40 & NY  & 281.4000\\\\\n\t20863 & 21215 & Male   & 53 & MA  & 331.7000\\\\\n\t6238 &  6402 & Male   & 35 & ITA & 235.8000\\\\\n\t22642 & 23010 & Male   & 69 & MI  & 376.6500\\\\\n\t15733 & 16017 & Male   & 24 & NY  & 284.3167\\\\\n\t22691 & 23059 & Male   & 51 & CT  & 380.6833\\\\\n\t20188 & 20532 & Male   & 29 & NY  & 316.8167\\\\\n\t13477 & 13736 & Female & 33 & CT  & 273.0000\\\\\n\t9151 &  9353 & Male   & 30 & NY  & 251.5833\\\\\n\t2200 &  2279 & Male   & 21 & NJ  & 206.1333\\\\\n\t17945 & 18272 & Male   & 43 & FL  & 298.4000\\\\\n\t13982 & 14246 & Male   & 31 & NY  & 275.5500\\\\\n\t13403 & 13661 & Male   & 39 & FRA & 270.2833\\\\\n\t1595 &  1654 & Male   & 35 & ESP & 200.5500\\\\\n\t15869 & 16157 & Male   & 31 & ITA & 285.2500\\\\\n\t20530 & 20877 & Male   & 29 & SUI & 324.6667\\\\\n\t13981 & 14245 & Male   & 40 & MA  & 273.7000\\\\\n\t13190 & 13446 & Female & 37 & IN  & 267.6333\\\\\n\t1038 &  1079 & Male   & 40 & NED & 191.3167\\\\\n\t13752 & 14013 & Male   & 49 & ITA & 273.0333\\\\\n\t23273 & 23645 & Female & 46 & NY  & 501.5500\\\\\n\t15901 & 16189 & Female & 51 & TN  & 285.3500\\\\\n\t14889 & 15162 & Female & 50 & GER & 278.1167\\\\\n\t11547 & 11784 & Female & 40 & NY  & 263.3833\\\\\n\t4079 &  4206 & Male   & 27 & CAN & 223.3333\\\\\n\t15972 & 16261 & Male   & 61 & FRA & 285.8833\\\\\n\t1090 &  1131 & Male   & 37 & GBR & 191.9167\\\\\n\t16419 & 16713 & Female & 53 & IRL & 289.0167\\\\\n\t13977 & 14241 & Female & 21 & NY  & 276.0500\\\\\n\t8527 &  8726 & Male   & 55 & GER & 240.9667\\\\\n\\end{tabular}\n",
            "text/markdown": "\nA data.frame: 1000 × 5\n\n| <!--/--> | place &lt;dbl&gt; | gender &lt;fct&gt; | age &lt;dbl&gt; | home &lt;fct&gt; | time &lt;dbl&gt; |\n|---|---|---|---|---|---|\n| 3475 |  3592 | Male   | 52 | GBR | 217.4833 |\n| 13594 | 13853 | Female | 40 | NY  | 272.5500 |\n| 12012 | 12256 | Male   | 31 | FRA | 265.2833 |\n| 10236 | 10457 | Female | 33 | MI  | 256.1500 |\n| 9476 |  9686 | Male   | 33 | NY  | 252.2500 |\n| 1720 |  1784 | Male   | 40 | NJ  | 201.9667 |\n| 15736 | 16020 | Female | 30 | CA  | 283.5667 |\n| 10580 | 10805 | Male   | 27 | GBR | 255.8833 |\n| 11957 | 12201 | Male   | 42 | NED | 264.2500 |\n| 18933 | 19266 | Male   | 48 | B.C | 306.6833 |\n| 14956 | 15229 | Female | 63 | GBR | 281.2667 |\n| 14987 | 15260 | Male   | 49 | ITA | 280.2500 |\n| 10447 | 10670 | Male   | 33 | NY  | 258.3333 |\n| 10435 | 10658 | Male   | 43 | NY  | 257.1333 |\n| 191 |   200 | Male   | 40 | GER | 163.9333 |\n| 9962 | 10178 | Male   | 33 | NY  | 253.6167 |\n| 2379 |  2467 | Male   | 40 | FRA | 206.2667 |\n| 10505 | 10729 | Male   | 36 | NY  | 257.9333 |\n| 11853 | 12093 | Male   | 49 | SWE | 262.1333 |\n| 12181 | 12428 | Female | 34 | NY  | 264.2167 |\n| 2633 |  2730 | Male   | 26 | DEN | 209.7333 |\n| 11935 | 12179 | Male   | 50 | NED | 265.2500 |\n| 20116 | 20460 | Male   | 33 | NJ  | 315.2333 |\n| 23043 | 23413 | Male   | 71 | FL  | 414.7000 |\n| 19584 | 19921 | Female | 39 | GER | 309.2667 |\n| 11640 | 11878 | Female | 28 | GBR | 261.2667 |\n| 17363 | 17683 | Male   | 52 | GBR | 295.3167 |\n| 17611 | 17933 | Male   | 28 | NED | 294.8333 |\n| 9935 | 10151 | Male   | 52 | CA  | 254.2500 |\n| 8713 |  8915 | Male   | 41 | BRA | 248.9500 |\n| ⋮ | ⋮ | ⋮ | ⋮ | ⋮ | ⋮ |\n| 15236 | 15514 | Male   | 40 | NY  | 281.4000 |\n| 20863 | 21215 | Male   | 53 | MA  | 331.7000 |\n| 6238 |  6402 | Male   | 35 | ITA | 235.8000 |\n| 22642 | 23010 | Male   | 69 | MI  | 376.6500 |\n| 15733 | 16017 | Male   | 24 | NY  | 284.3167 |\n| 22691 | 23059 | Male   | 51 | CT  | 380.6833 |\n| 20188 | 20532 | Male   | 29 | NY  | 316.8167 |\n| 13477 | 13736 | Female | 33 | CT  | 273.0000 |\n| 9151 |  9353 | Male   | 30 | NY  | 251.5833 |\n| 2200 |  2279 | Male   | 21 | NJ  | 206.1333 |\n| 17945 | 18272 | Male   | 43 | FL  | 298.4000 |\n| 13982 | 14246 | Male   | 31 | NY  | 275.5500 |\n| 13403 | 13661 | Male   | 39 | FRA | 270.2833 |\n| 1595 |  1654 | Male   | 35 | ESP | 200.5500 |\n| 15869 | 16157 | Male   | 31 | ITA | 285.2500 |\n| 20530 | 20877 | Male   | 29 | SUI | 324.6667 |\n| 13981 | 14245 | Male   | 40 | MA  | 273.7000 |\n| 13190 | 13446 | Female | 37 | IN  | 267.6333 |\n| 1038 |  1079 | Male   | 40 | NED | 191.3167 |\n| 13752 | 14013 | Male   | 49 | ITA | 273.0333 |\n| 23273 | 23645 | Female | 46 | NY  | 501.5500 |\n| 15901 | 16189 | Female | 51 | TN  | 285.3500 |\n| 14889 | 15162 | Female | 50 | GER | 278.1167 |\n| 11547 | 11784 | Female | 40 | NY  | 263.3833 |\n| 4079 |  4206 | Male   | 27 | CAN | 223.3333 |\n| 15972 | 16261 | Male   | 61 | FRA | 285.8833 |\n| 1090 |  1131 | Male   | 37 | GBR | 191.9167 |\n| 16419 | 16713 | Female | 53 | IRL | 289.0167 |\n| 13977 | 14241 | Female | 21 | NY  | 276.0500 |\n| 8527 |  8726 | Male   | 55 | GER | 240.9667 |\n\n",
            "text/html": [
              "<table class=\"dataframe\">\n",
              "<caption>A data.frame: 1000 × 5</caption>\n",
              "<thead>\n",
              "\t<tr><th></th><th scope=col>place</th><th scope=col>gender</th><th scope=col>age</th><th scope=col>home</th><th scope=col>time</th></tr>\n",
              "\t<tr><th></th><th scope=col>&lt;dbl&gt;</th><th scope=col>&lt;fct&gt;</th><th scope=col>&lt;dbl&gt;</th><th scope=col>&lt;fct&gt;</th><th scope=col>&lt;dbl&gt;</th></tr>\n",
              "</thead>\n",
              "<tbody>\n",
              "\t<tr><th scope=row>3475</th><td> 3592</td><td>Male  </td><td>52</td><td>GBR</td><td>217.4833</td></tr>\n",
              "\t<tr><th scope=row>13594</th><td>13853</td><td>Female</td><td>40</td><td>NY </td><td>272.5500</td></tr>\n",
              "\t<tr><th scope=row>12012</th><td>12256</td><td>Male  </td><td>31</td><td>FRA</td><td>265.2833</td></tr>\n",
              "\t<tr><th scope=row>10236</th><td>10457</td><td>Female</td><td>33</td><td>MI </td><td>256.1500</td></tr>\n",
              "\t<tr><th scope=row>9476</th><td> 9686</td><td>Male  </td><td>33</td><td>NY </td><td>252.2500</td></tr>\n",
              "\t<tr><th scope=row>1720</th><td> 1784</td><td>Male  </td><td>40</td><td>NJ </td><td>201.9667</td></tr>\n",
              "\t<tr><th scope=row>15736</th><td>16020</td><td>Female</td><td>30</td><td>CA </td><td>283.5667</td></tr>\n",
              "\t<tr><th scope=row>10580</th><td>10805</td><td>Male  </td><td>27</td><td>GBR</td><td>255.8833</td></tr>\n",
              "\t<tr><th scope=row>11957</th><td>12201</td><td>Male  </td><td>42</td><td>NED</td><td>264.2500</td></tr>\n",
              "\t<tr><th scope=row>18933</th><td>19266</td><td>Male  </td><td>48</td><td>B.C</td><td>306.6833</td></tr>\n",
              "\t<tr><th scope=row>14956</th><td>15229</td><td>Female</td><td>63</td><td>GBR</td><td>281.2667</td></tr>\n",
              "\t<tr><th scope=row>14987</th><td>15260</td><td>Male  </td><td>49</td><td>ITA</td><td>280.2500</td></tr>\n",
              "\t<tr><th scope=row>10447</th><td>10670</td><td>Male  </td><td>33</td><td>NY </td><td>258.3333</td></tr>\n",
              "\t<tr><th scope=row>10435</th><td>10658</td><td>Male  </td><td>43</td><td>NY </td><td>257.1333</td></tr>\n",
              "\t<tr><th scope=row>191</th><td>  200</td><td>Male  </td><td>40</td><td>GER</td><td>163.9333</td></tr>\n",
              "\t<tr><th scope=row>9962</th><td>10178</td><td>Male  </td><td>33</td><td>NY </td><td>253.6167</td></tr>\n",
              "\t<tr><th scope=row>2379</th><td> 2467</td><td>Male  </td><td>40</td><td>FRA</td><td>206.2667</td></tr>\n",
              "\t<tr><th scope=row>10505</th><td>10729</td><td>Male  </td><td>36</td><td>NY </td><td>257.9333</td></tr>\n",
              "\t<tr><th scope=row>11853</th><td>12093</td><td>Male  </td><td>49</td><td>SWE</td><td>262.1333</td></tr>\n",
              "\t<tr><th scope=row>12181</th><td>12428</td><td>Female</td><td>34</td><td>NY </td><td>264.2167</td></tr>\n",
              "\t<tr><th scope=row>2633</th><td> 2730</td><td>Male  </td><td>26</td><td>DEN</td><td>209.7333</td></tr>\n",
              "\t<tr><th scope=row>11935</th><td>12179</td><td>Male  </td><td>50</td><td>NED</td><td>265.2500</td></tr>\n",
              "\t<tr><th scope=row>20116</th><td>20460</td><td>Male  </td><td>33</td><td>NJ </td><td>315.2333</td></tr>\n",
              "\t<tr><th scope=row>23043</th><td>23413</td><td>Male  </td><td>71</td><td>FL </td><td>414.7000</td></tr>\n",
              "\t<tr><th scope=row>19584</th><td>19921</td><td>Female</td><td>39</td><td>GER</td><td>309.2667</td></tr>\n",
              "\t<tr><th scope=row>11640</th><td>11878</td><td>Female</td><td>28</td><td>GBR</td><td>261.2667</td></tr>\n",
              "\t<tr><th scope=row>17363</th><td>17683</td><td>Male  </td><td>52</td><td>GBR</td><td>295.3167</td></tr>\n",
              "\t<tr><th scope=row>17611</th><td>17933</td><td>Male  </td><td>28</td><td>NED</td><td>294.8333</td></tr>\n",
              "\t<tr><th scope=row>9935</th><td>10151</td><td>Male  </td><td>52</td><td>CA </td><td>254.2500</td></tr>\n",
              "\t<tr><th scope=row>8713</th><td> 8915</td><td>Male  </td><td>41</td><td>BRA</td><td>248.9500</td></tr>\n",
              "\t<tr><th scope=row>⋮</th><td>⋮</td><td>⋮</td><td>⋮</td><td>⋮</td><td>⋮</td></tr>\n",
              "\t<tr><th scope=row>15236</th><td>15514</td><td>Male  </td><td>40</td><td>NY </td><td>281.4000</td></tr>\n",
              "\t<tr><th scope=row>20863</th><td>21215</td><td>Male  </td><td>53</td><td>MA </td><td>331.7000</td></tr>\n",
              "\t<tr><th scope=row>6238</th><td> 6402</td><td>Male  </td><td>35</td><td>ITA</td><td>235.8000</td></tr>\n",
              "\t<tr><th scope=row>22642</th><td>23010</td><td>Male  </td><td>69</td><td>MI </td><td>376.6500</td></tr>\n",
              "\t<tr><th scope=row>15733</th><td>16017</td><td>Male  </td><td>24</td><td>NY </td><td>284.3167</td></tr>\n",
              "\t<tr><th scope=row>22691</th><td>23059</td><td>Male  </td><td>51</td><td>CT </td><td>380.6833</td></tr>\n",
              "\t<tr><th scope=row>20188</th><td>20532</td><td>Male  </td><td>29</td><td>NY </td><td>316.8167</td></tr>\n",
              "\t<tr><th scope=row>13477</th><td>13736</td><td>Female</td><td>33</td><td>CT </td><td>273.0000</td></tr>\n",
              "\t<tr><th scope=row>9151</th><td> 9353</td><td>Male  </td><td>30</td><td>NY </td><td>251.5833</td></tr>\n",
              "\t<tr><th scope=row>2200</th><td> 2279</td><td>Male  </td><td>21</td><td>NJ </td><td>206.1333</td></tr>\n",
              "\t<tr><th scope=row>17945</th><td>18272</td><td>Male  </td><td>43</td><td>FL </td><td>298.4000</td></tr>\n",
              "\t<tr><th scope=row>13982</th><td>14246</td><td>Male  </td><td>31</td><td>NY </td><td>275.5500</td></tr>\n",
              "\t<tr><th scope=row>13403</th><td>13661</td><td>Male  </td><td>39</td><td>FRA</td><td>270.2833</td></tr>\n",
              "\t<tr><th scope=row>1595</th><td> 1654</td><td>Male  </td><td>35</td><td>ESP</td><td>200.5500</td></tr>\n",
              "\t<tr><th scope=row>15869</th><td>16157</td><td>Male  </td><td>31</td><td>ITA</td><td>285.2500</td></tr>\n",
              "\t<tr><th scope=row>20530</th><td>20877</td><td>Male  </td><td>29</td><td>SUI</td><td>324.6667</td></tr>\n",
              "\t<tr><th scope=row>13981</th><td>14245</td><td>Male  </td><td>40</td><td>MA </td><td>273.7000</td></tr>\n",
              "\t<tr><th scope=row>13190</th><td>13446</td><td>Female</td><td>37</td><td>IN </td><td>267.6333</td></tr>\n",
              "\t<tr><th scope=row>1038</th><td> 1079</td><td>Male  </td><td>40</td><td>NED</td><td>191.3167</td></tr>\n",
              "\t<tr><th scope=row>13752</th><td>14013</td><td>Male  </td><td>49</td><td>ITA</td><td>273.0333</td></tr>\n",
              "\t<tr><th scope=row>23273</th><td>23645</td><td>Female</td><td>46</td><td>NY </td><td>501.5500</td></tr>\n",
              "\t<tr><th scope=row>15901</th><td>16189</td><td>Female</td><td>51</td><td>TN </td><td>285.3500</td></tr>\n",
              "\t<tr><th scope=row>14889</th><td>15162</td><td>Female</td><td>50</td><td>GER</td><td>278.1167</td></tr>\n",
              "\t<tr><th scope=row>11547</th><td>11784</td><td>Female</td><td>40</td><td>NY </td><td>263.3833</td></tr>\n",
              "\t<tr><th scope=row>4079</th><td> 4206</td><td>Male  </td><td>27</td><td>CAN</td><td>223.3333</td></tr>\n",
              "\t<tr><th scope=row>15972</th><td>16261</td><td>Male  </td><td>61</td><td>FRA</td><td>285.8833</td></tr>\n",
              "\t<tr><th scope=row>1090</th><td> 1131</td><td>Male  </td><td>37</td><td>GBR</td><td>191.9167</td></tr>\n",
              "\t<tr><th scope=row>16419</th><td>16713</td><td>Female</td><td>53</td><td>IRL</td><td>289.0167</td></tr>\n",
              "\t<tr><th scope=row>13977</th><td>14241</td><td>Female</td><td>21</td><td>NY </td><td>276.0500</td></tr>\n",
              "\t<tr><th scope=row>8527</th><td> 8726</td><td>Male  </td><td>55</td><td>GER</td><td>240.9667</td></tr>\n",
              "</tbody>\n",
              "</table>\n"
            ]
          },
          "metadata": {}
        }
      ],
      "source": [
        "# 1.25\n",
        "data(\"nym.2002\")\n",
        "nym.2002"
      ]
    },
    {
      "cell_type": "code",
      "execution_count": 22,
      "id": "702acbc3",
      "metadata": {
        "colab": {
          "base_uri": "https://localhost:8080/",
          "height": 34
        },
        "id": "702acbc3",
        "outputId": "9a09822e-f4fd-495b-866c-2ce54c9985c4"
      },
      "outputs": [
        {
          "output_type": "display_data",
          "data": {
            "text/plain": [
              "[1] 1000"
            ],
            "text/latex": "1000",
            "text/markdown": "1000",
            "text/html": [
              "1000"
            ]
          },
          "metadata": {}
        }
      ],
      "source": [
        "# Q 1.25 -1\n",
        "length(nym.2002$time)"
      ]
    },
    {
      "cell_type": "code",
      "execution_count": 23,
      "id": "36932acd",
      "metadata": {
        "colab": {
          "base_uri": "https://localhost:8080/",
          "height": 52
        },
        "id": "36932acd",
        "outputId": "c858808d-a6de-4985-f687-d28f730889a6"
      },
      "outputs": [
        {
          "output_type": "display_data",
          "data": {
            "text/plain": [
              "[1] 147.3333"
            ],
            "text/latex": "147.333333333333",
            "text/markdown": "147.333333333333",
            "text/html": [
              "147.333333333333"
            ]
          },
          "metadata": {}
        },
        {
          "output_type": "display_data",
          "data": {
            "text/plain": [
              "[1] \"2:27\""
            ],
            "text/latex": "'2:27'",
            "text/markdown": "'2:27'",
            "text/html": [
              "'2:27'"
            ]
          },
          "metadata": {}
        }
      ],
      "source": [
        "# Q 1.25 - 2\n",
        "min(nym.2002$time)\n",
        "paste(min(nym.2002$time)%/% 60, round(min(nym.2002$time) %% 60), sep=\":\")"
      ]
    },
    {
      "cell_type": "code",
      "execution_count": 24,
      "id": "40db2fdf",
      "metadata": {
        "colab": {
          "base_uri": "https://localhost:8080/",
          "height": 52
        },
        "id": "40db2fdf",
        "outputId": "da6da530-98df-4625-ae74-85be9ab7cd88"
      },
      "outputs": [
        {
          "output_type": "display_data",
          "data": {
            "text/plain": [
              "[1] 566.7833"
            ],
            "text/latex": "566.783333333333",
            "text/markdown": "566.783333333333",
            "text/html": [
              "566.783333333333"
            ]
          },
          "metadata": {}
        },
        {
          "output_type": "display_data",
          "data": {
            "text/plain": [
              "[1] \"9:27\""
            ],
            "text/latex": "'9:27'",
            "text/markdown": "'9:27'",
            "text/html": [
              "'9:27'"
            ]
          },
          "metadata": {}
        }
      ],
      "source": [
        "# Q 1.25 - 3\n",
        "max(nym.2002$time)\n",
        "paste(max(nym.2002$time)%/%60, round(max(nym.2002$time)%%60),sep=\":\")"
      ]
    },
    {
      "cell_type": "code",
      "execution_count": 25,
      "id": "99eb0fd7",
      "metadata": {
        "colab": {
          "base_uri": "https://localhost:8080/",
          "height": 139
        },
        "id": "99eb0fd7",
        "outputId": "477cd85a-1a30-4b0b-baa1-30123e305fb9"
      },
      "outputs": [
        {
          "output_type": "display_data",
          "data": {
            "text/plain": [
              "  [1]  735  320  325  392  524  450 1459  135  465  600  330  336  280  315  870\n",
              " [16]  906  202  329  290 1000  600  505 1450  840 1243  890  350  407  286  280\n",
              " [31]  525  720  390  250  327  230  265  850  210  630  260  230  360  730  600\n",
              " [46]  306  390  420  291  710  340  217  281  352  259  250  470  680  570  350\n",
              " [61]  300  560  900  625  332 2348 1171 3710 2315 2533  780  280  410  460  260\n",
              " [76]  255  431  350  760  618  338  981 1306  500  696  605  250  411 1054  735\n",
              " [91]  233  435  490  310  460  383  375 1270  545  445 1885  380  300  380  377\n",
              "[106]  425  276  210  800  420  350  360  538 1100 1205  314  237  610  360  540\n",
              "[121] 1038  424  310  300  444  301  268  620  215  652  900  525  246  360  529\n",
              "[136]  500  720  270  430  671 1770"
            ],
            "text/latex": "\\begin{enumerate*}\n\\item 735\n\\item 320\n\\item 325\n\\item 392\n\\item 524\n\\item 450\n\\item 1459\n\\item 135\n\\item 465\n\\item 600\n\\item 330\n\\item 336\n\\item 280\n\\item 315\n\\item 870\n\\item 906\n\\item 202\n\\item 329\n\\item 290\n\\item 1000\n\\item 600\n\\item 505\n\\item 1450\n\\item 840\n\\item 1243\n\\item 890\n\\item 350\n\\item 407\n\\item 286\n\\item 280\n\\item 525\n\\item 720\n\\item 390\n\\item 250\n\\item 327\n\\item 230\n\\item 265\n\\item 850\n\\item 210\n\\item 630\n\\item 260\n\\item 230\n\\item 360\n\\item 730\n\\item 600\n\\item 306\n\\item 390\n\\item 420\n\\item 291\n\\item 710\n\\item 340\n\\item 217\n\\item 281\n\\item 352\n\\item 259\n\\item 250\n\\item 470\n\\item 680\n\\item 570\n\\item 350\n\\item 300\n\\item 560\n\\item 900\n\\item 625\n\\item 332\n\\item 2348\n\\item 1171\n\\item 3710\n\\item 2315\n\\item 2533\n\\item 780\n\\item 280\n\\item 410\n\\item 460\n\\item 260\n\\item 255\n\\item 431\n\\item 350\n\\item 760\n\\item 618\n\\item 338\n\\item 981\n\\item 1306\n\\item 500\n\\item 696\n\\item 605\n\\item 250\n\\item 411\n\\item 1054\n\\item 735\n\\item 233\n\\item 435\n\\item 490\n\\item 310\n\\item 460\n\\item 383\n\\item 375\n\\item 1270\n\\item 545\n\\item 445\n\\item 1885\n\\item 380\n\\item 300\n\\item 380\n\\item 377\n\\item 425\n\\item 276\n\\item 210\n\\item 800\n\\item 420\n\\item 350\n\\item 360\n\\item 538\n\\item 1100\n\\item 1205\n\\item 314\n\\item 237\n\\item 610\n\\item 360\n\\item 540\n\\item 1038\n\\item 424\n\\item 310\n\\item 300\n\\item 444\n\\item 301\n\\item 268\n\\item 620\n\\item 215\n\\item 652\n\\item 900\n\\item 525\n\\item 246\n\\item 360\n\\item 529\n\\item 500\n\\item 720\n\\item 270\n\\item 430\n\\item 671\n\\item 1770\n\\end{enumerate*}\n",
            "text/markdown": "1. 735\n2. 320\n3. 325\n4. 392\n5. 524\n6. 450\n7. 1459\n8. 135\n9. 465\n10. 600\n11. 330\n12. 336\n13. 280\n14. 315\n15. 870\n16. 906\n17. 202\n18. 329\n19. 290\n20. 1000\n21. 600\n22. 505\n23. 1450\n24. 840\n25. 1243\n26. 890\n27. 350\n28. 407\n29. 286\n30. 280\n31. 525\n32. 720\n33. 390\n34. 250\n35. 327\n36. 230\n37. 265\n38. 850\n39. 210\n40. 630\n41. 260\n42. 230\n43. 360\n44. 730\n45. 600\n46. 306\n47. 390\n48. 420\n49. 291\n50. 710\n51. 340\n52. 217\n53. 281\n54. 352\n55. 259\n56. 250\n57. 470\n58. 680\n59. 570\n60. 350\n61. 300\n62. 560\n63. 900\n64. 625\n65. 332\n66. 2348\n67. 1171\n68. 3710\n69. 2315\n70. 2533\n71. 780\n72. 280\n73. 410\n74. 460\n75. 260\n76. 255\n77. 431\n78. 350\n79. 760\n80. 618\n81. 338\n82. 981\n83. 1306\n84. 500\n85. 696\n86. 605\n87. 250\n88. 411\n89. 1054\n90. 735\n91. 233\n92. 435\n93. 490\n94. 310\n95. 460\n96. 383\n97. 375\n98. 1270\n99. 545\n100. 445\n101. 1885\n102. 380\n103. 300\n104. 380\n105. 377\n106. 425\n107. 276\n108. 210\n109. 800\n110. 420\n111. 350\n112. 360\n113. 538\n114. 1100\n115. 1205\n116. 314\n117. 237\n118. 610\n119. 360\n120. 540\n121. 1038\n122. 424\n123. 310\n124. 300\n125. 444\n126. 301\n127. 268\n128. 620\n129. 215\n130. 652\n131. 900\n132. 525\n133. 246\n134. 360\n135. 529\n136. 500\n137. 720\n138. 270\n139. 430\n140. 671\n141. 1770\n\n\n",
            "text/html": [
              "<style>\n",
              ".list-inline {list-style: none; margin:0; padding: 0}\n",
              ".list-inline>li {display: inline-block}\n",
              ".list-inline>li:not(:last-child)::after {content: \"\\00b7\"; padding: 0 .5ex}\n",
              "</style>\n",
              "<ol class=list-inline><li>735</li><li>320</li><li>325</li><li>392</li><li>524</li><li>450</li><li>1459</li><li>135</li><li>465</li><li>600</li><li>330</li><li>336</li><li>280</li><li>315</li><li>870</li><li>906</li><li>202</li><li>329</li><li>290</li><li>1000</li><li>600</li><li>505</li><li>1450</li><li>840</li><li>1243</li><li>890</li><li>350</li><li>407</li><li>286</li><li>280</li><li>525</li><li>720</li><li>390</li><li>250</li><li>327</li><li>230</li><li>265</li><li>850</li><li>210</li><li>630</li><li>260</li><li>230</li><li>360</li><li>730</li><li>600</li><li>306</li><li>390</li><li>420</li><li>291</li><li>710</li><li>340</li><li>217</li><li>281</li><li>352</li><li>259</li><li>250</li><li>470</li><li>680</li><li>570</li><li>350</li><li>300</li><li>560</li><li>900</li><li>625</li><li>332</li><li>2348</li><li>1171</li><li>3710</li><li>2315</li><li>2533</li><li>780</li><li>280</li><li>410</li><li>460</li><li>260</li><li>255</li><li>431</li><li>350</li><li>760</li><li>618</li><li>338</li><li>981</li><li>1306</li><li>500</li><li>696</li><li>605</li><li>250</li><li>411</li><li>1054</li><li>735</li><li>233</li><li>435</li><li>490</li><li>310</li><li>460</li><li>383</li><li>375</li><li>1270</li><li>545</li><li>445</li><li>1885</li><li>380</li><li>300</li><li>380</li><li>377</li><li>425</li><li>276</li><li>210</li><li>800</li><li>420</li><li>350</li><li>360</li><li>538</li><li>1100</li><li>1205</li><li>314</li><li>237</li><li>610</li><li>360</li><li>540</li><li>1038</li><li>424</li><li>310</li><li>300</li><li>444</li><li>301</li><li>268</li><li>620</li><li>215</li><li>652</li><li>900</li><li>525</li><li>246</li><li>360</li><li>529</li><li>500</li><li>720</li><li>270</li><li>430</li><li>671</li><li>1770</li></ol>\n"
            ]
          },
          "metadata": {}
        },
        {
          "output_type": "display_data",
          "data": {
            "text/plain": [
              "[1] 3710"
            ],
            "text/latex": "3710",
            "text/markdown": "3710",
            "text/html": [
              "3710"
            ]
          },
          "metadata": {}
        },
        {
          "output_type": "display_data",
          "data": {
            "text/plain": [
              "[1] 135"
            ],
            "text/latex": "135",
            "text/markdown": "135",
            "text/html": [
              "135"
            ]
          },
          "metadata": {}
        }
      ],
      "source": [
        "# Q 1.26\n",
        "data(\"rivers\")\n",
        "rivers\n",
        "max(rivers)\n",
        "min(rivers)"
      ]
    },
    {
      "cell_type": "code",
      "execution_count": 26,
      "id": "fb4084c8",
      "metadata": {
        "id": "fb4084c8"
      },
      "outputs": [],
      "source": [
        "# Q 1.27\n",
        "data(\"uspop\")"
      ]
    },
    {
      "cell_type": "code",
      "execution_count": 27,
      "id": "92476749",
      "metadata": {
        "colab": {
          "base_uri": "https://localhost:8080/",
          "height": 34
        },
        "id": "92476749",
        "outputId": "1997d802-4ada-454f-c648-8860d00f6ec0"
      },
      "outputs": [
        {
          "output_type": "display_data",
          "data": {
            "text/plain": [
              " [1] \"1790\" \"1800\" \"1810\" \"1820\" \"1830\" \"1840\" \"1850\" \"1860\" \"1870\" \"1880\"\n",
              "[11] \"1890\" \"1900\" \"1910\" \"1920\" \"1930\" \"1940\" \"1950\" \"1960\" \"1970\""
            ],
            "text/latex": "\\begin{enumerate*}\n\\item '1790'\n\\item '1800'\n\\item '1810'\n\\item '1820'\n\\item '1830'\n\\item '1840'\n\\item '1850'\n\\item '1860'\n\\item '1870'\n\\item '1880'\n\\item '1890'\n\\item '1900'\n\\item '1910'\n\\item '1920'\n\\item '1930'\n\\item '1940'\n\\item '1950'\n\\item '1960'\n\\item '1970'\n\\end{enumerate*}\n",
            "text/markdown": "1. '1790'\n2. '1800'\n3. '1810'\n4. '1820'\n5. '1830'\n6. '1840'\n7. '1850'\n8. '1860'\n9. '1870'\n10. '1880'\n11. '1890'\n12. '1900'\n13. '1910'\n14. '1920'\n15. '1930'\n16. '1940'\n17. '1950'\n18. '1960'\n19. '1970'\n\n\n",
            "text/html": [
              "<style>\n",
              ".list-inline {list-style: none; margin:0; padding: 0}\n",
              ".list-inline>li {display: inline-block}\n",
              ".list-inline>li:not(:last-child)::after {content: \"\\00b7\"; padding: 0 .5ex}\n",
              "</style>\n",
              "<ol class=list-inline><li>'1790'</li><li>'1800'</li><li>'1810'</li><li>'1820'</li><li>'1830'</li><li>'1840'</li><li>'1850'</li><li>'1860'</li><li>'1870'</li><li>'1880'</li><li>'1890'</li><li>'1900'</li><li>'1910'</li><li>'1920'</li><li>'1930'</li><li>'1940'</li><li>'1950'</li><li>'1960'</li><li>'1970'</li></ol>\n"
            ]
          },
          "metadata": {}
        }
      ],
      "source": [
        "# Q 1.27 - 1\n",
        "names(uspop) = seq(1790, 1970, by= 10)\n",
        "names(uspop)"
      ]
    },
    {
      "cell_type": "code",
      "execution_count": 28,
      "id": "23a5f754",
      "metadata": {
        "colab": {
          "base_uri": "https://localhost:8080/",
          "height": 52
        },
        "id": "23a5f754",
        "outputId": "075c198a-c416-4444-94a5-831c957f60fd"
      },
      "outputs": [
        {
          "output_type": "display_data",
          "data": {
            "text/plain": [
              " 1950  1960 \n",
              "151.3 179.3 "
            ],
            "text/latex": "\\begin{description*}\n\\item[1950] 151.3\n\\item[1960] 179.3\n\\end{description*}\n",
            "text/markdown": "1950\n:   151.31960\n:   179.3\n\n",
            "text/html": [
              "<style>\n",
              ".dl-inline {width: auto; margin:0; padding: 0}\n",
              ".dl-inline>dt, .dl-inline>dd {float: none; width: auto; display: inline-block}\n",
              ".dl-inline>dt::after {content: \":\\0020\"; padding-right: .5ex}\n",
              ".dl-inline>dt:not(:first-of-type) {padding-left: .5ex}\n",
              "</style><dl class=dl-inline><dt>1950</dt><dd>151.3</dd><dt>1960</dt><dd>179.3</dd></dl>\n"
            ]
          },
          "metadata": {}
        },
        {
          "output_type": "display_data",
          "data": {
            "text/plain": [
              "[1] 28"
            ],
            "text/latex": "28",
            "text/markdown": "28",
            "text/html": [
              "28"
            ]
          },
          "metadata": {}
        }
      ],
      "source": [
        "# Q 1.27 - 2 \n",
        "idecade = diff(uspop)\n",
        "uspop[c(which.max(idecade),which.max(idecade)+1)]\n",
        "max(idecade)"
      ]
    },
    {
      "cell_type": "code",
      "execution_count": 30,
      "id": "900b1f54",
      "metadata": {
        "colab": {
          "base_uri": "https://localhost:8080/",
          "height": 34
        },
        "id": "900b1f54",
        "outputId": "fe28d8a9-ff0c-4a1d-9269-258d158f0042"
      },
      "outputs": [
        {
          "output_type": "display_data",
          "data": {
            "text/plain": [
              " [1] \"TRUE\" \"TRUE\" \"TRUE\" \"TRUE\" \"TRUE\" \"TRUE\" \"TRUE\" \"TRUE\" \"TRUE\" \"TRUE\"\n",
              "[11] \"TRUE\" \"TRUE\" \"TRUE\" \"TRUE\" \"TRUE\" \"TRUE\" \"TRUE\" \"TRUE\""
            ],
            "text/latex": "\\begin{enumerate*}\n\\item 'TRUE'\n\\item 'TRUE'\n\\item 'TRUE'\n\\item 'TRUE'\n\\item 'TRUE'\n\\item 'TRUE'\n\\item 'TRUE'\n\\item 'TRUE'\n\\item 'TRUE'\n\\item 'TRUE'\n\\item 'TRUE'\n\\item 'TRUE'\n\\item 'TRUE'\n\\item 'TRUE'\n\\item 'TRUE'\n\\item 'TRUE'\n\\item 'TRUE'\n\\item 'TRUE'\n\\end{enumerate*}\n",
            "text/markdown": "1. 'TRUE'\n2. 'TRUE'\n3. 'TRUE'\n4. 'TRUE'\n5. 'TRUE'\n6. 'TRUE'\n7. 'TRUE'\n8. 'TRUE'\n9. 'TRUE'\n10. 'TRUE'\n11. 'TRUE'\n12. 'TRUE'\n13. 'TRUE'\n14. 'TRUE'\n15. 'TRUE'\n16. 'TRUE'\n17. 'TRUE'\n18. 'TRUE'\n\n\n",
            "text/html": [
              "<style>\n",
              ".list-inline {list-style: none; margin:0; padding: 0}\n",
              ".list-inline>li {display: inline-block}\n",
              ".list-inline>li:not(:last-child)::after {content: \"\\00b7\"; padding: 0 .5ex}\n",
              "</style>\n",
              "<ol class=list-inline><li>'TRUE'</li><li>'TRUE'</li><li>'TRUE'</li><li>'TRUE'</li><li>'TRUE'</li><li>'TRUE'</li><li>'TRUE'</li><li>'TRUE'</li><li>'TRUE'</li><li>'TRUE'</li><li>'TRUE'</li><li>'TRUE'</li><li>'TRUE'</li><li>'TRUE'</li><li>'TRUE'</li><li>'TRUE'</li><li>'TRUE'</li><li>'TRUE'</li></ol>\n"
            ]
          },
          "metadata": {}
        }
      ],
      "source": [
        "# Q 1.27 - 3\n",
        "paste(idecade > 0)\n",
        "#All the TRUE values of output signifies that the data of population is always greater than the previous year. In other words, the population is increasing every year.\n"
      ]
    },
    {
      "cell_type": "code",
      "execution_count": null,
      "id": "03f81e39",
      "metadata": {
        "id": "03f81e39"
      },
      "outputs": [],
      "source": [
        ""
      ]
    }
  ],
  "metadata": {
    "kernelspec": {
      "display_name": "R",
      "language": "R",
      "name": "ir"
    },
    "language_info": {
      "codemirror_mode": "r",
      "file_extension": ".r",
      "mimetype": "text/x-r-source",
      "name": "R",
      "pygments_lexer": "r",
      "version": "3.6.1"
    },
    "colab": {
      "name": "Homework1_R copy.ipynb",
      "provenance": []
    }
  },
  "nbformat": 4,
  "nbformat_minor": 5
}