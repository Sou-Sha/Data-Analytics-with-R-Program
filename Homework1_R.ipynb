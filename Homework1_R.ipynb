{
 "cells": [
  {
   "cell_type": "markdown",
   "id": "45c04166",
   "metadata": {},
   "source": [
    "Q1.20) The built-in data set islands contains the size of the world’s land masses that \n",
    "exceed 10,000 square miles. Use sort() with the argument decreasing=TRUE to \n",
    "find the seven largest land masses. \n",
    "For Example, the expected solution is > sort(islands, decreasing=TRUE)[1:7] \n",
    "         Asia        Africa North America South America    Antarctica        Europe     Australia  \n",
    "        16988         11506          9390          6795          5500          3745          2968 "
   ]
  },
  {
   "cell_type": "code",
   "execution_count": 1,
   "id": "443ba876",
   "metadata": {
    "colab": {
     "base_uri": "https://localhost:8080/",
     "height": 34
    },
    "id": "443ba876",
    "outputId": "edcfe8e6-fe88-4e36-c453-c2bc4bf24983"
   },
   "outputs": [
    {
     "data": {
      "text/html": [
       "<style>\n",
       ".dl-inline {width: auto; margin:0; padding: 0}\n",
       ".dl-inline>dt, .dl-inline>dd {float: none; width: auto; display: inline-block}\n",
       ".dl-inline>dt::after {content: \":\\0020\"; padding-right: .5ex}\n",
       ".dl-inline>dt:not(:first-of-type) {padding-left: .5ex}\n",
       "</style><dl class=dl-inline><dt>Asia</dt><dd>16988</dd><dt>Africa</dt><dd>11506</dd><dt>North America</dt><dd>9390</dd><dt>South America</dt><dd>6795</dd><dt>Antarctica</dt><dd>5500</dd><dt>Europe</dt><dd>3745</dd><dt>Australia</dt><dd>2968</dd></dl>\n"
      ],
      "text/latex": [
       "\\begin{description*}\n",
       "\\item[Asia] 16988\n",
       "\\item[Africa] 11506\n",
       "\\item[North America] 9390\n",
       "\\item[South America] 6795\n",
       "\\item[Antarctica] 5500\n",
       "\\item[Europe] 3745\n",
       "\\item[Australia] 2968\n",
       "\\end{description*}\n"
      ],
      "text/markdown": [
       "Asia\n",
       ":   16988Africa\n",
       ":   11506North America\n",
       ":   9390South America\n",
       ":   6795Antarctica\n",
       ":   5500Europe\n",
       ":   3745Australia\n",
       ":   2968\n",
       "\n"
      ],
      "text/plain": [
       "         Asia        Africa North America South America    Antarctica \n",
       "        16988         11506          9390          6795          5500 \n",
       "       Europe     Australia \n",
       "         3745          2968 "
      ]
     },
     "metadata": {},
     "output_type": "display_data"
    }
   ],
   "source": [
    "# Q1.20\n",
    "sort(islands, decreasing=TRUE)[1:7]"
   ]
  },
  {
   "cell_type": "code",
   "execution_count": 5,
   "id": "60dba1a9",
   "metadata": {
    "colab": {
     "base_uri": "https://localhost:8080/"
    },
    "id": "60dba1a9",
    "outputId": "1ddd80c7-3c5c-4a19-96b4-421af76bb8f6"
   },
   "outputs": [
    {
     "name": "stderr",
     "output_type": "stream",
     "text": [
      "Installing package into ‘/usr/local/lib/R/site-library’\n",
      "(as ‘lib’ is unspecified)\n",
      "\n",
      "Installing package into ‘/usr/local/lib/R/site-library’\n",
      "(as ‘lib’ is unspecified)\n",
      "\n",
      "also installing the dependencies ‘png’, ‘jpeg’, ‘checkmate’, ‘htmlwidgets’, ‘Formula’, ‘latticeExtra’, ‘gridExtra’, ‘htmlTable’, ‘viridis’\n",
      "\n",
      "\n",
      "Warning message in install.packages(\"Hmisc\"):\n",
      "“installation of package ‘png’ had non-zero exit status”\n",
      "Warning message in install.packages(\"Hmisc\"):\n",
      "“installation of package ‘latticeExtra’ had non-zero exit status”\n",
      "Warning message in install.packages(\"Hmisc\"):\n",
      "“installation of package ‘Hmisc’ had non-zero exit status”\n",
      "Installing package into ‘/usr/local/lib/R/site-library’\n",
      "(as ‘lib’ is unspecified)\n",
      "\n",
      "Installing package into ‘/usr/local/lib/R/site-library’\n",
      "(as ‘lib’ is unspecified)\n",
      "\n",
      "also installing the dependencies ‘png’, ‘latticeExtra’, ‘Hmisc’\n",
      "\n",
      "\n"
     ]
    }
   ],
   "source": [
    "# packages HistData, Formula, Hmisc, UsingR were not available\n",
    "install.packages(\"HistData\")\n",
    "install.packages(\"Hmisc\")\n",
    "install.packages(\"Formula\")\n",
    "install.packages(\"UsingR\")"
   ]
  },
  {
   "cell_type": "code",
   "execution_count": 6,
   "id": "8ce5aeee",
   "metadata": {
    "colab": {
     "base_uri": "https://localhost:8080/"
    },
    "id": "8ce5aeee",
    "outputId": "4358caad-d5f9-40c0-b1c6-5848243d94a3"
   },
   "outputs": [
    {
     "name": "stderr",
     "output_type": "stream",
     "text": [
      "\n",
      "Attaching package: ‘Hmisc’\n",
      "\n",
      "\n",
      "The following objects are masked from ‘package:base’:\n",
      "\n",
      "    format.pval, units\n",
      "\n",
      "\n",
      "\n",
      "Attaching package: ‘UsingR’\n",
      "\n",
      "\n",
      "The following object is masked from ‘package:survival’:\n",
      "\n",
      "    cancer\n",
      "\n",
      "\n"
     ]
    }
   ],
   "source": [
    "library(MASS)\n",
    "library(HistData)\n",
    "library(lattice)\n",
    "library(survival)\n",
    "library(Formula)\n",
    "library(ggplot2)\n",
    "library(Hmisc)\n",
    "library(UsingR)"
   ]
  },
  {
   "cell_type": "markdown",
   "id": "2e5c8239",
   "metadata": {},
   "source": [
    "Q1.21) Load the data set primes (UsingR). This is the set of prime numbers in \n",
    "[1,2003]. How many are there? How many in the range [1,100]? [100,1000]? "
   ]
  },
  {
   "cell_type": "code",
   "execution_count": 7,
   "id": "76735f64",
   "metadata": {
    "colab": {
     "base_uri": "https://localhost:8080/",
     "height": 34
    },
    "id": "76735f64",
    "outputId": "4ee49dcf-26da-4eb2-c0ed-74e3a22edc43"
   },
   "outputs": [
    {
     "data": {
      "text/html": [
       "304"
      ],
      "text/latex": [
       "304"
      ],
      "text/markdown": [
       "304"
      ],
      "text/plain": [
       "[1] 304"
      ]
     },
     "metadata": {},
     "output_type": "display_data"
    }
   ],
   "source": [
    "# Q1.21\n",
    "data(\"primes\")\n",
    "length(primes)"
   ]
  },
  {
   "cell_type": "code",
   "execution_count": 8,
   "id": "2b1d9737",
   "metadata": {
    "colab": {
     "base_uri": "https://localhost:8080/",
     "height": 34
    },
    "id": "2b1d9737",
    "outputId": "fa598df2-e69f-46be-98e2-950d53d7fefd"
   },
   "outputs": [
    {
     "data": {
      "text/html": [
       "25"
      ],
      "text/latex": [
       "25"
      ],
      "text/markdown": [
       "25"
      ],
      "text/plain": [
       "[1] 25"
      ]
     },
     "metadata": {},
     "output_type": "display_data"
    }
   ],
   "source": [
    "# (Q 1.21)How many in the range [1,100]?\n",
    "length(primes[primes<=100])"
   ]
  },
  {
   "cell_type": "code",
   "execution_count": 9,
   "id": "dd842eb3",
   "metadata": {
    "colab": {
     "base_uri": "https://localhost:8080/",
     "height": 34
    },
    "id": "dd842eb3",
    "outputId": "c8e3e658-58a0-4a5c-bcd4-d260a0b9ce05"
   },
   "outputs": [
    {
     "data": {
      "text/html": [
       "143"
      ],
      "text/latex": [
       "143"
      ],
      "text/markdown": [
       "143"
      ],
      "text/plain": [
       "[1] 143"
      ]
     },
     "metadata": {},
     "output_type": "display_data"
    }
   ],
   "source": [
    "# (Q 1.21)How many in the range [100,1000]?\n",
    "length(primes[primes>=100 & primes<=1000])"
   ]
  },
  {
   "cell_type": "markdown",
   "id": "497c950e",
   "metadata": {},
   "source": [
    "Q1.22) Load the data set primes (UsingR). We wish to find all the twin primes. These are numbers p and p+2, where both are prime. \n",
    "1. Explain what primes[−1] returns. \n",
    "2. If you set n=length (primes), explain what primes[−n] returns. \n",
    "3. Why might primes [−1]—primes [−n] give clues as to what the twin primes are? \n",
    "How many twin primes are there in the data set? "
   ]
  },
  {
   "cell_type": "code",
   "execution_count": 10,
   "id": "974e93f9",
   "metadata": {
    "colab": {
     "base_uri": "https://localhost:8080/",
     "height": 191
    },
    "id": "974e93f9",
    "outputId": "20e65bd9-a976-4aee-fb86-9607f6d85718"
   },
   "outputs": [
    {
     "data": {
      "text/html": [
       "<style>\n",
       ".list-inline {list-style: none; margin:0; padding: 0}\n",
       ".list-inline>li {display: inline-block}\n",
       ".list-inline>li:not(:last-child)::after {content: \"\\00b7\"; padding: 0 .5ex}\n",
       "</style>\n",
       "<ol class=list-inline><li>3</li><li>5</li><li>7</li><li>11</li><li>13</li><li>17</li><li>19</li><li>23</li><li>29</li><li>31</li><li>37</li><li>41</li><li>43</li><li>47</li><li>53</li><li>59</li><li>61</li><li>67</li><li>71</li><li>73</li><li>79</li><li>83</li><li>89</li><li>97</li><li>101</li><li>103</li><li>107</li><li>109</li><li>113</li><li>127</li><li>131</li><li>137</li><li>139</li><li>149</li><li>151</li><li>157</li><li>163</li><li>167</li><li>173</li><li>179</li><li>181</li><li>191</li><li>193</li><li>197</li><li>199</li><li>211</li><li>223</li><li>227</li><li>229</li><li>233</li><li>239</li><li>241</li><li>251</li><li>257</li><li>263</li><li>269</li><li>271</li><li>277</li><li>281</li><li>283</li><li>293</li><li>307</li><li>311</li><li>313</li><li>317</li><li>331</li><li>337</li><li>347</li><li>349</li><li>353</li><li>359</li><li>367</li><li>373</li><li>379</li><li>383</li><li>389</li><li>397</li><li>401</li><li>409</li><li>419</li><li>421</li><li>431</li><li>433</li><li>439</li><li>443</li><li>449</li><li>457</li><li>461</li><li>463</li><li>467</li><li>479</li><li>487</li><li>491</li><li>499</li><li>503</li><li>509</li><li>521</li><li>523</li><li>541</li><li>547</li><li>557</li><li>563</li><li>569</li><li>571</li><li>577</li><li>587</li><li>593</li><li>599</li><li>601</li><li>607</li><li>613</li><li>617</li><li>619</li><li>631</li><li>641</li><li>643</li><li>647</li><li>653</li><li>659</li><li>661</li><li>673</li><li>677</li><li>683</li><li>691</li><li>701</li><li>709</li><li>719</li><li>727</li><li>733</li><li>739</li><li>743</li><li>751</li><li>757</li><li>761</li><li>769</li><li>773</li><li>787</li><li>797</li><li>809</li><li>811</li><li>821</li><li>823</li><li>827</li><li>829</li><li>839</li><li>853</li><li>857</li><li>859</li><li>863</li><li>877</li><li>881</li><li>883</li><li>887</li><li>907</li><li>911</li><li>919</li><li>929</li><li>937</li><li>941</li><li>947</li><li>953</li><li>967</li><li>971</li><li>977</li><li>983</li><li>991</li><li>997</li><li>1009</li><li>1013</li><li>1019</li><li>1021</li><li>1031</li><li>1033</li><li>1039</li><li>1049</li><li>1051</li><li>1061</li><li>1063</li><li>1069</li><li>1087</li><li>1091</li><li>1093</li><li>1097</li><li>1103</li><li>1109</li><li>1117</li><li>1123</li><li>1129</li><li>1151</li><li>1153</li><li>1163</li><li>1171</li><li>1181</li><li>1187</li><li>1193</li><li>1201</li><li>1213</li><li>1217</li><li>1223</li><li>1229</li><li>1231</li><li>1237</li><li>1249</li><li>1259</li><li>1277</li><li>1279</li><li>1283</li><li>1289</li><li>1291</li><li>1297</li><li>1301</li><li>1303</li><li>1307</li><li>1319</li><li>1321</li><li>1327</li><li>1361</li><li>1367</li><li>1373</li><li>1381</li><li>1399</li><li>1409</li><li>1423</li><li>1427</li><li>1429</li><li>1433</li><li>1439</li><li>1447</li><li>1451</li><li>1453</li><li>1459</li><li>1471</li><li>1481</li><li>1483</li><li>1487</li><li>1489</li><li>1493</li><li>1499</li><li>1511</li><li>1523</li><li>1531</li><li>1543</li><li>1549</li><li>1553</li><li>1559</li><li>1567</li><li>1571</li><li>1579</li><li>1583</li><li>1597</li><li>1601</li><li>1607</li><li>1609</li><li>1613</li><li>1619</li><li>1621</li><li>1627</li><li>1637</li><li>1657</li><li>1663</li><li>1667</li><li>1669</li><li>1693</li><li>1697</li><li>1699</li><li>1709</li><li>1721</li><li>1723</li><li>1733</li><li>1741</li><li>1747</li><li>1753</li><li>1759</li><li>1777</li><li>1783</li><li>1787</li><li>1789</li><li>1801</li><li>1811</li><li>1823</li><li>1831</li><li>1847</li><li>1861</li><li>1867</li><li>1871</li><li>1873</li><li>1877</li><li>1879</li><li>1889</li><li>1901</li><li>1907</li><li>1913</li><li>1931</li><li>1933</li><li>1949</li><li>1951</li><li>1973</li><li>1979</li><li>1987</li><li>1993</li><li>1997</li><li>1999</li><li>2003</li></ol>\n"
      ],
      "text/latex": [
       "\\begin{enumerate*}\n",
       "\\item 3\n",
       "\\item 5\n",
       "\\item 7\n",
       "\\item 11\n",
       "\\item 13\n",
       "\\item 17\n",
       "\\item 19\n",
       "\\item 23\n",
       "\\item 29\n",
       "\\item 31\n",
       "\\item 37\n",
       "\\item 41\n",
       "\\item 43\n",
       "\\item 47\n",
       "\\item 53\n",
       "\\item 59\n",
       "\\item 61\n",
       "\\item 67\n",
       "\\item 71\n",
       "\\item 73\n",
       "\\item 79\n",
       "\\item 83\n",
       "\\item 89\n",
       "\\item 97\n",
       "\\item 101\n",
       "\\item 103\n",
       "\\item 107\n",
       "\\item 109\n",
       "\\item 113\n",
       "\\item 127\n",
       "\\item 131\n",
       "\\item 137\n",
       "\\item 139\n",
       "\\item 149\n",
       "\\item 151\n",
       "\\item 157\n",
       "\\item 163\n",
       "\\item 167\n",
       "\\item 173\n",
       "\\item 179\n",
       "\\item 181\n",
       "\\item 191\n",
       "\\item 193\n",
       "\\item 197\n",
       "\\item 199\n",
       "\\item 211\n",
       "\\item 223\n",
       "\\item 227\n",
       "\\item 229\n",
       "\\item 233\n",
       "\\item 239\n",
       "\\item 241\n",
       "\\item 251\n",
       "\\item 257\n",
       "\\item 263\n",
       "\\item 269\n",
       "\\item 271\n",
       "\\item 277\n",
       "\\item 281\n",
       "\\item 283\n",
       "\\item 293\n",
       "\\item 307\n",
       "\\item 311\n",
       "\\item 313\n",
       "\\item 317\n",
       "\\item 331\n",
       "\\item 337\n",
       "\\item 347\n",
       "\\item 349\n",
       "\\item 353\n",
       "\\item 359\n",
       "\\item 367\n",
       "\\item 373\n",
       "\\item 379\n",
       "\\item 383\n",
       "\\item 389\n",
       "\\item 397\n",
       "\\item 401\n",
       "\\item 409\n",
       "\\item 419\n",
       "\\item 421\n",
       "\\item 431\n",
       "\\item 433\n",
       "\\item 439\n",
       "\\item 443\n",
       "\\item 449\n",
       "\\item 457\n",
       "\\item 461\n",
       "\\item 463\n",
       "\\item 467\n",
       "\\item 479\n",
       "\\item 487\n",
       "\\item 491\n",
       "\\item 499\n",
       "\\item 503\n",
       "\\item 509\n",
       "\\item 521\n",
       "\\item 523\n",
       "\\item 541\n",
       "\\item 547\n",
       "\\item 557\n",
       "\\item 563\n",
       "\\item 569\n",
       "\\item 571\n",
       "\\item 577\n",
       "\\item 587\n",
       "\\item 593\n",
       "\\item 599\n",
       "\\item 601\n",
       "\\item 607\n",
       "\\item 613\n",
       "\\item 617\n",
       "\\item 619\n",
       "\\item 631\n",
       "\\item 641\n",
       "\\item 643\n",
       "\\item 647\n",
       "\\item 653\n",
       "\\item 659\n",
       "\\item 661\n",
       "\\item 673\n",
       "\\item 677\n",
       "\\item 683\n",
       "\\item 691\n",
       "\\item 701\n",
       "\\item 709\n",
       "\\item 719\n",
       "\\item 727\n",
       "\\item 733\n",
       "\\item 739\n",
       "\\item 743\n",
       "\\item 751\n",
       "\\item 757\n",
       "\\item 761\n",
       "\\item 769\n",
       "\\item 773\n",
       "\\item 787\n",
       "\\item 797\n",
       "\\item 809\n",
       "\\item 811\n",
       "\\item 821\n",
       "\\item 823\n",
       "\\item 827\n",
       "\\item 829\n",
       "\\item 839\n",
       "\\item 853\n",
       "\\item 857\n",
       "\\item 859\n",
       "\\item 863\n",
       "\\item 877\n",
       "\\item 881\n",
       "\\item 883\n",
       "\\item 887\n",
       "\\item 907\n",
       "\\item 911\n",
       "\\item 919\n",
       "\\item 929\n",
       "\\item 937\n",
       "\\item 941\n",
       "\\item 947\n",
       "\\item 953\n",
       "\\item 967\n",
       "\\item 971\n",
       "\\item 977\n",
       "\\item 983\n",
       "\\item 991\n",
       "\\item 997\n",
       "\\item 1009\n",
       "\\item 1013\n",
       "\\item 1019\n",
       "\\item 1021\n",
       "\\item 1031\n",
       "\\item 1033\n",
       "\\item 1039\n",
       "\\item 1049\n",
       "\\item 1051\n",
       "\\item 1061\n",
       "\\item 1063\n",
       "\\item 1069\n",
       "\\item 1087\n",
       "\\item 1091\n",
       "\\item 1093\n",
       "\\item 1097\n",
       "\\item 1103\n",
       "\\item 1109\n",
       "\\item 1117\n",
       "\\item 1123\n",
       "\\item 1129\n",
       "\\item 1151\n",
       "\\item 1153\n",
       "\\item 1163\n",
       "\\item 1171\n",
       "\\item 1181\n",
       "\\item 1187\n",
       "\\item 1193\n",
       "\\item 1201\n",
       "\\item 1213\n",
       "\\item 1217\n",
       "\\item 1223\n",
       "\\item 1229\n",
       "\\item 1231\n",
       "\\item 1237\n",
       "\\item 1249\n",
       "\\item 1259\n",
       "\\item 1277\n",
       "\\item 1279\n",
       "\\item 1283\n",
       "\\item 1289\n",
       "\\item 1291\n",
       "\\item 1297\n",
       "\\item 1301\n",
       "\\item 1303\n",
       "\\item 1307\n",
       "\\item 1319\n",
       "\\item 1321\n",
       "\\item 1327\n",
       "\\item 1361\n",
       "\\item 1367\n",
       "\\item 1373\n",
       "\\item 1381\n",
       "\\item 1399\n",
       "\\item 1409\n",
       "\\item 1423\n",
       "\\item 1427\n",
       "\\item 1429\n",
       "\\item 1433\n",
       "\\item 1439\n",
       "\\item 1447\n",
       "\\item 1451\n",
       "\\item 1453\n",
       "\\item 1459\n",
       "\\item 1471\n",
       "\\item 1481\n",
       "\\item 1483\n",
       "\\item 1487\n",
       "\\item 1489\n",
       "\\item 1493\n",
       "\\item 1499\n",
       "\\item 1511\n",
       "\\item 1523\n",
       "\\item 1531\n",
       "\\item 1543\n",
       "\\item 1549\n",
       "\\item 1553\n",
       "\\item 1559\n",
       "\\item 1567\n",
       "\\item 1571\n",
       "\\item 1579\n",
       "\\item 1583\n",
       "\\item 1597\n",
       "\\item 1601\n",
       "\\item 1607\n",
       "\\item 1609\n",
       "\\item 1613\n",
       "\\item 1619\n",
       "\\item 1621\n",
       "\\item 1627\n",
       "\\item 1637\n",
       "\\item 1657\n",
       "\\item 1663\n",
       "\\item 1667\n",
       "\\item 1669\n",
       "\\item 1693\n",
       "\\item 1697\n",
       "\\item 1699\n",
       "\\item 1709\n",
       "\\item 1721\n",
       "\\item 1723\n",
       "\\item 1733\n",
       "\\item 1741\n",
       "\\item 1747\n",
       "\\item 1753\n",
       "\\item 1759\n",
       "\\item 1777\n",
       "\\item 1783\n",
       "\\item 1787\n",
       "\\item 1789\n",
       "\\item 1801\n",
       "\\item 1811\n",
       "\\item 1823\n",
       "\\item 1831\n",
       "\\item 1847\n",
       "\\item 1861\n",
       "\\item 1867\n",
       "\\item 1871\n",
       "\\item 1873\n",
       "\\item 1877\n",
       "\\item 1879\n",
       "\\item 1889\n",
       "\\item 1901\n",
       "\\item 1907\n",
       "\\item 1913\n",
       "\\item 1931\n",
       "\\item 1933\n",
       "\\item 1949\n",
       "\\item 1951\n",
       "\\item 1973\n",
       "\\item 1979\n",
       "\\item 1987\n",
       "\\item 1993\n",
       "\\item 1997\n",
       "\\item 1999\n",
       "\\item 2003\n",
       "\\end{enumerate*}\n"
      ],
      "text/markdown": [
       "1. 3\n",
       "2. 5\n",
       "3. 7\n",
       "4. 11\n",
       "5. 13\n",
       "6. 17\n",
       "7. 19\n",
       "8. 23\n",
       "9. 29\n",
       "10. 31\n",
       "11. 37\n",
       "12. 41\n",
       "13. 43\n",
       "14. 47\n",
       "15. 53\n",
       "16. 59\n",
       "17. 61\n",
       "18. 67\n",
       "19. 71\n",
       "20. 73\n",
       "21. 79\n",
       "22. 83\n",
       "23. 89\n",
       "24. 97\n",
       "25. 101\n",
       "26. 103\n",
       "27. 107\n",
       "28. 109\n",
       "29. 113\n",
       "30. 127\n",
       "31. 131\n",
       "32. 137\n",
       "33. 139\n",
       "34. 149\n",
       "35. 151\n",
       "36. 157\n",
       "37. 163\n",
       "38. 167\n",
       "39. 173\n",
       "40. 179\n",
       "41. 181\n",
       "42. 191\n",
       "43. 193\n",
       "44. 197\n",
       "45. 199\n",
       "46. 211\n",
       "47. 223\n",
       "48. 227\n",
       "49. 229\n",
       "50. 233\n",
       "51. 239\n",
       "52. 241\n",
       "53. 251\n",
       "54. 257\n",
       "55. 263\n",
       "56. 269\n",
       "57. 271\n",
       "58. 277\n",
       "59. 281\n",
       "60. 283\n",
       "61. 293\n",
       "62. 307\n",
       "63. 311\n",
       "64. 313\n",
       "65. 317\n",
       "66. 331\n",
       "67. 337\n",
       "68. 347\n",
       "69. 349\n",
       "70. 353\n",
       "71. 359\n",
       "72. 367\n",
       "73. 373\n",
       "74. 379\n",
       "75. 383\n",
       "76. 389\n",
       "77. 397\n",
       "78. 401\n",
       "79. 409\n",
       "80. 419\n",
       "81. 421\n",
       "82. 431\n",
       "83. 433\n",
       "84. 439\n",
       "85. 443\n",
       "86. 449\n",
       "87. 457\n",
       "88. 461\n",
       "89. 463\n",
       "90. 467\n",
       "91. 479\n",
       "92. 487\n",
       "93. 491\n",
       "94. 499\n",
       "95. 503\n",
       "96. 509\n",
       "97. 521\n",
       "98. 523\n",
       "99. 541\n",
       "100. 547\n",
       "101. 557\n",
       "102. 563\n",
       "103. 569\n",
       "104. 571\n",
       "105. 577\n",
       "106. 587\n",
       "107. 593\n",
       "108. 599\n",
       "109. 601\n",
       "110. 607\n",
       "111. 613\n",
       "112. 617\n",
       "113. 619\n",
       "114. 631\n",
       "115. 641\n",
       "116. 643\n",
       "117. 647\n",
       "118. 653\n",
       "119. 659\n",
       "120. 661\n",
       "121. 673\n",
       "122. 677\n",
       "123. 683\n",
       "124. 691\n",
       "125. 701\n",
       "126. 709\n",
       "127. 719\n",
       "128. 727\n",
       "129. 733\n",
       "130. 739\n",
       "131. 743\n",
       "132. 751\n",
       "133. 757\n",
       "134. 761\n",
       "135. 769\n",
       "136. 773\n",
       "137. 787\n",
       "138. 797\n",
       "139. 809\n",
       "140. 811\n",
       "141. 821\n",
       "142. 823\n",
       "143. 827\n",
       "144. 829\n",
       "145. 839\n",
       "146. 853\n",
       "147. 857\n",
       "148. 859\n",
       "149. 863\n",
       "150. 877\n",
       "151. 881\n",
       "152. 883\n",
       "153. 887\n",
       "154. 907\n",
       "155. 911\n",
       "156. 919\n",
       "157. 929\n",
       "158. 937\n",
       "159. 941\n",
       "160. 947\n",
       "161. 953\n",
       "162. 967\n",
       "163. 971\n",
       "164. 977\n",
       "165. 983\n",
       "166. 991\n",
       "167. 997\n",
       "168. 1009\n",
       "169. 1013\n",
       "170. 1019\n",
       "171. 1021\n",
       "172. 1031\n",
       "173. 1033\n",
       "174. 1039\n",
       "175. 1049\n",
       "176. 1051\n",
       "177. 1061\n",
       "178. 1063\n",
       "179. 1069\n",
       "180. 1087\n",
       "181. 1091\n",
       "182. 1093\n",
       "183. 1097\n",
       "184. 1103\n",
       "185. 1109\n",
       "186. 1117\n",
       "187. 1123\n",
       "188. 1129\n",
       "189. 1151\n",
       "190. 1153\n",
       "191. 1163\n",
       "192. 1171\n",
       "193. 1181\n",
       "194. 1187\n",
       "195. 1193\n",
       "196. 1201\n",
       "197. 1213\n",
       "198. 1217\n",
       "199. 1223\n",
       "200. 1229\n",
       "201. 1231\n",
       "202. 1237\n",
       "203. 1249\n",
       "204. 1259\n",
       "205. 1277\n",
       "206. 1279\n",
       "207. 1283\n",
       "208. 1289\n",
       "209. 1291\n",
       "210. 1297\n",
       "211. 1301\n",
       "212. 1303\n",
       "213. 1307\n",
       "214. 1319\n",
       "215. 1321\n",
       "216. 1327\n",
       "217. 1361\n",
       "218. 1367\n",
       "219. 1373\n",
       "220. 1381\n",
       "221. 1399\n",
       "222. 1409\n",
       "223. 1423\n",
       "224. 1427\n",
       "225. 1429\n",
       "226. 1433\n",
       "227. 1439\n",
       "228. 1447\n",
       "229. 1451\n",
       "230. 1453\n",
       "231. 1459\n",
       "232. 1471\n",
       "233. 1481\n",
       "234. 1483\n",
       "235. 1487\n",
       "236. 1489\n",
       "237. 1493\n",
       "238. 1499\n",
       "239. 1511\n",
       "240. 1523\n",
       "241. 1531\n",
       "242. 1543\n",
       "243. 1549\n",
       "244. 1553\n",
       "245. 1559\n",
       "246. 1567\n",
       "247. 1571\n",
       "248. 1579\n",
       "249. 1583\n",
       "250. 1597\n",
       "251. 1601\n",
       "252. 1607\n",
       "253. 1609\n",
       "254. 1613\n",
       "255. 1619\n",
       "256. 1621\n",
       "257. 1627\n",
       "258. 1637\n",
       "259. 1657\n",
       "260. 1663\n",
       "261. 1667\n",
       "262. 1669\n",
       "263. 1693\n",
       "264. 1697\n",
       "265. 1699\n",
       "266. 1709\n",
       "267. 1721\n",
       "268. 1723\n",
       "269. 1733\n",
       "270. 1741\n",
       "271. 1747\n",
       "272. 1753\n",
       "273. 1759\n",
       "274. 1777\n",
       "275. 1783\n",
       "276. 1787\n",
       "277. 1789\n",
       "278. 1801\n",
       "279. 1811\n",
       "280. 1823\n",
       "281. 1831\n",
       "282. 1847\n",
       "283. 1861\n",
       "284. 1867\n",
       "285. 1871\n",
       "286. 1873\n",
       "287. 1877\n",
       "288. 1879\n",
       "289. 1889\n",
       "290. 1901\n",
       "291. 1907\n",
       "292. 1913\n",
       "293. 1931\n",
       "294. 1933\n",
       "295. 1949\n",
       "296. 1951\n",
       "297. 1973\n",
       "298. 1979\n",
       "299. 1987\n",
       "300. 1993\n",
       "301. 1997\n",
       "302. 1999\n",
       "303. 2003\n",
       "\n",
       "\n"
      ],
      "text/plain": [
       "  [1]    3    5    7   11   13   17   19   23   29   31   37   41   43   47   53\n",
       " [16]   59   61   67   71   73   79   83   89   97  101  103  107  109  113  127\n",
       " [31]  131  137  139  149  151  157  163  167  173  179  181  191  193  197  199\n",
       " [46]  211  223  227  229  233  239  241  251  257  263  269  271  277  281  283\n",
       " [61]  293  307  311  313  317  331  337  347  349  353  359  367  373  379  383\n",
       " [76]  389  397  401  409  419  421  431  433  439  443  449  457  461  463  467\n",
       " [91]  479  487  491  499  503  509  521  523  541  547  557  563  569  571  577\n",
       "[106]  587  593  599  601  607  613  617  619  631  641  643  647  653  659  661\n",
       "[121]  673  677  683  691  701  709  719  727  733  739  743  751  757  761  769\n",
       "[136]  773  787  797  809  811  821  823  827  829  839  853  857  859  863  877\n",
       "[151]  881  883  887  907  911  919  929  937  941  947  953  967  971  977  983\n",
       "[166]  991  997 1009 1013 1019 1021 1031 1033 1039 1049 1051 1061 1063 1069 1087\n",
       "[181] 1091 1093 1097 1103 1109 1117 1123 1129 1151 1153 1163 1171 1181 1187 1193\n",
       "[196] 1201 1213 1217 1223 1229 1231 1237 1249 1259 1277 1279 1283 1289 1291 1297\n",
       "[211] 1301 1303 1307 1319 1321 1327 1361 1367 1373 1381 1399 1409 1423 1427 1429\n",
       "[226] 1433 1439 1447 1451 1453 1459 1471 1481 1483 1487 1489 1493 1499 1511 1523\n",
       "[241] 1531 1543 1549 1553 1559 1567 1571 1579 1583 1597 1601 1607 1609 1613 1619\n",
       "[256] 1621 1627 1637 1657 1663 1667 1669 1693 1697 1699 1709 1721 1723 1733 1741\n",
       "[271] 1747 1753 1759 1777 1783 1787 1789 1801 1811 1823 1831 1847 1861 1867 1871\n",
       "[286] 1873 1877 1879 1889 1901 1907 1913 1931 1933 1949 1951 1973 1979 1987 1993\n",
       "[301] 1997 1999 2003"
      ]
     },
     "metadata": {},
     "output_type": "display_data"
    }
   ],
   "source": [
    "# Q 1.22 - 1\n",
    "primes[-1]\n",
    "# primes[-1] returns all the prime numbers present in primes dataset except 1st number."
   ]
  },
  {
   "cell_type": "code",
   "execution_count": 11,
   "id": "68e4535d",
   "metadata": {
    "colab": {
     "base_uri": "https://localhost:8080/",
     "height": 191
    },
    "id": "68e4535d",
    "outputId": "73291bd0-f17b-4789-a994-f635930af91c"
   },
   "outputs": [
    {
     "data": {
      "text/html": [
       "<style>\n",
       ".list-inline {list-style: none; margin:0; padding: 0}\n",
       ".list-inline>li {display: inline-block}\n",
       ".list-inline>li:not(:last-child)::after {content: \"\\00b7\"; padding: 0 .5ex}\n",
       "</style>\n",
       "<ol class=list-inline><li>2</li><li>3</li><li>5</li><li>7</li><li>11</li><li>13</li><li>17</li><li>19</li><li>23</li><li>29</li><li>31</li><li>37</li><li>41</li><li>43</li><li>47</li><li>53</li><li>59</li><li>61</li><li>67</li><li>71</li><li>73</li><li>79</li><li>83</li><li>89</li><li>97</li><li>101</li><li>103</li><li>107</li><li>109</li><li>113</li><li>127</li><li>131</li><li>137</li><li>139</li><li>149</li><li>151</li><li>157</li><li>163</li><li>167</li><li>173</li><li>179</li><li>181</li><li>191</li><li>193</li><li>197</li><li>199</li><li>211</li><li>223</li><li>227</li><li>229</li><li>233</li><li>239</li><li>241</li><li>251</li><li>257</li><li>263</li><li>269</li><li>271</li><li>277</li><li>281</li><li>283</li><li>293</li><li>307</li><li>311</li><li>313</li><li>317</li><li>331</li><li>337</li><li>347</li><li>349</li><li>353</li><li>359</li><li>367</li><li>373</li><li>379</li><li>383</li><li>389</li><li>397</li><li>401</li><li>409</li><li>419</li><li>421</li><li>431</li><li>433</li><li>439</li><li>443</li><li>449</li><li>457</li><li>461</li><li>463</li><li>467</li><li>479</li><li>487</li><li>491</li><li>499</li><li>503</li><li>509</li><li>521</li><li>523</li><li>541</li><li>547</li><li>557</li><li>563</li><li>569</li><li>571</li><li>577</li><li>587</li><li>593</li><li>599</li><li>601</li><li>607</li><li>613</li><li>617</li><li>619</li><li>631</li><li>641</li><li>643</li><li>647</li><li>653</li><li>659</li><li>661</li><li>673</li><li>677</li><li>683</li><li>691</li><li>701</li><li>709</li><li>719</li><li>727</li><li>733</li><li>739</li><li>743</li><li>751</li><li>757</li><li>761</li><li>769</li><li>773</li><li>787</li><li>797</li><li>809</li><li>811</li><li>821</li><li>823</li><li>827</li><li>829</li><li>839</li><li>853</li><li>857</li><li>859</li><li>863</li><li>877</li><li>881</li><li>883</li><li>887</li><li>907</li><li>911</li><li>919</li><li>929</li><li>937</li><li>941</li><li>947</li><li>953</li><li>967</li><li>971</li><li>977</li><li>983</li><li>991</li><li>997</li><li>1009</li><li>1013</li><li>1019</li><li>1021</li><li>1031</li><li>1033</li><li>1039</li><li>1049</li><li>1051</li><li>1061</li><li>1063</li><li>1069</li><li>1087</li><li>1091</li><li>1093</li><li>1097</li><li>1103</li><li>1109</li><li>1117</li><li>1123</li><li>1129</li><li>1151</li><li>1153</li><li>1163</li><li>1171</li><li>1181</li><li>1187</li><li>1193</li><li>1201</li><li>1213</li><li>1217</li><li>1223</li><li>1229</li><li>1231</li><li>1237</li><li>1249</li><li>1259</li><li>1277</li><li>1279</li><li>1283</li><li>1289</li><li>1291</li><li>1297</li><li>1301</li><li>1303</li><li>1307</li><li>1319</li><li>1321</li><li>1327</li><li>1361</li><li>1367</li><li>1373</li><li>1381</li><li>1399</li><li>1409</li><li>1423</li><li>1427</li><li>1429</li><li>1433</li><li>1439</li><li>1447</li><li>1451</li><li>1453</li><li>1459</li><li>1471</li><li>1481</li><li>1483</li><li>1487</li><li>1489</li><li>1493</li><li>1499</li><li>1511</li><li>1523</li><li>1531</li><li>1543</li><li>1549</li><li>1553</li><li>1559</li><li>1567</li><li>1571</li><li>1579</li><li>1583</li><li>1597</li><li>1601</li><li>1607</li><li>1609</li><li>1613</li><li>1619</li><li>1621</li><li>1627</li><li>1637</li><li>1657</li><li>1663</li><li>1667</li><li>1669</li><li>1693</li><li>1697</li><li>1699</li><li>1709</li><li>1721</li><li>1723</li><li>1733</li><li>1741</li><li>1747</li><li>1753</li><li>1759</li><li>1777</li><li>1783</li><li>1787</li><li>1789</li><li>1801</li><li>1811</li><li>1823</li><li>1831</li><li>1847</li><li>1861</li><li>1867</li><li>1871</li><li>1873</li><li>1877</li><li>1879</li><li>1889</li><li>1901</li><li>1907</li><li>1913</li><li>1931</li><li>1933</li><li>1949</li><li>1951</li><li>1973</li><li>1979</li><li>1987</li><li>1993</li><li>1997</li><li>1999</li></ol>\n"
      ],
      "text/latex": [
       "\\begin{enumerate*}\n",
       "\\item 2\n",
       "\\item 3\n",
       "\\item 5\n",
       "\\item 7\n",
       "\\item 11\n",
       "\\item 13\n",
       "\\item 17\n",
       "\\item 19\n",
       "\\item 23\n",
       "\\item 29\n",
       "\\item 31\n",
       "\\item 37\n",
       "\\item 41\n",
       "\\item 43\n",
       "\\item 47\n",
       "\\item 53\n",
       "\\item 59\n",
       "\\item 61\n",
       "\\item 67\n",
       "\\item 71\n",
       "\\item 73\n",
       "\\item 79\n",
       "\\item 83\n",
       "\\item 89\n",
       "\\item 97\n",
       "\\item 101\n",
       "\\item 103\n",
       "\\item 107\n",
       "\\item 109\n",
       "\\item 113\n",
       "\\item 127\n",
       "\\item 131\n",
       "\\item 137\n",
       "\\item 139\n",
       "\\item 149\n",
       "\\item 151\n",
       "\\item 157\n",
       "\\item 163\n",
       "\\item 167\n",
       "\\item 173\n",
       "\\item 179\n",
       "\\item 181\n",
       "\\item 191\n",
       "\\item 193\n",
       "\\item 197\n",
       "\\item 199\n",
       "\\item 211\n",
       "\\item 223\n",
       "\\item 227\n",
       "\\item 229\n",
       "\\item 233\n",
       "\\item 239\n",
       "\\item 241\n",
       "\\item 251\n",
       "\\item 257\n",
       "\\item 263\n",
       "\\item 269\n",
       "\\item 271\n",
       "\\item 277\n",
       "\\item 281\n",
       "\\item 283\n",
       "\\item 293\n",
       "\\item 307\n",
       "\\item 311\n",
       "\\item 313\n",
       "\\item 317\n",
       "\\item 331\n",
       "\\item 337\n",
       "\\item 347\n",
       "\\item 349\n",
       "\\item 353\n",
       "\\item 359\n",
       "\\item 367\n",
       "\\item 373\n",
       "\\item 379\n",
       "\\item 383\n",
       "\\item 389\n",
       "\\item 397\n",
       "\\item 401\n",
       "\\item 409\n",
       "\\item 419\n",
       "\\item 421\n",
       "\\item 431\n",
       "\\item 433\n",
       "\\item 439\n",
       "\\item 443\n",
       "\\item 449\n",
       "\\item 457\n",
       "\\item 461\n",
       "\\item 463\n",
       "\\item 467\n",
       "\\item 479\n",
       "\\item 487\n",
       "\\item 491\n",
       "\\item 499\n",
       "\\item 503\n",
       "\\item 509\n",
       "\\item 521\n",
       "\\item 523\n",
       "\\item 541\n",
       "\\item 547\n",
       "\\item 557\n",
       "\\item 563\n",
       "\\item 569\n",
       "\\item 571\n",
       "\\item 577\n",
       "\\item 587\n",
       "\\item 593\n",
       "\\item 599\n",
       "\\item 601\n",
       "\\item 607\n",
       "\\item 613\n",
       "\\item 617\n",
       "\\item 619\n",
       "\\item 631\n",
       "\\item 641\n",
       "\\item 643\n",
       "\\item 647\n",
       "\\item 653\n",
       "\\item 659\n",
       "\\item 661\n",
       "\\item 673\n",
       "\\item 677\n",
       "\\item 683\n",
       "\\item 691\n",
       "\\item 701\n",
       "\\item 709\n",
       "\\item 719\n",
       "\\item 727\n",
       "\\item 733\n",
       "\\item 739\n",
       "\\item 743\n",
       "\\item 751\n",
       "\\item 757\n",
       "\\item 761\n",
       "\\item 769\n",
       "\\item 773\n",
       "\\item 787\n",
       "\\item 797\n",
       "\\item 809\n",
       "\\item 811\n",
       "\\item 821\n",
       "\\item 823\n",
       "\\item 827\n",
       "\\item 829\n",
       "\\item 839\n",
       "\\item 853\n",
       "\\item 857\n",
       "\\item 859\n",
       "\\item 863\n",
       "\\item 877\n",
       "\\item 881\n",
       "\\item 883\n",
       "\\item 887\n",
       "\\item 907\n",
       "\\item 911\n",
       "\\item 919\n",
       "\\item 929\n",
       "\\item 937\n",
       "\\item 941\n",
       "\\item 947\n",
       "\\item 953\n",
       "\\item 967\n",
       "\\item 971\n",
       "\\item 977\n",
       "\\item 983\n",
       "\\item 991\n",
       "\\item 997\n",
       "\\item 1009\n",
       "\\item 1013\n",
       "\\item 1019\n",
       "\\item 1021\n",
       "\\item 1031\n",
       "\\item 1033\n",
       "\\item 1039\n",
       "\\item 1049\n",
       "\\item 1051\n",
       "\\item 1061\n",
       "\\item 1063\n",
       "\\item 1069\n",
       "\\item 1087\n",
       "\\item 1091\n",
       "\\item 1093\n",
       "\\item 1097\n",
       "\\item 1103\n",
       "\\item 1109\n",
       "\\item 1117\n",
       "\\item 1123\n",
       "\\item 1129\n",
       "\\item 1151\n",
       "\\item 1153\n",
       "\\item 1163\n",
       "\\item 1171\n",
       "\\item 1181\n",
       "\\item 1187\n",
       "\\item 1193\n",
       "\\item 1201\n",
       "\\item 1213\n",
       "\\item 1217\n",
       "\\item 1223\n",
       "\\item 1229\n",
       "\\item 1231\n",
       "\\item 1237\n",
       "\\item 1249\n",
       "\\item 1259\n",
       "\\item 1277\n",
       "\\item 1279\n",
       "\\item 1283\n",
       "\\item 1289\n",
       "\\item 1291\n",
       "\\item 1297\n",
       "\\item 1301\n",
       "\\item 1303\n",
       "\\item 1307\n",
       "\\item 1319\n",
       "\\item 1321\n",
       "\\item 1327\n",
       "\\item 1361\n",
       "\\item 1367\n",
       "\\item 1373\n",
       "\\item 1381\n",
       "\\item 1399\n",
       "\\item 1409\n",
       "\\item 1423\n",
       "\\item 1427\n",
       "\\item 1429\n",
       "\\item 1433\n",
       "\\item 1439\n",
       "\\item 1447\n",
       "\\item 1451\n",
       "\\item 1453\n",
       "\\item 1459\n",
       "\\item 1471\n",
       "\\item 1481\n",
       "\\item 1483\n",
       "\\item 1487\n",
       "\\item 1489\n",
       "\\item 1493\n",
       "\\item 1499\n",
       "\\item 1511\n",
       "\\item 1523\n",
       "\\item 1531\n",
       "\\item 1543\n",
       "\\item 1549\n",
       "\\item 1553\n",
       "\\item 1559\n",
       "\\item 1567\n",
       "\\item 1571\n",
       "\\item 1579\n",
       "\\item 1583\n",
       "\\item 1597\n",
       "\\item 1601\n",
       "\\item 1607\n",
       "\\item 1609\n",
       "\\item 1613\n",
       "\\item 1619\n",
       "\\item 1621\n",
       "\\item 1627\n",
       "\\item 1637\n",
       "\\item 1657\n",
       "\\item 1663\n",
       "\\item 1667\n",
       "\\item 1669\n",
       "\\item 1693\n",
       "\\item 1697\n",
       "\\item 1699\n",
       "\\item 1709\n",
       "\\item 1721\n",
       "\\item 1723\n",
       "\\item 1733\n",
       "\\item 1741\n",
       "\\item 1747\n",
       "\\item 1753\n",
       "\\item 1759\n",
       "\\item 1777\n",
       "\\item 1783\n",
       "\\item 1787\n",
       "\\item 1789\n",
       "\\item 1801\n",
       "\\item 1811\n",
       "\\item 1823\n",
       "\\item 1831\n",
       "\\item 1847\n",
       "\\item 1861\n",
       "\\item 1867\n",
       "\\item 1871\n",
       "\\item 1873\n",
       "\\item 1877\n",
       "\\item 1879\n",
       "\\item 1889\n",
       "\\item 1901\n",
       "\\item 1907\n",
       "\\item 1913\n",
       "\\item 1931\n",
       "\\item 1933\n",
       "\\item 1949\n",
       "\\item 1951\n",
       "\\item 1973\n",
       "\\item 1979\n",
       "\\item 1987\n",
       "\\item 1993\n",
       "\\item 1997\n",
       "\\item 1999\n",
       "\\end{enumerate*}\n"
      ],
      "text/markdown": [
       "1. 2\n",
       "2. 3\n",
       "3. 5\n",
       "4. 7\n",
       "5. 11\n",
       "6. 13\n",
       "7. 17\n",
       "8. 19\n",
       "9. 23\n",
       "10. 29\n",
       "11. 31\n",
       "12. 37\n",
       "13. 41\n",
       "14. 43\n",
       "15. 47\n",
       "16. 53\n",
       "17. 59\n",
       "18. 61\n",
       "19. 67\n",
       "20. 71\n",
       "21. 73\n",
       "22. 79\n",
       "23. 83\n",
       "24. 89\n",
       "25. 97\n",
       "26. 101\n",
       "27. 103\n",
       "28. 107\n",
       "29. 109\n",
       "30. 113\n",
       "31. 127\n",
       "32. 131\n",
       "33. 137\n",
       "34. 139\n",
       "35. 149\n",
       "36. 151\n",
       "37. 157\n",
       "38. 163\n",
       "39. 167\n",
       "40. 173\n",
       "41. 179\n",
       "42. 181\n",
       "43. 191\n",
       "44. 193\n",
       "45. 197\n",
       "46. 199\n",
       "47. 211\n",
       "48. 223\n",
       "49. 227\n",
       "50. 229\n",
       "51. 233\n",
       "52. 239\n",
       "53. 241\n",
       "54. 251\n",
       "55. 257\n",
       "56. 263\n",
       "57. 269\n",
       "58. 271\n",
       "59. 277\n",
       "60. 281\n",
       "61. 283\n",
       "62. 293\n",
       "63. 307\n",
       "64. 311\n",
       "65. 313\n",
       "66. 317\n",
       "67. 331\n",
       "68. 337\n",
       "69. 347\n",
       "70. 349\n",
       "71. 353\n",
       "72. 359\n",
       "73. 367\n",
       "74. 373\n",
       "75. 379\n",
       "76. 383\n",
       "77. 389\n",
       "78. 397\n",
       "79. 401\n",
       "80. 409\n",
       "81. 419\n",
       "82. 421\n",
       "83. 431\n",
       "84. 433\n",
       "85. 439\n",
       "86. 443\n",
       "87. 449\n",
       "88. 457\n",
       "89. 461\n",
       "90. 463\n",
       "91. 467\n",
       "92. 479\n",
       "93. 487\n",
       "94. 491\n",
       "95. 499\n",
       "96. 503\n",
       "97. 509\n",
       "98. 521\n",
       "99. 523\n",
       "100. 541\n",
       "101. 547\n",
       "102. 557\n",
       "103. 563\n",
       "104. 569\n",
       "105. 571\n",
       "106. 577\n",
       "107. 587\n",
       "108. 593\n",
       "109. 599\n",
       "110. 601\n",
       "111. 607\n",
       "112. 613\n",
       "113. 617\n",
       "114. 619\n",
       "115. 631\n",
       "116. 641\n",
       "117. 643\n",
       "118. 647\n",
       "119. 653\n",
       "120. 659\n",
       "121. 661\n",
       "122. 673\n",
       "123. 677\n",
       "124. 683\n",
       "125. 691\n",
       "126. 701\n",
       "127. 709\n",
       "128. 719\n",
       "129. 727\n",
       "130. 733\n",
       "131. 739\n",
       "132. 743\n",
       "133. 751\n",
       "134. 757\n",
       "135. 761\n",
       "136. 769\n",
       "137. 773\n",
       "138. 787\n",
       "139. 797\n",
       "140. 809\n",
       "141. 811\n",
       "142. 821\n",
       "143. 823\n",
       "144. 827\n",
       "145. 829\n",
       "146. 839\n",
       "147. 853\n",
       "148. 857\n",
       "149. 859\n",
       "150. 863\n",
       "151. 877\n",
       "152. 881\n",
       "153. 883\n",
       "154. 887\n",
       "155. 907\n",
       "156. 911\n",
       "157. 919\n",
       "158. 929\n",
       "159. 937\n",
       "160. 941\n",
       "161. 947\n",
       "162. 953\n",
       "163. 967\n",
       "164. 971\n",
       "165. 977\n",
       "166. 983\n",
       "167. 991\n",
       "168. 997\n",
       "169. 1009\n",
       "170. 1013\n",
       "171. 1019\n",
       "172. 1021\n",
       "173. 1031\n",
       "174. 1033\n",
       "175. 1039\n",
       "176. 1049\n",
       "177. 1051\n",
       "178. 1061\n",
       "179. 1063\n",
       "180. 1069\n",
       "181. 1087\n",
       "182. 1091\n",
       "183. 1093\n",
       "184. 1097\n",
       "185. 1103\n",
       "186. 1109\n",
       "187. 1117\n",
       "188. 1123\n",
       "189. 1129\n",
       "190. 1151\n",
       "191. 1153\n",
       "192. 1163\n",
       "193. 1171\n",
       "194. 1181\n",
       "195. 1187\n",
       "196. 1193\n",
       "197. 1201\n",
       "198. 1213\n",
       "199. 1217\n",
       "200. 1223\n",
       "201. 1229\n",
       "202. 1231\n",
       "203. 1237\n",
       "204. 1249\n",
       "205. 1259\n",
       "206. 1277\n",
       "207. 1279\n",
       "208. 1283\n",
       "209. 1289\n",
       "210. 1291\n",
       "211. 1297\n",
       "212. 1301\n",
       "213. 1303\n",
       "214. 1307\n",
       "215. 1319\n",
       "216. 1321\n",
       "217. 1327\n",
       "218. 1361\n",
       "219. 1367\n",
       "220. 1373\n",
       "221. 1381\n",
       "222. 1399\n",
       "223. 1409\n",
       "224. 1423\n",
       "225. 1427\n",
       "226. 1429\n",
       "227. 1433\n",
       "228. 1439\n",
       "229. 1447\n",
       "230. 1451\n",
       "231. 1453\n",
       "232. 1459\n",
       "233. 1471\n",
       "234. 1481\n",
       "235. 1483\n",
       "236. 1487\n",
       "237. 1489\n",
       "238. 1493\n",
       "239. 1499\n",
       "240. 1511\n",
       "241. 1523\n",
       "242. 1531\n",
       "243. 1543\n",
       "244. 1549\n",
       "245. 1553\n",
       "246. 1559\n",
       "247. 1567\n",
       "248. 1571\n",
       "249. 1579\n",
       "250. 1583\n",
       "251. 1597\n",
       "252. 1601\n",
       "253. 1607\n",
       "254. 1609\n",
       "255. 1613\n",
       "256. 1619\n",
       "257. 1621\n",
       "258. 1627\n",
       "259. 1637\n",
       "260. 1657\n",
       "261. 1663\n",
       "262. 1667\n",
       "263. 1669\n",
       "264. 1693\n",
       "265. 1697\n",
       "266. 1699\n",
       "267. 1709\n",
       "268. 1721\n",
       "269. 1723\n",
       "270. 1733\n",
       "271. 1741\n",
       "272. 1747\n",
       "273. 1753\n",
       "274. 1759\n",
       "275. 1777\n",
       "276. 1783\n",
       "277. 1787\n",
       "278. 1789\n",
       "279. 1801\n",
       "280. 1811\n",
       "281. 1823\n",
       "282. 1831\n",
       "283. 1847\n",
       "284. 1861\n",
       "285. 1867\n",
       "286. 1871\n",
       "287. 1873\n",
       "288. 1877\n",
       "289. 1879\n",
       "290. 1889\n",
       "291. 1901\n",
       "292. 1907\n",
       "293. 1913\n",
       "294. 1931\n",
       "295. 1933\n",
       "296. 1949\n",
       "297. 1951\n",
       "298. 1973\n",
       "299. 1979\n",
       "300. 1987\n",
       "301. 1993\n",
       "302. 1997\n",
       "303. 1999\n",
       "\n",
       "\n"
      ],
      "text/plain": [
       "  [1]    2    3    5    7   11   13   17   19   23   29   31   37   41   43   47\n",
       " [16]   53   59   61   67   71   73   79   83   89   97  101  103  107  109  113\n",
       " [31]  127  131  137  139  149  151  157  163  167  173  179  181  191  193  197\n",
       " [46]  199  211  223  227  229  233  239  241  251  257  263  269  271  277  281\n",
       " [61]  283  293  307  311  313  317  331  337  347  349  353  359  367  373  379\n",
       " [76]  383  389  397  401  409  419  421  431  433  439  443  449  457  461  463\n",
       " [91]  467  479  487  491  499  503  509  521  523  541  547  557  563  569  571\n",
       "[106]  577  587  593  599  601  607  613  617  619  631  641  643  647  653  659\n",
       "[121]  661  673  677  683  691  701  709  719  727  733  739  743  751  757  761\n",
       "[136]  769  773  787  797  809  811  821  823  827  829  839  853  857  859  863\n",
       "[151]  877  881  883  887  907  911  919  929  937  941  947  953  967  971  977\n",
       "[166]  983  991  997 1009 1013 1019 1021 1031 1033 1039 1049 1051 1061 1063 1069\n",
       "[181] 1087 1091 1093 1097 1103 1109 1117 1123 1129 1151 1153 1163 1171 1181 1187\n",
       "[196] 1193 1201 1213 1217 1223 1229 1231 1237 1249 1259 1277 1279 1283 1289 1291\n",
       "[211] 1297 1301 1303 1307 1319 1321 1327 1361 1367 1373 1381 1399 1409 1423 1427\n",
       "[226] 1429 1433 1439 1447 1451 1453 1459 1471 1481 1483 1487 1489 1493 1499 1511\n",
       "[241] 1523 1531 1543 1549 1553 1559 1567 1571 1579 1583 1597 1601 1607 1609 1613\n",
       "[256] 1619 1621 1627 1637 1657 1663 1667 1669 1693 1697 1699 1709 1721 1723 1733\n",
       "[271] 1741 1747 1753 1759 1777 1783 1787 1789 1801 1811 1823 1831 1847 1861 1867\n",
       "[286] 1871 1873 1877 1879 1889 1901 1907 1913 1931 1933 1949 1951 1973 1979 1987\n",
       "[301] 1993 1997 1999"
      ]
     },
     "metadata": {},
     "output_type": "display_data"
    }
   ],
   "source": [
    "# Q 1.22 - 2\n",
    "n = length(primes)\n",
    "primes[-n]\n",
    "# primes[-1] returns all the prime numbers present in primes dataset except last number."
   ]
  },
  {
   "cell_type": "code",
   "execution_count": 12,
   "id": "398bcd6c",
   "metadata": {
    "colab": {
     "base_uri": "https://localhost:8080/",
     "height": 34
    },
    "id": "398bcd6c",
    "outputId": "af1acefb-7132-4b23-9520-0a20086c3666"
   },
   "outputs": [
    {
     "data": {
      "text/html": [
       "61"
      ],
      "text/latex": [
       "61"
      ],
      "text/markdown": [
       "61"
      ],
      "text/plain": [
       "[1] 61"
      ]
     },
     "metadata": {},
     "output_type": "display_data"
    }
   ],
   "source": [
    "# Q 1.22 - 3\n",
    "sum((primes[-1] - primes[-n])==2)"
   ]
  },
  {
   "cell_type": "markdown",
   "id": "d3fc9280",
   "metadata": {},
   "source": [
    "Q1.23) For the data set treering, which contains tree-ring widths in dimension-less \n",
    "units, use an R function to answer the following: \n",
    "1. How many observations are there? \n",
    "2. Find the smallest observation. \n",
    "3. Find the largest observation. \n",
    "4. How many are bigger than 1.5? "
   ]
  },
  {
   "cell_type": "code",
   "execution_count": 13,
   "id": "9788cc43",
   "metadata": {
    "colab": {
     "base_uri": "https://localhost:8080/",
     "height": 34
    },
    "id": "9788cc43",
    "outputId": "0571f04a-9552-41bb-904b-54fefc7bedd4"
   },
   "outputs": [
    {
     "data": {
      "text/html": [
       "7980"
      ],
      "text/latex": [
       "7980"
      ],
      "text/markdown": [
       "7980"
      ],
      "text/plain": [
       "[1] 7980"
      ]
     },
     "metadata": {},
     "output_type": "display_data"
    }
   ],
   "source": [
    "# Q 1.23 - 1\n",
    "data(\"treering\")\n",
    "length(treering)"
   ]
  },
  {
   "cell_type": "code",
   "execution_count": 14,
   "id": "33b4dc41",
   "metadata": {
    "colab": {
     "base_uri": "https://localhost:8080/",
     "height": 34
    },
    "id": "33b4dc41",
    "outputId": "0176f98a-71ad-49cf-d52d-c2b9b980c074"
   },
   "outputs": [
    {
     "data": {
      "text/html": [
       "0"
      ],
      "text/latex": [
       "0"
      ],
      "text/markdown": [
       "0"
      ],
      "text/plain": [
       "[1] 0"
      ]
     },
     "metadata": {},
     "output_type": "display_data"
    }
   ],
   "source": [
    "# Q 1.23 - 2\n",
    "min(treering)"
   ]
  },
  {
   "cell_type": "code",
   "execution_count": 15,
   "id": "04ab0861",
   "metadata": {
    "colab": {
     "base_uri": "https://localhost:8080/",
     "height": 34
    },
    "id": "04ab0861",
    "outputId": "845f5fb1-22db-4c10-aa6d-46c047269bc1"
   },
   "outputs": [
    {
     "data": {
      "text/html": [
       "1.908"
      ],
      "text/latex": [
       "1.908"
      ],
      "text/markdown": [
       "1.908"
      ],
      "text/plain": [
       "[1] 1.908"
      ]
     },
     "metadata": {},
     "output_type": "display_data"
    }
   ],
   "source": [
    "# Q 1.23 - 3\n",
    "max(treering)"
   ]
  },
  {
   "cell_type": "code",
   "execution_count": 16,
   "id": "a4bfe5a9",
   "metadata": {
    "colab": {
     "base_uri": "https://localhost:8080/",
     "height": 34
    },
    "id": "a4bfe5a9",
    "outputId": "cb32b082-37fb-4d4b-9fdc-6769c74d25a9"
   },
   "outputs": [
    {
     "data": {
      "text/html": [
       "219"
      ],
      "text/latex": [
       "219"
      ],
      "text/markdown": [
       "219"
      ],
      "text/plain": [
       "[1] 219"
      ]
     },
     "metadata": {},
     "output_type": "display_data"
    }
   ],
   "source": [
    "# Q 1.23 - 4\n",
    "sum(treering>1.5)"
   ]
  },
  {
   "cell_type": "markdown",
   "id": "c1b7f3b4",
   "metadata": {},
   "source": [
    "Q1.24) The data set mandms (UsingR) contains the targeted color distribution in a bag of M&Ms as percentages for varies types of packaging. Answer these questions. \n",
    "1. Which packaging is missing one of the six colors? \n",
    "2. Which types of packaging have an equal distribution of colors? \n",
    "3. Which packaging has a single color that is more likely than all the others? What color is this? "
   ]
  },
  {
   "cell_type": "code",
   "execution_count": 17,
   "id": "438f7462",
   "metadata": {
    "id": "438f7462"
   },
   "outputs": [],
   "source": [
    "# Q 1.24\n",
    "data(\"mandms\")"
   ]
  },
  {
   "cell_type": "code",
   "execution_count": 18,
   "id": "8bcd055d",
   "metadata": {
    "colab": {
     "base_uri": "https://localhost:8080/",
     "height": 272
    },
    "id": "8bcd055d",
    "outputId": "2d78068c-d02c-4a68-c9c5-a25f952f2968"
   },
   "outputs": [
    {
     "data": {
      "text/html": [
       "<table class=\"dataframe\">\n",
       "<caption>A data.frame: 5 × 6</caption>\n",
       "<thead>\n",
       "\t<tr><th></th><th scope=col>blue</th><th scope=col>brown</th><th scope=col>green</th><th scope=col>orange</th><th scope=col>red</th><th scope=col>yellow</th></tr>\n",
       "\t<tr><th></th><th scope=col>&lt;dbl&gt;</th><th scope=col>&lt;dbl&gt;</th><th scope=col>&lt;dbl&gt;</th><th scope=col>&lt;dbl&gt;</th><th scope=col>&lt;dbl&gt;</th><th scope=col>&lt;dbl&gt;</th></tr>\n",
       "</thead>\n",
       "<tbody>\n",
       "\t<tr><th scope=row>milk chocolate</th><td>10.0000</td><td>30.0000</td><td>10.0000</td><td>10.0000</td><td>20.0000</td><td>20.0000</td></tr>\n",
       "\t<tr><th scope=row>Peanut</th><td>20.0000</td><td>20.0000</td><td>10.0000</td><td>10.0000</td><td>20.0000</td><td>20.0000</td></tr>\n",
       "\t<tr><th scope=row>Peanut Butter</th><td>20.0000</td><td>20.0000</td><td>20.0000</td><td> 0.0000</td><td>20.0000</td><td>20.0000</td></tr>\n",
       "\t<tr><th scope=row>Almond</th><td>16.6667</td><td>16.6667</td><td>16.6667</td><td>16.6667</td><td>16.6667</td><td>16.6667</td></tr>\n",
       "\t<tr><th scope=row>kid minis</th><td>16.6667</td><td>16.6667</td><td>16.6667</td><td>16.6667</td><td>16.6667</td><td>16.6667</td></tr>\n",
       "</tbody>\n",
       "</table>\n"
      ],
      "text/latex": [
       "A data.frame: 5 × 6\n",
       "\\begin{tabular}{r|llllll}\n",
       "  & blue & brown & green & orange & red & yellow\\\\\n",
       "  & <dbl> & <dbl> & <dbl> & <dbl> & <dbl> & <dbl>\\\\\n",
       "\\hline\n",
       "\tmilk chocolate & 10.0000 & 30.0000 & 10.0000 & 10.0000 & 20.0000 & 20.0000\\\\\n",
       "\tPeanut & 20.0000 & 20.0000 & 10.0000 & 10.0000 & 20.0000 & 20.0000\\\\\n",
       "\tPeanut Butter & 20.0000 & 20.0000 & 20.0000 &  0.0000 & 20.0000 & 20.0000\\\\\n",
       "\tAlmond & 16.6667 & 16.6667 & 16.6667 & 16.6667 & 16.6667 & 16.6667\\\\\n",
       "\tkid minis & 16.6667 & 16.6667 & 16.6667 & 16.6667 & 16.6667 & 16.6667\\\\\n",
       "\\end{tabular}\n"
      ],
      "text/markdown": [
       "\n",
       "A data.frame: 5 × 6\n",
       "\n",
       "| <!--/--> | blue &lt;dbl&gt; | brown &lt;dbl&gt; | green &lt;dbl&gt; | orange &lt;dbl&gt; | red &lt;dbl&gt; | yellow &lt;dbl&gt; |\n",
       "|---|---|---|---|---|---|---|\n",
       "| milk chocolate | 10.0000 | 30.0000 | 10.0000 | 10.0000 | 20.0000 | 20.0000 |\n",
       "| Peanut | 20.0000 | 20.0000 | 10.0000 | 10.0000 | 20.0000 | 20.0000 |\n",
       "| Peanut Butter | 20.0000 | 20.0000 | 20.0000 |  0.0000 | 20.0000 | 20.0000 |\n",
       "| Almond | 16.6667 | 16.6667 | 16.6667 | 16.6667 | 16.6667 | 16.6667 |\n",
       "| kid minis | 16.6667 | 16.6667 | 16.6667 | 16.6667 | 16.6667 | 16.6667 |\n",
       "\n"
      ],
      "text/plain": [
       "               blue    brown   green   orange  red     yellow \n",
       "milk chocolate 10.0000 30.0000 10.0000 10.0000 20.0000 20.0000\n",
       "Peanut         20.0000 20.0000 10.0000 10.0000 20.0000 20.0000\n",
       "Peanut Butter  20.0000 20.0000 20.0000  0.0000 20.0000 20.0000\n",
       "Almond         16.6667 16.6667 16.6667 16.6667 16.6667 16.6667\n",
       "kid minis      16.6667 16.6667 16.6667 16.6667 16.6667 16.6667"
      ]
     },
     "metadata": {},
     "output_type": "display_data"
    },
    {
     "data": {
      "text/html": [
       "'Peanut Butter'"
      ],
      "text/latex": [
       "'Peanut Butter'"
      ],
      "text/markdown": [
       "'Peanut Butter'"
      ],
      "text/plain": [
       "[1] \"Peanut Butter\""
      ]
     },
     "metadata": {},
     "output_type": "display_data"
    }
   ],
   "source": [
    "# Q 1.24 - 1\n",
    "mandms\n",
    "names(which(rowSums(mandms==0)==1))"
   ]
  },
  {
   "cell_type": "code",
   "execution_count": 19,
   "id": "2a5cf55b",
   "metadata": {
    "colab": {
     "base_uri": "https://localhost:8080/",
     "height": 34
    },
    "id": "2a5cf55b",
    "outputId": "da8abe35-c99e-4804-c935-092628015557"
   },
   "outputs": [
    {
     "data": {
      "text/html": [
       "<style>\n",
       ".list-inline {list-style: none; margin:0; padding: 0}\n",
       ".list-inline>li {display: inline-block}\n",
       ".list-inline>li:not(:last-child)::after {content: \"\\00b7\"; padding: 0 .5ex}\n",
       "</style>\n",
       "<ol class=list-inline><li>'Almond'</li><li>'kid minis'</li></ol>\n"
      ],
      "text/latex": [
       "\\begin{enumerate*}\n",
       "\\item 'Almond'\n",
       "\\item 'kid minis'\n",
       "\\end{enumerate*}\n"
      ],
      "text/markdown": [
       "1. 'Almond'\n",
       "2. 'kid minis'\n",
       "\n",
       "\n"
      ],
      "text/plain": [
       "[1] \"Almond\"    \"kid minis\""
      ]
     },
     "metadata": {},
     "output_type": "display_data"
    }
   ],
   "source": [
    "# Q 1.24 - 2\n",
    "names(which(rowSums(mandms==rowMeans(mandms))==6))"
   ]
  },
  {
   "cell_type": "code",
   "execution_count": 20,
   "id": "6421eca4",
   "metadata": {
    "colab": {
     "base_uri": "https://localhost:8080/",
     "height": 52
    },
    "id": "6421eca4",
    "outputId": "4d4dc49b-3389-404f-819e-016de739823e"
   },
   "outputs": [
    {
     "data": {
      "text/html": [
       "'milk chocolate'"
      ],
      "text/latex": [
       "'milk chocolate'"
      ],
      "text/markdown": [
       "'milk chocolate'"
      ],
      "text/plain": [
       "[1] \"milk chocolate\""
      ]
     },
     "metadata": {},
     "output_type": "display_data"
    },
    {
     "data": {
      "text/html": [
       "'brown'"
      ],
      "text/latex": [
       "'brown'"
      ],
      "text/markdown": [
       "'brown'"
      ],
      "text/plain": [
       "[1] \"brown\""
      ]
     },
     "metadata": {},
     "output_type": "display_data"
    }
   ],
   "source": [
    "# Q 1.24 -3\n",
    "names(which(rowSums(mandms==max(mandms))==1))\n",
    "names(which(colSums(mandms==max(mandms))==1))"
   ]
  },
  {
   "cell_type": "markdown",
   "id": "899e0df2",
   "metadata": {},
   "source": [
    "Q1.25) The t imes variable in the data set nym. 2002 (UsingR) contains the time to finish for several participants in the 2002 New York City Marathon. Answer these questions. \n",
    "1. How many times are stored in the data set? \n",
    "2. What was the fastest time in minutes? Convert this into hours and minutes using R. \n",
    "3. What was the slowest time in minutes? Convert this into hours and minutes using R. "
   ]
  },
  {
   "cell_type": "code",
   "execution_count": 21,
   "id": "f681a980",
   "metadata": {
    "colab": {
     "base_uri": "https://localhost:8080/",
     "height": 1000
    },
    "id": "f681a980",
    "outputId": "1709abe5-8e77-453b-a356-7a1ef18f40a5"
   },
   "outputs": [
    {
     "data": {
      "text/html": [
       "<table class=\"dataframe\">\n",
       "<caption>A data.frame: 1000 × 5</caption>\n",
       "<thead>\n",
       "\t<tr><th></th><th scope=col>place</th><th scope=col>gender</th><th scope=col>age</th><th scope=col>home</th><th scope=col>time</th></tr>\n",
       "\t<tr><th></th><th scope=col>&lt;dbl&gt;</th><th scope=col>&lt;fct&gt;</th><th scope=col>&lt;dbl&gt;</th><th scope=col>&lt;fct&gt;</th><th scope=col>&lt;dbl&gt;</th></tr>\n",
       "</thead>\n",
       "<tbody>\n",
       "\t<tr><th scope=row>3475</th><td> 3592</td><td>Male  </td><td>52</td><td>GBR</td><td>217.4833</td></tr>\n",
       "\t<tr><th scope=row>13594</th><td>13853</td><td>Female</td><td>40</td><td>NY </td><td>272.5500</td></tr>\n",
       "\t<tr><th scope=row>12012</th><td>12256</td><td>Male  </td><td>31</td><td>FRA</td><td>265.2833</td></tr>\n",
       "\t<tr><th scope=row>10236</th><td>10457</td><td>Female</td><td>33</td><td>MI </td><td>256.1500</td></tr>\n",
       "\t<tr><th scope=row>9476</th><td> 9686</td><td>Male  </td><td>33</td><td>NY </td><td>252.2500</td></tr>\n",
       "\t<tr><th scope=row>1720</th><td> 1784</td><td>Male  </td><td>40</td><td>NJ </td><td>201.9667</td></tr>\n",
       "\t<tr><th scope=row>15736</th><td>16020</td><td>Female</td><td>30</td><td>CA </td><td>283.5667</td></tr>\n",
       "\t<tr><th scope=row>10580</th><td>10805</td><td>Male  </td><td>27</td><td>GBR</td><td>255.8833</td></tr>\n",
       "\t<tr><th scope=row>11957</th><td>12201</td><td>Male  </td><td>42</td><td>NED</td><td>264.2500</td></tr>\n",
       "\t<tr><th scope=row>18933</th><td>19266</td><td>Male  </td><td>48</td><td>B.C</td><td>306.6833</td></tr>\n",
       "\t<tr><th scope=row>14956</th><td>15229</td><td>Female</td><td>63</td><td>GBR</td><td>281.2667</td></tr>\n",
       "\t<tr><th scope=row>14987</th><td>15260</td><td>Male  </td><td>49</td><td>ITA</td><td>280.2500</td></tr>\n",
       "\t<tr><th scope=row>10447</th><td>10670</td><td>Male  </td><td>33</td><td>NY </td><td>258.3333</td></tr>\n",
       "\t<tr><th scope=row>10435</th><td>10658</td><td>Male  </td><td>43</td><td>NY </td><td>257.1333</td></tr>\n",
       "\t<tr><th scope=row>191</th><td>  200</td><td>Male  </td><td>40</td><td>GER</td><td>163.9333</td></tr>\n",
       "\t<tr><th scope=row>9962</th><td>10178</td><td>Male  </td><td>33</td><td>NY </td><td>253.6167</td></tr>\n",
       "\t<tr><th scope=row>2379</th><td> 2467</td><td>Male  </td><td>40</td><td>FRA</td><td>206.2667</td></tr>\n",
       "\t<tr><th scope=row>10505</th><td>10729</td><td>Male  </td><td>36</td><td>NY </td><td>257.9333</td></tr>\n",
       "\t<tr><th scope=row>11853</th><td>12093</td><td>Male  </td><td>49</td><td>SWE</td><td>262.1333</td></tr>\n",
       "\t<tr><th scope=row>12181</th><td>12428</td><td>Female</td><td>34</td><td>NY </td><td>264.2167</td></tr>\n",
       "\t<tr><th scope=row>2633</th><td> 2730</td><td>Male  </td><td>26</td><td>DEN</td><td>209.7333</td></tr>\n",
       "\t<tr><th scope=row>11935</th><td>12179</td><td>Male  </td><td>50</td><td>NED</td><td>265.2500</td></tr>\n",
       "\t<tr><th scope=row>20116</th><td>20460</td><td>Male  </td><td>33</td><td>NJ </td><td>315.2333</td></tr>\n",
       "\t<tr><th scope=row>23043</th><td>23413</td><td>Male  </td><td>71</td><td>FL </td><td>414.7000</td></tr>\n",
       "\t<tr><th scope=row>19584</th><td>19921</td><td>Female</td><td>39</td><td>GER</td><td>309.2667</td></tr>\n",
       "\t<tr><th scope=row>11640</th><td>11878</td><td>Female</td><td>28</td><td>GBR</td><td>261.2667</td></tr>\n",
       "\t<tr><th scope=row>17363</th><td>17683</td><td>Male  </td><td>52</td><td>GBR</td><td>295.3167</td></tr>\n",
       "\t<tr><th scope=row>17611</th><td>17933</td><td>Male  </td><td>28</td><td>NED</td><td>294.8333</td></tr>\n",
       "\t<tr><th scope=row>9935</th><td>10151</td><td>Male  </td><td>52</td><td>CA </td><td>254.2500</td></tr>\n",
       "\t<tr><th scope=row>8713</th><td> 8915</td><td>Male  </td><td>41</td><td>BRA</td><td>248.9500</td></tr>\n",
       "\t<tr><th scope=row>⋮</th><td>⋮</td><td>⋮</td><td>⋮</td><td>⋮</td><td>⋮</td></tr>\n",
       "\t<tr><th scope=row>15236</th><td>15514</td><td>Male  </td><td>40</td><td>NY </td><td>281.4000</td></tr>\n",
       "\t<tr><th scope=row>20863</th><td>21215</td><td>Male  </td><td>53</td><td>MA </td><td>331.7000</td></tr>\n",
       "\t<tr><th scope=row>6238</th><td> 6402</td><td>Male  </td><td>35</td><td>ITA</td><td>235.8000</td></tr>\n",
       "\t<tr><th scope=row>22642</th><td>23010</td><td>Male  </td><td>69</td><td>MI </td><td>376.6500</td></tr>\n",
       "\t<tr><th scope=row>15733</th><td>16017</td><td>Male  </td><td>24</td><td>NY </td><td>284.3167</td></tr>\n",
       "\t<tr><th scope=row>22691</th><td>23059</td><td>Male  </td><td>51</td><td>CT </td><td>380.6833</td></tr>\n",
       "\t<tr><th scope=row>20188</th><td>20532</td><td>Male  </td><td>29</td><td>NY </td><td>316.8167</td></tr>\n",
       "\t<tr><th scope=row>13477</th><td>13736</td><td>Female</td><td>33</td><td>CT </td><td>273.0000</td></tr>\n",
       "\t<tr><th scope=row>9151</th><td> 9353</td><td>Male  </td><td>30</td><td>NY </td><td>251.5833</td></tr>\n",
       "\t<tr><th scope=row>2200</th><td> 2279</td><td>Male  </td><td>21</td><td>NJ </td><td>206.1333</td></tr>\n",
       "\t<tr><th scope=row>17945</th><td>18272</td><td>Male  </td><td>43</td><td>FL </td><td>298.4000</td></tr>\n",
       "\t<tr><th scope=row>13982</th><td>14246</td><td>Male  </td><td>31</td><td>NY </td><td>275.5500</td></tr>\n",
       "\t<tr><th scope=row>13403</th><td>13661</td><td>Male  </td><td>39</td><td>FRA</td><td>270.2833</td></tr>\n",
       "\t<tr><th scope=row>1595</th><td> 1654</td><td>Male  </td><td>35</td><td>ESP</td><td>200.5500</td></tr>\n",
       "\t<tr><th scope=row>15869</th><td>16157</td><td>Male  </td><td>31</td><td>ITA</td><td>285.2500</td></tr>\n",
       "\t<tr><th scope=row>20530</th><td>20877</td><td>Male  </td><td>29</td><td>SUI</td><td>324.6667</td></tr>\n",
       "\t<tr><th scope=row>13981</th><td>14245</td><td>Male  </td><td>40</td><td>MA </td><td>273.7000</td></tr>\n",
       "\t<tr><th scope=row>13190</th><td>13446</td><td>Female</td><td>37</td><td>IN </td><td>267.6333</td></tr>\n",
       "\t<tr><th scope=row>1038</th><td> 1079</td><td>Male  </td><td>40</td><td>NED</td><td>191.3167</td></tr>\n",
       "\t<tr><th scope=row>13752</th><td>14013</td><td>Male  </td><td>49</td><td>ITA</td><td>273.0333</td></tr>\n",
       "\t<tr><th scope=row>23273</th><td>23645</td><td>Female</td><td>46</td><td>NY </td><td>501.5500</td></tr>\n",
       "\t<tr><th scope=row>15901</th><td>16189</td><td>Female</td><td>51</td><td>TN </td><td>285.3500</td></tr>\n",
       "\t<tr><th scope=row>14889</th><td>15162</td><td>Female</td><td>50</td><td>GER</td><td>278.1167</td></tr>\n",
       "\t<tr><th scope=row>11547</th><td>11784</td><td>Female</td><td>40</td><td>NY </td><td>263.3833</td></tr>\n",
       "\t<tr><th scope=row>4079</th><td> 4206</td><td>Male  </td><td>27</td><td>CAN</td><td>223.3333</td></tr>\n",
       "\t<tr><th scope=row>15972</th><td>16261</td><td>Male  </td><td>61</td><td>FRA</td><td>285.8833</td></tr>\n",
       "\t<tr><th scope=row>1090</th><td> 1131</td><td>Male  </td><td>37</td><td>GBR</td><td>191.9167</td></tr>\n",
       "\t<tr><th scope=row>16419</th><td>16713</td><td>Female</td><td>53</td><td>IRL</td><td>289.0167</td></tr>\n",
       "\t<tr><th scope=row>13977</th><td>14241</td><td>Female</td><td>21</td><td>NY </td><td>276.0500</td></tr>\n",
       "\t<tr><th scope=row>8527</th><td> 8726</td><td>Male  </td><td>55</td><td>GER</td><td>240.9667</td></tr>\n",
       "</tbody>\n",
       "</table>\n"
      ],
      "text/latex": [
       "A data.frame: 1000 × 5\n",
       "\\begin{tabular}{r|lllll}\n",
       "  & place & gender & age & home & time\\\\\n",
       "  & <dbl> & <fct> & <dbl> & <fct> & <dbl>\\\\\n",
       "\\hline\n",
       "\t3475 &  3592 & Male   & 52 & GBR & 217.4833\\\\\n",
       "\t13594 & 13853 & Female & 40 & NY  & 272.5500\\\\\n",
       "\t12012 & 12256 & Male   & 31 & FRA & 265.2833\\\\\n",
       "\t10236 & 10457 & Female & 33 & MI  & 256.1500\\\\\n",
       "\t9476 &  9686 & Male   & 33 & NY  & 252.2500\\\\\n",
       "\t1720 &  1784 & Male   & 40 & NJ  & 201.9667\\\\\n",
       "\t15736 & 16020 & Female & 30 & CA  & 283.5667\\\\\n",
       "\t10580 & 10805 & Male   & 27 & GBR & 255.8833\\\\\n",
       "\t11957 & 12201 & Male   & 42 & NED & 264.2500\\\\\n",
       "\t18933 & 19266 & Male   & 48 & B.C & 306.6833\\\\\n",
       "\t14956 & 15229 & Female & 63 & GBR & 281.2667\\\\\n",
       "\t14987 & 15260 & Male   & 49 & ITA & 280.2500\\\\\n",
       "\t10447 & 10670 & Male   & 33 & NY  & 258.3333\\\\\n",
       "\t10435 & 10658 & Male   & 43 & NY  & 257.1333\\\\\n",
       "\t191 &   200 & Male   & 40 & GER & 163.9333\\\\\n",
       "\t9962 & 10178 & Male   & 33 & NY  & 253.6167\\\\\n",
       "\t2379 &  2467 & Male   & 40 & FRA & 206.2667\\\\\n",
       "\t10505 & 10729 & Male   & 36 & NY  & 257.9333\\\\\n",
       "\t11853 & 12093 & Male   & 49 & SWE & 262.1333\\\\\n",
       "\t12181 & 12428 & Female & 34 & NY  & 264.2167\\\\\n",
       "\t2633 &  2730 & Male   & 26 & DEN & 209.7333\\\\\n",
       "\t11935 & 12179 & Male   & 50 & NED & 265.2500\\\\\n",
       "\t20116 & 20460 & Male   & 33 & NJ  & 315.2333\\\\\n",
       "\t23043 & 23413 & Male   & 71 & FL  & 414.7000\\\\\n",
       "\t19584 & 19921 & Female & 39 & GER & 309.2667\\\\\n",
       "\t11640 & 11878 & Female & 28 & GBR & 261.2667\\\\\n",
       "\t17363 & 17683 & Male   & 52 & GBR & 295.3167\\\\\n",
       "\t17611 & 17933 & Male   & 28 & NED & 294.8333\\\\\n",
       "\t9935 & 10151 & Male   & 52 & CA  & 254.2500\\\\\n",
       "\t8713 &  8915 & Male   & 41 & BRA & 248.9500\\\\\n",
       "\t⋮ & ⋮ & ⋮ & ⋮ & ⋮ & ⋮\\\\\n",
       "\t15236 & 15514 & Male   & 40 & NY  & 281.4000\\\\\n",
       "\t20863 & 21215 & Male   & 53 & MA  & 331.7000\\\\\n",
       "\t6238 &  6402 & Male   & 35 & ITA & 235.8000\\\\\n",
       "\t22642 & 23010 & Male   & 69 & MI  & 376.6500\\\\\n",
       "\t15733 & 16017 & Male   & 24 & NY  & 284.3167\\\\\n",
       "\t22691 & 23059 & Male   & 51 & CT  & 380.6833\\\\\n",
       "\t20188 & 20532 & Male   & 29 & NY  & 316.8167\\\\\n",
       "\t13477 & 13736 & Female & 33 & CT  & 273.0000\\\\\n",
       "\t9151 &  9353 & Male   & 30 & NY  & 251.5833\\\\\n",
       "\t2200 &  2279 & Male   & 21 & NJ  & 206.1333\\\\\n",
       "\t17945 & 18272 & Male   & 43 & FL  & 298.4000\\\\\n",
       "\t13982 & 14246 & Male   & 31 & NY  & 275.5500\\\\\n",
       "\t13403 & 13661 & Male   & 39 & FRA & 270.2833\\\\\n",
       "\t1595 &  1654 & Male   & 35 & ESP & 200.5500\\\\\n",
       "\t15869 & 16157 & Male   & 31 & ITA & 285.2500\\\\\n",
       "\t20530 & 20877 & Male   & 29 & SUI & 324.6667\\\\\n",
       "\t13981 & 14245 & Male   & 40 & MA  & 273.7000\\\\\n",
       "\t13190 & 13446 & Female & 37 & IN  & 267.6333\\\\\n",
       "\t1038 &  1079 & Male   & 40 & NED & 191.3167\\\\\n",
       "\t13752 & 14013 & Male   & 49 & ITA & 273.0333\\\\\n",
       "\t23273 & 23645 & Female & 46 & NY  & 501.5500\\\\\n",
       "\t15901 & 16189 & Female & 51 & TN  & 285.3500\\\\\n",
       "\t14889 & 15162 & Female & 50 & GER & 278.1167\\\\\n",
       "\t11547 & 11784 & Female & 40 & NY  & 263.3833\\\\\n",
       "\t4079 &  4206 & Male   & 27 & CAN & 223.3333\\\\\n",
       "\t15972 & 16261 & Male   & 61 & FRA & 285.8833\\\\\n",
       "\t1090 &  1131 & Male   & 37 & GBR & 191.9167\\\\\n",
       "\t16419 & 16713 & Female & 53 & IRL & 289.0167\\\\\n",
       "\t13977 & 14241 & Female & 21 & NY  & 276.0500\\\\\n",
       "\t8527 &  8726 & Male   & 55 & GER & 240.9667\\\\\n",
       "\\end{tabular}\n"
      ],
      "text/markdown": [
       "\n",
       "A data.frame: 1000 × 5\n",
       "\n",
       "| <!--/--> | place &lt;dbl&gt; | gender &lt;fct&gt; | age &lt;dbl&gt; | home &lt;fct&gt; | time &lt;dbl&gt; |\n",
       "|---|---|---|---|---|---|\n",
       "| 3475 |  3592 | Male   | 52 | GBR | 217.4833 |\n",
       "| 13594 | 13853 | Female | 40 | NY  | 272.5500 |\n",
       "| 12012 | 12256 | Male   | 31 | FRA | 265.2833 |\n",
       "| 10236 | 10457 | Female | 33 | MI  | 256.1500 |\n",
       "| 9476 |  9686 | Male   | 33 | NY  | 252.2500 |\n",
       "| 1720 |  1784 | Male   | 40 | NJ  | 201.9667 |\n",
       "| 15736 | 16020 | Female | 30 | CA  | 283.5667 |\n",
       "| 10580 | 10805 | Male   | 27 | GBR | 255.8833 |\n",
       "| 11957 | 12201 | Male   | 42 | NED | 264.2500 |\n",
       "| 18933 | 19266 | Male   | 48 | B.C | 306.6833 |\n",
       "| 14956 | 15229 | Female | 63 | GBR | 281.2667 |\n",
       "| 14987 | 15260 | Male   | 49 | ITA | 280.2500 |\n",
       "| 10447 | 10670 | Male   | 33 | NY  | 258.3333 |\n",
       "| 10435 | 10658 | Male   | 43 | NY  | 257.1333 |\n",
       "| 191 |   200 | Male   | 40 | GER | 163.9333 |\n",
       "| 9962 | 10178 | Male   | 33 | NY  | 253.6167 |\n",
       "| 2379 |  2467 | Male   | 40 | FRA | 206.2667 |\n",
       "| 10505 | 10729 | Male   | 36 | NY  | 257.9333 |\n",
       "| 11853 | 12093 | Male   | 49 | SWE | 262.1333 |\n",
       "| 12181 | 12428 | Female | 34 | NY  | 264.2167 |\n",
       "| 2633 |  2730 | Male   | 26 | DEN | 209.7333 |\n",
       "| 11935 | 12179 | Male   | 50 | NED | 265.2500 |\n",
       "| 20116 | 20460 | Male   | 33 | NJ  | 315.2333 |\n",
       "| 23043 | 23413 | Male   | 71 | FL  | 414.7000 |\n",
       "| 19584 | 19921 | Female | 39 | GER | 309.2667 |\n",
       "| 11640 | 11878 | Female | 28 | GBR | 261.2667 |\n",
       "| 17363 | 17683 | Male   | 52 | GBR | 295.3167 |\n",
       "| 17611 | 17933 | Male   | 28 | NED | 294.8333 |\n",
       "| 9935 | 10151 | Male   | 52 | CA  | 254.2500 |\n",
       "| 8713 |  8915 | Male   | 41 | BRA | 248.9500 |\n",
       "| ⋮ | ⋮ | ⋮ | ⋮ | ⋮ | ⋮ |\n",
       "| 15236 | 15514 | Male   | 40 | NY  | 281.4000 |\n",
       "| 20863 | 21215 | Male   | 53 | MA  | 331.7000 |\n",
       "| 6238 |  6402 | Male   | 35 | ITA | 235.8000 |\n",
       "| 22642 | 23010 | Male   | 69 | MI  | 376.6500 |\n",
       "| 15733 | 16017 | Male   | 24 | NY  | 284.3167 |\n",
       "| 22691 | 23059 | Male   | 51 | CT  | 380.6833 |\n",
       "| 20188 | 20532 | Male   | 29 | NY  | 316.8167 |\n",
       "| 13477 | 13736 | Female | 33 | CT  | 273.0000 |\n",
       "| 9151 |  9353 | Male   | 30 | NY  | 251.5833 |\n",
       "| 2200 |  2279 | Male   | 21 | NJ  | 206.1333 |\n",
       "| 17945 | 18272 | Male   | 43 | FL  | 298.4000 |\n",
       "| 13982 | 14246 | Male   | 31 | NY  | 275.5500 |\n",
       "| 13403 | 13661 | Male   | 39 | FRA | 270.2833 |\n",
       "| 1595 |  1654 | Male   | 35 | ESP | 200.5500 |\n",
       "| 15869 | 16157 | Male   | 31 | ITA | 285.2500 |\n",
       "| 20530 | 20877 | Male   | 29 | SUI | 324.6667 |\n",
       "| 13981 | 14245 | Male   | 40 | MA  | 273.7000 |\n",
       "| 13190 | 13446 | Female | 37 | IN  | 267.6333 |\n",
       "| 1038 |  1079 | Male   | 40 | NED | 191.3167 |\n",
       "| 13752 | 14013 | Male   | 49 | ITA | 273.0333 |\n",
       "| 23273 | 23645 | Female | 46 | NY  | 501.5500 |\n",
       "| 15901 | 16189 | Female | 51 | TN  | 285.3500 |\n",
       "| 14889 | 15162 | Female | 50 | GER | 278.1167 |\n",
       "| 11547 | 11784 | Female | 40 | NY  | 263.3833 |\n",
       "| 4079 |  4206 | Male   | 27 | CAN | 223.3333 |\n",
       "| 15972 | 16261 | Male   | 61 | FRA | 285.8833 |\n",
       "| 1090 |  1131 | Male   | 37 | GBR | 191.9167 |\n",
       "| 16419 | 16713 | Female | 53 | IRL | 289.0167 |\n",
       "| 13977 | 14241 | Female | 21 | NY  | 276.0500 |\n",
       "| 8527 |  8726 | Male   | 55 | GER | 240.9667 |\n",
       "\n"
      ],
      "text/plain": [
       "      place gender age home time    \n",
       "3475   3592 Male   52  GBR  217.4833\n",
       "13594 13853 Female 40  NY   272.5500\n",
       "12012 12256 Male   31  FRA  265.2833\n",
       "10236 10457 Female 33  MI   256.1500\n",
       "9476   9686 Male   33  NY   252.2500\n",
       "1720   1784 Male   40  NJ   201.9667\n",
       "15736 16020 Female 30  CA   283.5667\n",
       "10580 10805 Male   27  GBR  255.8833\n",
       "11957 12201 Male   42  NED  264.2500\n",
       "18933 19266 Male   48  B.C  306.6833\n",
       "14956 15229 Female 63  GBR  281.2667\n",
       "14987 15260 Male   49  ITA  280.2500\n",
       "10447 10670 Male   33  NY   258.3333\n",
       "10435 10658 Male   43  NY   257.1333\n",
       "191     200 Male   40  GER  163.9333\n",
       "9962  10178 Male   33  NY   253.6167\n",
       "2379   2467 Male   40  FRA  206.2667\n",
       "10505 10729 Male   36  NY   257.9333\n",
       "11853 12093 Male   49  SWE  262.1333\n",
       "12181 12428 Female 34  NY   264.2167\n",
       "2633   2730 Male   26  DEN  209.7333\n",
       "11935 12179 Male   50  NED  265.2500\n",
       "20116 20460 Male   33  NJ   315.2333\n",
       "23043 23413 Male   71  FL   414.7000\n",
       "19584 19921 Female 39  GER  309.2667\n",
       "11640 11878 Female 28  GBR  261.2667\n",
       "17363 17683 Male   52  GBR  295.3167\n",
       "17611 17933 Male   28  NED  294.8333\n",
       "9935  10151 Male   52  CA   254.2500\n",
       "8713   8915 Male   41  BRA  248.9500\n",
       "⋮     ⋮     ⋮      ⋮   ⋮    ⋮       \n",
       "15236 15514 Male   40  NY   281.4000\n",
       "20863 21215 Male   53  MA   331.7000\n",
       "6238   6402 Male   35  ITA  235.8000\n",
       "22642 23010 Male   69  MI   376.6500\n",
       "15733 16017 Male   24  NY   284.3167\n",
       "22691 23059 Male   51  CT   380.6833\n",
       "20188 20532 Male   29  NY   316.8167\n",
       "13477 13736 Female 33  CT   273.0000\n",
       "9151   9353 Male   30  NY   251.5833\n",
       "2200   2279 Male   21  NJ   206.1333\n",
       "17945 18272 Male   43  FL   298.4000\n",
       "13982 14246 Male   31  NY   275.5500\n",
       "13403 13661 Male   39  FRA  270.2833\n",
       "1595   1654 Male   35  ESP  200.5500\n",
       "15869 16157 Male   31  ITA  285.2500\n",
       "20530 20877 Male   29  SUI  324.6667\n",
       "13981 14245 Male   40  MA   273.7000\n",
       "13190 13446 Female 37  IN   267.6333\n",
       "1038   1079 Male   40  NED  191.3167\n",
       "13752 14013 Male   49  ITA  273.0333\n",
       "23273 23645 Female 46  NY   501.5500\n",
       "15901 16189 Female 51  TN   285.3500\n",
       "14889 15162 Female 50  GER  278.1167\n",
       "11547 11784 Female 40  NY   263.3833\n",
       "4079   4206 Male   27  CAN  223.3333\n",
       "15972 16261 Male   61  FRA  285.8833\n",
       "1090   1131 Male   37  GBR  191.9167\n",
       "16419 16713 Female 53  IRL  289.0167\n",
       "13977 14241 Female 21  NY   276.0500\n",
       "8527   8726 Male   55  GER  240.9667"
      ]
     },
     "metadata": {},
     "output_type": "display_data"
    }
   ],
   "source": [
    "# 1.25\n",
    "data(\"nym.2002\")\n",
    "nym.2002"
   ]
  },
  {
   "cell_type": "code",
   "execution_count": 22,
   "id": "702acbc3",
   "metadata": {
    "colab": {
     "base_uri": "https://localhost:8080/",
     "height": 34
    },
    "id": "702acbc3",
    "outputId": "9a09822e-f4fd-495b-866c-2ce54c9985c4"
   },
   "outputs": [
    {
     "data": {
      "text/html": [
       "1000"
      ],
      "text/latex": [
       "1000"
      ],
      "text/markdown": [
       "1000"
      ],
      "text/plain": [
       "[1] 1000"
      ]
     },
     "metadata": {},
     "output_type": "display_data"
    }
   ],
   "source": [
    "# Q 1.25 -1\n",
    "length(nym.2002$time)"
   ]
  },
  {
   "cell_type": "code",
   "execution_count": 23,
   "id": "36932acd",
   "metadata": {
    "colab": {
     "base_uri": "https://localhost:8080/",
     "height": 52
    },
    "id": "36932acd",
    "outputId": "c858808d-a6de-4985-f687-d28f730889a6"
   },
   "outputs": [
    {
     "data": {
      "text/html": [
       "147.333333333333"
      ],
      "text/latex": [
       "147.333333333333"
      ],
      "text/markdown": [
       "147.333333333333"
      ],
      "text/plain": [
       "[1] 147.3333"
      ]
     },
     "metadata": {},
     "output_type": "display_data"
    },
    {
     "data": {
      "text/html": [
       "'2:27'"
      ],
      "text/latex": [
       "'2:27'"
      ],
      "text/markdown": [
       "'2:27'"
      ],
      "text/plain": [
       "[1] \"2:27\""
      ]
     },
     "metadata": {},
     "output_type": "display_data"
    }
   ],
   "source": [
    "# Q 1.25 - 2\n",
    "min(nym.2002$time)\n",
    "paste(min(nym.2002$time)%/% 60, round(min(nym.2002$time) %% 60), sep=\":\")"
   ]
  },
  {
   "cell_type": "code",
   "execution_count": 24,
   "id": "40db2fdf",
   "metadata": {
    "colab": {
     "base_uri": "https://localhost:8080/",
     "height": 52
    },
    "id": "40db2fdf",
    "outputId": "da6da530-98df-4625-ae74-85be9ab7cd88"
   },
   "outputs": [
    {
     "data": {
      "text/html": [
       "566.783333333333"
      ],
      "text/latex": [
       "566.783333333333"
      ],
      "text/markdown": [
       "566.783333333333"
      ],
      "text/plain": [
       "[1] 566.7833"
      ]
     },
     "metadata": {},
     "output_type": "display_data"
    },
    {
     "data": {
      "text/html": [
       "'9:27'"
      ],
      "text/latex": [
       "'9:27'"
      ],
      "text/markdown": [
       "'9:27'"
      ],
      "text/plain": [
       "[1] \"9:27\""
      ]
     },
     "metadata": {},
     "output_type": "display_data"
    }
   ],
   "source": [
    "# Q 1.25 - 3\n",
    "max(nym.2002$time)\n",
    "paste(max(nym.2002$time)%/%60, round(max(nym.2002$time)%%60),sep=\":\")"
   ]
  },
  {
   "cell_type": "markdown",
   "id": "62609d6f",
   "metadata": {},
   "source": [
    "Q1.26) For the data set rivers, which is the longest river? The shortest? "
   ]
  },
  {
   "cell_type": "code",
   "execution_count": 25,
   "id": "99eb0fd7",
   "metadata": {
    "colab": {
     "base_uri": "https://localhost:8080/",
     "height": 139
    },
    "id": "99eb0fd7",
    "outputId": "477cd85a-1a30-4b0b-baa1-30123e305fb9"
   },
   "outputs": [
    {
     "data": {
      "text/html": [
       "<style>\n",
       ".list-inline {list-style: none; margin:0; padding: 0}\n",
       ".list-inline>li {display: inline-block}\n",
       ".list-inline>li:not(:last-child)::after {content: \"\\00b7\"; padding: 0 .5ex}\n",
       "</style>\n",
       "<ol class=list-inline><li>735</li><li>320</li><li>325</li><li>392</li><li>524</li><li>450</li><li>1459</li><li>135</li><li>465</li><li>600</li><li>330</li><li>336</li><li>280</li><li>315</li><li>870</li><li>906</li><li>202</li><li>329</li><li>290</li><li>1000</li><li>600</li><li>505</li><li>1450</li><li>840</li><li>1243</li><li>890</li><li>350</li><li>407</li><li>286</li><li>280</li><li>525</li><li>720</li><li>390</li><li>250</li><li>327</li><li>230</li><li>265</li><li>850</li><li>210</li><li>630</li><li>260</li><li>230</li><li>360</li><li>730</li><li>600</li><li>306</li><li>390</li><li>420</li><li>291</li><li>710</li><li>340</li><li>217</li><li>281</li><li>352</li><li>259</li><li>250</li><li>470</li><li>680</li><li>570</li><li>350</li><li>300</li><li>560</li><li>900</li><li>625</li><li>332</li><li>2348</li><li>1171</li><li>3710</li><li>2315</li><li>2533</li><li>780</li><li>280</li><li>410</li><li>460</li><li>260</li><li>255</li><li>431</li><li>350</li><li>760</li><li>618</li><li>338</li><li>981</li><li>1306</li><li>500</li><li>696</li><li>605</li><li>250</li><li>411</li><li>1054</li><li>735</li><li>233</li><li>435</li><li>490</li><li>310</li><li>460</li><li>383</li><li>375</li><li>1270</li><li>545</li><li>445</li><li>1885</li><li>380</li><li>300</li><li>380</li><li>377</li><li>425</li><li>276</li><li>210</li><li>800</li><li>420</li><li>350</li><li>360</li><li>538</li><li>1100</li><li>1205</li><li>314</li><li>237</li><li>610</li><li>360</li><li>540</li><li>1038</li><li>424</li><li>310</li><li>300</li><li>444</li><li>301</li><li>268</li><li>620</li><li>215</li><li>652</li><li>900</li><li>525</li><li>246</li><li>360</li><li>529</li><li>500</li><li>720</li><li>270</li><li>430</li><li>671</li><li>1770</li></ol>\n"
      ],
      "text/latex": [
       "\\begin{enumerate*}\n",
       "\\item 735\n",
       "\\item 320\n",
       "\\item 325\n",
       "\\item 392\n",
       "\\item 524\n",
       "\\item 450\n",
       "\\item 1459\n",
       "\\item 135\n",
       "\\item 465\n",
       "\\item 600\n",
       "\\item 330\n",
       "\\item 336\n",
       "\\item 280\n",
       "\\item 315\n",
       "\\item 870\n",
       "\\item 906\n",
       "\\item 202\n",
       "\\item 329\n",
       "\\item 290\n",
       "\\item 1000\n",
       "\\item 600\n",
       "\\item 505\n",
       "\\item 1450\n",
       "\\item 840\n",
       "\\item 1243\n",
       "\\item 890\n",
       "\\item 350\n",
       "\\item 407\n",
       "\\item 286\n",
       "\\item 280\n",
       "\\item 525\n",
       "\\item 720\n",
       "\\item 390\n",
       "\\item 250\n",
       "\\item 327\n",
       "\\item 230\n",
       "\\item 265\n",
       "\\item 850\n",
       "\\item 210\n",
       "\\item 630\n",
       "\\item 260\n",
       "\\item 230\n",
       "\\item 360\n",
       "\\item 730\n",
       "\\item 600\n",
       "\\item 306\n",
       "\\item 390\n",
       "\\item 420\n",
       "\\item 291\n",
       "\\item 710\n",
       "\\item 340\n",
       "\\item 217\n",
       "\\item 281\n",
       "\\item 352\n",
       "\\item 259\n",
       "\\item 250\n",
       "\\item 470\n",
       "\\item 680\n",
       "\\item 570\n",
       "\\item 350\n",
       "\\item 300\n",
       "\\item 560\n",
       "\\item 900\n",
       "\\item 625\n",
       "\\item 332\n",
       "\\item 2348\n",
       "\\item 1171\n",
       "\\item 3710\n",
       "\\item 2315\n",
       "\\item 2533\n",
       "\\item 780\n",
       "\\item 280\n",
       "\\item 410\n",
       "\\item 460\n",
       "\\item 260\n",
       "\\item 255\n",
       "\\item 431\n",
       "\\item 350\n",
       "\\item 760\n",
       "\\item 618\n",
       "\\item 338\n",
       "\\item 981\n",
       "\\item 1306\n",
       "\\item 500\n",
       "\\item 696\n",
       "\\item 605\n",
       "\\item 250\n",
       "\\item 411\n",
       "\\item 1054\n",
       "\\item 735\n",
       "\\item 233\n",
       "\\item 435\n",
       "\\item 490\n",
       "\\item 310\n",
       "\\item 460\n",
       "\\item 383\n",
       "\\item 375\n",
       "\\item 1270\n",
       "\\item 545\n",
       "\\item 445\n",
       "\\item 1885\n",
       "\\item 380\n",
       "\\item 300\n",
       "\\item 380\n",
       "\\item 377\n",
       "\\item 425\n",
       "\\item 276\n",
       "\\item 210\n",
       "\\item 800\n",
       "\\item 420\n",
       "\\item 350\n",
       "\\item 360\n",
       "\\item 538\n",
       "\\item 1100\n",
       "\\item 1205\n",
       "\\item 314\n",
       "\\item 237\n",
       "\\item 610\n",
       "\\item 360\n",
       "\\item 540\n",
       "\\item 1038\n",
       "\\item 424\n",
       "\\item 310\n",
       "\\item 300\n",
       "\\item 444\n",
       "\\item 301\n",
       "\\item 268\n",
       "\\item 620\n",
       "\\item 215\n",
       "\\item 652\n",
       "\\item 900\n",
       "\\item 525\n",
       "\\item 246\n",
       "\\item 360\n",
       "\\item 529\n",
       "\\item 500\n",
       "\\item 720\n",
       "\\item 270\n",
       "\\item 430\n",
       "\\item 671\n",
       "\\item 1770\n",
       "\\end{enumerate*}\n"
      ],
      "text/markdown": [
       "1. 735\n",
       "2. 320\n",
       "3. 325\n",
       "4. 392\n",
       "5. 524\n",
       "6. 450\n",
       "7. 1459\n",
       "8. 135\n",
       "9. 465\n",
       "10. 600\n",
       "11. 330\n",
       "12. 336\n",
       "13. 280\n",
       "14. 315\n",
       "15. 870\n",
       "16. 906\n",
       "17. 202\n",
       "18. 329\n",
       "19. 290\n",
       "20. 1000\n",
       "21. 600\n",
       "22. 505\n",
       "23. 1450\n",
       "24. 840\n",
       "25. 1243\n",
       "26. 890\n",
       "27. 350\n",
       "28. 407\n",
       "29. 286\n",
       "30. 280\n",
       "31. 525\n",
       "32. 720\n",
       "33. 390\n",
       "34. 250\n",
       "35. 327\n",
       "36. 230\n",
       "37. 265\n",
       "38. 850\n",
       "39. 210\n",
       "40. 630\n",
       "41. 260\n",
       "42. 230\n",
       "43. 360\n",
       "44. 730\n",
       "45. 600\n",
       "46. 306\n",
       "47. 390\n",
       "48. 420\n",
       "49. 291\n",
       "50. 710\n",
       "51. 340\n",
       "52. 217\n",
       "53. 281\n",
       "54. 352\n",
       "55. 259\n",
       "56. 250\n",
       "57. 470\n",
       "58. 680\n",
       "59. 570\n",
       "60. 350\n",
       "61. 300\n",
       "62. 560\n",
       "63. 900\n",
       "64. 625\n",
       "65. 332\n",
       "66. 2348\n",
       "67. 1171\n",
       "68. 3710\n",
       "69. 2315\n",
       "70. 2533\n",
       "71. 780\n",
       "72. 280\n",
       "73. 410\n",
       "74. 460\n",
       "75. 260\n",
       "76. 255\n",
       "77. 431\n",
       "78. 350\n",
       "79. 760\n",
       "80. 618\n",
       "81. 338\n",
       "82. 981\n",
       "83. 1306\n",
       "84. 500\n",
       "85. 696\n",
       "86. 605\n",
       "87. 250\n",
       "88. 411\n",
       "89. 1054\n",
       "90. 735\n",
       "91. 233\n",
       "92. 435\n",
       "93. 490\n",
       "94. 310\n",
       "95. 460\n",
       "96. 383\n",
       "97. 375\n",
       "98. 1270\n",
       "99. 545\n",
       "100. 445\n",
       "101. 1885\n",
       "102. 380\n",
       "103. 300\n",
       "104. 380\n",
       "105. 377\n",
       "106. 425\n",
       "107. 276\n",
       "108. 210\n",
       "109. 800\n",
       "110. 420\n",
       "111. 350\n",
       "112. 360\n",
       "113. 538\n",
       "114. 1100\n",
       "115. 1205\n",
       "116. 314\n",
       "117. 237\n",
       "118. 610\n",
       "119. 360\n",
       "120. 540\n",
       "121. 1038\n",
       "122. 424\n",
       "123. 310\n",
       "124. 300\n",
       "125. 444\n",
       "126. 301\n",
       "127. 268\n",
       "128. 620\n",
       "129. 215\n",
       "130. 652\n",
       "131. 900\n",
       "132. 525\n",
       "133. 246\n",
       "134. 360\n",
       "135. 529\n",
       "136. 500\n",
       "137. 720\n",
       "138. 270\n",
       "139. 430\n",
       "140. 671\n",
       "141. 1770\n",
       "\n",
       "\n"
      ],
      "text/plain": [
       "  [1]  735  320  325  392  524  450 1459  135  465  600  330  336  280  315  870\n",
       " [16]  906  202  329  290 1000  600  505 1450  840 1243  890  350  407  286  280\n",
       " [31]  525  720  390  250  327  230  265  850  210  630  260  230  360  730  600\n",
       " [46]  306  390  420  291  710  340  217  281  352  259  250  470  680  570  350\n",
       " [61]  300  560  900  625  332 2348 1171 3710 2315 2533  780  280  410  460  260\n",
       " [76]  255  431  350  760  618  338  981 1306  500  696  605  250  411 1054  735\n",
       " [91]  233  435  490  310  460  383  375 1270  545  445 1885  380  300  380  377\n",
       "[106]  425  276  210  800  420  350  360  538 1100 1205  314  237  610  360  540\n",
       "[121] 1038  424  310  300  444  301  268  620  215  652  900  525  246  360  529\n",
       "[136]  500  720  270  430  671 1770"
      ]
     },
     "metadata": {},
     "output_type": "display_data"
    },
    {
     "data": {
      "text/html": [
       "3710"
      ],
      "text/latex": [
       "3710"
      ],
      "text/markdown": [
       "3710"
      ],
      "text/plain": [
       "[1] 3710"
      ]
     },
     "metadata": {},
     "output_type": "display_data"
    },
    {
     "data": {
      "text/html": [
       "135"
      ],
      "text/latex": [
       "135"
      ],
      "text/markdown": [
       "135"
      ],
      "text/plain": [
       "[1] 135"
      ]
     },
     "metadata": {},
     "output_type": "display_data"
    }
   ],
   "source": [
    "# Q 1.26\n",
    "data(\"rivers\")\n",
    "rivers\n",
    "max(rivers)\n",
    "min(rivers)"
   ]
  },
  {
   "cell_type": "markdown",
   "id": "1ad2965b",
   "metadata": {},
   "source": [
    "1.27 The data set uspop contains decade-by-decade population figures for the United States from 1790 to 1970. \n",
    "1. Use names() and seq() to add the year names to the data vector. \n",
    "2. Use diff() to find the inter-decade differences. Which decade had the greatest increase? \n",
    "3. Explain why you could reasonably expect that the difference will always increase with each decade. Is this the case with the data?"
   ]
  },
  {
   "cell_type": "code",
   "execution_count": 26,
   "id": "fb4084c8",
   "metadata": {
    "id": "fb4084c8"
   },
   "outputs": [],
   "source": [
    "# Q 1.27\n",
    "data(\"uspop\")"
   ]
  },
  {
   "cell_type": "code",
   "execution_count": 27,
   "id": "92476749",
   "metadata": {
    "colab": {
     "base_uri": "https://localhost:8080/",
     "height": 34
    },
    "id": "92476749",
    "outputId": "1997d802-4ada-454f-c648-8860d00f6ec0"
   },
   "outputs": [
    {
     "data": {
      "text/html": [
       "<style>\n",
       ".list-inline {list-style: none; margin:0; padding: 0}\n",
       ".list-inline>li {display: inline-block}\n",
       ".list-inline>li:not(:last-child)::after {content: \"\\00b7\"; padding: 0 .5ex}\n",
       "</style>\n",
       "<ol class=list-inline><li>'1790'</li><li>'1800'</li><li>'1810'</li><li>'1820'</li><li>'1830'</li><li>'1840'</li><li>'1850'</li><li>'1860'</li><li>'1870'</li><li>'1880'</li><li>'1890'</li><li>'1900'</li><li>'1910'</li><li>'1920'</li><li>'1930'</li><li>'1940'</li><li>'1950'</li><li>'1960'</li><li>'1970'</li></ol>\n"
      ],
      "text/latex": [
       "\\begin{enumerate*}\n",
       "\\item '1790'\n",
       "\\item '1800'\n",
       "\\item '1810'\n",
       "\\item '1820'\n",
       "\\item '1830'\n",
       "\\item '1840'\n",
       "\\item '1850'\n",
       "\\item '1860'\n",
       "\\item '1870'\n",
       "\\item '1880'\n",
       "\\item '1890'\n",
       "\\item '1900'\n",
       "\\item '1910'\n",
       "\\item '1920'\n",
       "\\item '1930'\n",
       "\\item '1940'\n",
       "\\item '1950'\n",
       "\\item '1960'\n",
       "\\item '1970'\n",
       "\\end{enumerate*}\n"
      ],
      "text/markdown": [
       "1. '1790'\n",
       "2. '1800'\n",
       "3. '1810'\n",
       "4. '1820'\n",
       "5. '1830'\n",
       "6. '1840'\n",
       "7. '1850'\n",
       "8. '1860'\n",
       "9. '1870'\n",
       "10. '1880'\n",
       "11. '1890'\n",
       "12. '1900'\n",
       "13. '1910'\n",
       "14. '1920'\n",
       "15. '1930'\n",
       "16. '1940'\n",
       "17. '1950'\n",
       "18. '1960'\n",
       "19. '1970'\n",
       "\n",
       "\n"
      ],
      "text/plain": [
       " [1] \"1790\" \"1800\" \"1810\" \"1820\" \"1830\" \"1840\" \"1850\" \"1860\" \"1870\" \"1880\"\n",
       "[11] \"1890\" \"1900\" \"1910\" \"1920\" \"1930\" \"1940\" \"1950\" \"1960\" \"1970\""
      ]
     },
     "metadata": {},
     "output_type": "display_data"
    }
   ],
   "source": [
    "# Q 1.27 - 1\n",
    "names(uspop) = seq(1790, 1970, by= 10)\n",
    "names(uspop)"
   ]
  },
  {
   "cell_type": "code",
   "execution_count": 28,
   "id": "23a5f754",
   "metadata": {
    "colab": {
     "base_uri": "https://localhost:8080/",
     "height": 52
    },
    "id": "23a5f754",
    "outputId": "075c198a-c416-4444-94a5-831c957f60fd"
   },
   "outputs": [
    {
     "data": {
      "text/html": [
       "<style>\n",
       ".dl-inline {width: auto; margin:0; padding: 0}\n",
       ".dl-inline>dt, .dl-inline>dd {float: none; width: auto; display: inline-block}\n",
       ".dl-inline>dt::after {content: \":\\0020\"; padding-right: .5ex}\n",
       ".dl-inline>dt:not(:first-of-type) {padding-left: .5ex}\n",
       "</style><dl class=dl-inline><dt>1950</dt><dd>151.3</dd><dt>1960</dt><dd>179.3</dd></dl>\n"
      ],
      "text/latex": [
       "\\begin{description*}\n",
       "\\item[1950] 151.3\n",
       "\\item[1960] 179.3\n",
       "\\end{description*}\n"
      ],
      "text/markdown": [
       "1950\n",
       ":   151.31960\n",
       ":   179.3\n",
       "\n"
      ],
      "text/plain": [
       " 1950  1960 \n",
       "151.3 179.3 "
      ]
     },
     "metadata": {},
     "output_type": "display_data"
    },
    {
     "data": {
      "text/html": [
       "28"
      ],
      "text/latex": [
       "28"
      ],
      "text/markdown": [
       "28"
      ],
      "text/plain": [
       "[1] 28"
      ]
     },
     "metadata": {},
     "output_type": "display_data"
    }
   ],
   "source": [
    "# Q 1.27 - 2 \n",
    "idecade = diff(uspop)\n",
    "uspop[c(which.max(idecade),which.max(idecade)+1)]\n",
    "max(idecade)"
   ]
  },
  {
   "cell_type": "code",
   "execution_count": 30,
   "id": "900b1f54",
   "metadata": {
    "colab": {
     "base_uri": "https://localhost:8080/",
     "height": 34
    },
    "id": "900b1f54",
    "outputId": "fe28d8a9-ff0c-4a1d-9269-258d158f0042"
   },
   "outputs": [
    {
     "data": {
      "text/html": [
       "<style>\n",
       ".list-inline {list-style: none; margin:0; padding: 0}\n",
       ".list-inline>li {display: inline-block}\n",
       ".list-inline>li:not(:last-child)::after {content: \"\\00b7\"; padding: 0 .5ex}\n",
       "</style>\n",
       "<ol class=list-inline><li>'TRUE'</li><li>'TRUE'</li><li>'TRUE'</li><li>'TRUE'</li><li>'TRUE'</li><li>'TRUE'</li><li>'TRUE'</li><li>'TRUE'</li><li>'TRUE'</li><li>'TRUE'</li><li>'TRUE'</li><li>'TRUE'</li><li>'TRUE'</li><li>'TRUE'</li><li>'TRUE'</li><li>'TRUE'</li><li>'TRUE'</li><li>'TRUE'</li></ol>\n"
      ],
      "text/latex": [
       "\\begin{enumerate*}\n",
       "\\item 'TRUE'\n",
       "\\item 'TRUE'\n",
       "\\item 'TRUE'\n",
       "\\item 'TRUE'\n",
       "\\item 'TRUE'\n",
       "\\item 'TRUE'\n",
       "\\item 'TRUE'\n",
       "\\item 'TRUE'\n",
       "\\item 'TRUE'\n",
       "\\item 'TRUE'\n",
       "\\item 'TRUE'\n",
       "\\item 'TRUE'\n",
       "\\item 'TRUE'\n",
       "\\item 'TRUE'\n",
       "\\item 'TRUE'\n",
       "\\item 'TRUE'\n",
       "\\item 'TRUE'\n",
       "\\item 'TRUE'\n",
       "\\end{enumerate*}\n"
      ],
      "text/markdown": [
       "1. 'TRUE'\n",
       "2. 'TRUE'\n",
       "3. 'TRUE'\n",
       "4. 'TRUE'\n",
       "5. 'TRUE'\n",
       "6. 'TRUE'\n",
       "7. 'TRUE'\n",
       "8. 'TRUE'\n",
       "9. 'TRUE'\n",
       "10. 'TRUE'\n",
       "11. 'TRUE'\n",
       "12. 'TRUE'\n",
       "13. 'TRUE'\n",
       "14. 'TRUE'\n",
       "15. 'TRUE'\n",
       "16. 'TRUE'\n",
       "17. 'TRUE'\n",
       "18. 'TRUE'\n",
       "\n",
       "\n"
      ],
      "text/plain": [
       " [1] \"TRUE\" \"TRUE\" \"TRUE\" \"TRUE\" \"TRUE\" \"TRUE\" \"TRUE\" \"TRUE\" \"TRUE\" \"TRUE\"\n",
       "[11] \"TRUE\" \"TRUE\" \"TRUE\" \"TRUE\" \"TRUE\" \"TRUE\" \"TRUE\" \"TRUE\""
      ]
     },
     "metadata": {},
     "output_type": "display_data"
    }
   ],
   "source": [
    "# Q 1.27 - 3\n",
    "paste(idecade > 0)\n",
    "#All the TRUE values of output signifies that the data of population is always greater than the previous year. In other words, the population is increasing every year.\n"
   ]
  }
 ],
 "metadata": {
  "colab": {
   "name": "Homework1_R copy.ipynb",
   "provenance": []
  },
  "kernelspec": {
   "display_name": "R",
   "language": "R",
   "name": "ir"
  },
  "language_info": {
   "codemirror_mode": "r",
   "file_extension": ".r",
   "mimetype": "text/x-r-source",
   "name": "R",
   "pygments_lexer": "r",
   "version": "3.6.1"
  }
 },
 "nbformat": 4,
 "nbformat_minor": 5
}
