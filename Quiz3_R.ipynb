{
 "cells": [
  {
   "cell_type": "code",
   "execution_count": null,
   "id": "32d25b88",
   "metadata": {},
   "outputs": [],
   "source": [
    "1)\n",
    "A box of 8 marbles has 4 red, 2 green, and 2 blue marbles. If you select one\n",
    "marble, what is the probability that it is a red or blue marble.\n",
    "A. 0.60\n",
    "B. 0.75\n",
    "C. 6.00\n",
    "D. 0.80\n",
    "\n",
    "Ans: B. 0.75"
   ]
  },
  {
   "cell_type": "code",
   "execution_count": null,
   "id": "c2f409d2",
   "metadata": {},
   "outputs": [],
   "source": [
    "2)\n",
    "In general, the probability that it rains on Saturday is 25%. If it rains on\n",
    "Saturday, the probability that it rains on Sunday is 50%. If it does not rain on\n",
    "Saturday, the probability that it rains on Sunday is 25%.\n",
    "Given that it rained on Sunday, what is the probability that it rained on\n",
    "Saturday?\n",
    "A. 25%\n",
    "B. 40%\n",
    "C. 50%\n",
    "D. 60%\n",
    "\n",
    "Ans: B. 40%"
   ]
  },
  {
   "cell_type": "code",
   "execution_count": null,
   "id": "379698a9",
   "metadata": {},
   "outputs": [],
   "source": [
    "3)\n",
    "What is the naive assumption made by the Naive Bayes model used for\n",
    "classifying documents?\n",
    "A. Words in a document occur independently of each other, given the class.\n",
    "B. The training data does not need to be labeled to achieve strong accuracy.\n",
    "C. The frequency of the classes in the given documents is not relevant for\n",
    "classification.\n",
    "D. Although gradient descent is probabilistic, it will converge after enough\n",
    "iterations.\n",
    "\n",
    "Ans: A. Words in a document occur independently of each other, given the class."
   ]
  },
  {
   "cell_type": "code",
   "execution_count": null,
   "id": "175480c1",
   "metadata": {},
   "outputs": [],
   "source": [
    "4)\n",
    "Which one of these variables is a continuous random variable?\n",
    "A. The time it takes a randomly selected student to complete an exam.\n",
    "B. The number of tattoos a randomly selected person has.\n",
    "C. The number of women taller than 68 inches in a random sample of 5\n",
    "women.\n",
    "D. The number of correct guesses on a multiple choice test.\n",
    "\n",
    "Ans: A. The time it takes a randomly selected student to complete an exam."
   ]
  },
  {
   "cell_type": "code",
   "execution_count": null,
   "id": "7ceb694c",
   "metadata": {},
   "outputs": [],
   "source": [
    "5)\n",
    "Suppose that the probability of event A is 0.2 and the probability of event B\n",
    "is 0.4. Also, suppose that the two events are independent. Then P(A]B) is:\n",
    "A. P(A) = 0.2\n",
    "B. P(A)/P(B) = 0.2/0.4 = ½\n",
    "C. P(A) x P(B) = (0.2)0.4) = 0.08\n",
    "D. None of the above.\n",
    "\n",
    "Ans: A. P(A) = 0.2"
   ]
  },
  {
   "cell_type": "code",
   "execution_count": null,
   "id": "c6a676b2",
   "metadata": {},
   "outputs": [],
   "source": [
    "7)\n",
    "Which of the following is the most common example of a situation for\n",
    "which the main parameter of interest is a population proportion?\n",
    "A. A binomial experiment\n",
    "B. A normal experiment\n",
    "C. A randomized experiment\n",
    "D. An observational study\n",
    "\n",
    "Ans: A. A binomial experiment"
   ]
  },
  {
   "cell_type": "code",
   "execution_count": null,
   "id": "5015637f",
   "metadata": {},
   "outputs": [],
   "source": [
    "8)\n",
    "In a normally distributed variable, a value x is considered unusually large if\n",
    "A. P(X < x) < 0.05.\n",
    "B. P(X ≥ x) < 0.05.\n",
    "C. P(X < x) > 0.05.\n",
    "D. P(X ≥ x) > 0.05.\n",
    "E. P(X = x) > 0.05.\n",
    "\n",
    "Ans: B. P(X ≥ x) < 0.05."
   ]
  },
  {
   "cell_type": "code",
   "execution_count": null,
   "id": "09bbcba6",
   "metadata": {},
   "outputs": [],
   "source": [
    "9)\n",
    "The mean = np and the standard deviation = sqrt(npa) for\n",
    "A. all probability distributions.\n",
    "B. normal distributions.\n",
    "C. binomial distributions.\n",
    "D. none of the above\n",
    "\n",
    "Ans: C. binomial distributions."
   ]
  },
  {
   "cell_type": "code",
   "execution_count": null,
   "id": "a82cf1e6",
   "metadata": {},
   "outputs": [],
   "source": [
    "10)\n",
    "Which of the following is NOT required of a binomial distribution\n",
    "A. Each trial has exactly two outcomes.\n",
    "B. There is a fixed number of trials.\n",
    "C. The probability of success remains fixed for all trials.\n",
    "D. There are more than 30 trials\n",
    "\n",
    "Ans: D. There are more than 30 trials"
   ]
  },
  {
   "cell_type": "code",
   "execution_count": null,
   "id": "a1a73deb",
   "metadata": {},
   "outputs": [],
   "source": [
    "11)\n",
    "We assume that the probability of a child being a boy or girl is 1/2. A family\n",
    "has two children. Given that one of the children is a boy, what is the\n",
    "probability that both children are boys?\n",
    "A. 1/2\n",
    "B. 1/3\n",
    "C 3/4\n",
    "D. 1/4\n",
    "\n",
    "Ans: B.1/3"
   ]
  },
  {
   "cell_type": "code",
   "execution_count": null,
   "id": "4769c1bf",
   "metadata": {},
   "outputs": [],
   "source": [
    "12)\n",
    "If two events (both with probability greater than 0) are mutually exclusive,\n",
    "then:\n",
    "A. They also must be independent.\n",
    "B. They also could be independent.\n",
    "C. They cannot be independent.\n",
    "\n",
    "Ans: C. They cannot be independent."
   ]
  },
  {
   "cell_type": "code",
   "execution_count": null,
   "id": "3786bb5f",
   "metadata": {},
   "outputs": [],
   "source": [
    "13)\n",
    "The probability is p = 0.80 that a patient with a certain disease will be\n",
    "successfully treated with a new medical treatment. Suppose that the\n",
    "treatment is used on 40 patients. What is the \"expected value\" of the\n",
    "number of patients who are successfully treated?\n",
    "A. 40\n",
    "B. 20\n",
    "C &\n",
    "D. 32\n",
    "\n",
    "Ans: D.32"
   ]
  },
  {
   "cell_type": "code",
   "execution_count": null,
   "id": "0c9ae52a",
   "metadata": {},
   "outputs": [],
   "source": [
    "14)\n",
    "A medical treatment has a success rate of .8. Two patients will be treated\n",
    "with this treatment. Assuming the results are independent for the two\n",
    "patients, what is the probability that neither one of them will be successfully\n",
    "cured?\n",
    "A. 5\n",
    "B. .36\n",
    "C2\n",
    "D. .04\n",
    "\n",
    "Ans: D. .04"
   ]
  },
  {
   "cell_type": "code",
   "execution_count": null,
   "id": "7790cdae",
   "metadata": {},
   "outputs": [],
   "source": [
    "15)\n",
    "Which of the following matches) regexp/a+(ab)*a+/\n",
    "(1) abababa\n",
    "(2) aaba\n",
    "(3) aababaa\n",
    "(4) aba\n",
    "(5) a\n",
    "(6) None of Above\n",
    "\n",
    "Ans: (2) aaba\n",
    "(3) aababaa\n",
    "\n",
    "COnfirm"
   ]
  },
  {
   "cell_type": "code",
   "execution_count": null,
   "id": "5a498a79",
   "metadata": {},
   "outputs": [],
   "source": [
    "16)\n",
    "Suppose a normally distributed random variable x has a mean of 100 and P/x\n",
    "< 90) = 0.40. What is the probability that x is between 90 and 110? le. What\n",
    "is P(90 < x < 110)?\n",
    "A. 0.60\n",
    "B. 0.20\n",
    "C. 0.40\n",
    "D. 0.30\n",
    "\n",
    "Ans: B. 0.20"
   ]
  },
  {
   "cell_type": "code",
   "execution_count": null,
   "id": "d7d515dd",
   "metadata": {},
   "outputs": [],
   "source": [
    "17)\n",
    "Which one of the following probabilities is a\n",
    "\"cumulative\" probability?\n",
    "A. The probability that there are exactly 4 people with Type O+ blood in a\n",
    "sample of 10 people.\n",
    "B. The probability of exactly 3 heads in 6 flips of a coin.\n",
    "C. The probability that the accumulated annual rainfall in a certain city next\n",
    "year, rounded to the nearest inch, will be 18 inches.\n",
    "D. The probability that a randomly selected woman's height is 67 inches or\n",
    "less.\n",
    "\n",
    "Ans: D. The probability that a randomly selected woman's height is 67 inches or\n",
    "less."
   ]
  },
  {
   "cell_type": "code",
   "execution_count": null,
   "id": "2f7b14a8",
   "metadata": {},
   "outputs": [],
   "source": [
    "19)\n",
    "Suppose that a quiz consists of 20 True-False questions. A student hasn't\n",
    "studied for the exam and will just randomly guesses at all answers (with True\n",
    "and False equally likely). How would you find the probability that the\n",
    "student will get 8 or fewer answers correct?\n",
    "A. Find the probability that X=8 in a binomial distribution with n = 20 and\n",
    "p=0.5\n",
    "B. Find the area between 0 and 8 in a uniform distribution that goes from 0\n",
    "to 20.\n",
    "C. Find the probability that X=8 for a normal distribution with mean of 10\n",
    "and standard deviation of sart(5)\n",
    "D. Find the cumulative probability for 8 in a binomial distribution with n =\n",
    "20 and p = 0.5.\n",
    "\n",
    "'Ans: D. Find the cumulative probability for 8 in a binomial distribution with n =\n",
    "20 and p = 0.5."
   ]
  },
  {
   "cell_type": "code",
   "execution_count": null,
   "id": "b9bbede5",
   "metadata": {},
   "outputs": [],
   "source": [
    "20)\n",
    "Heights of college women have a distribution that can be approximated by a\n",
    "normal curve with a mean of 65 inches and a standard deviation equal to 3\n",
    "inches. About what proportion of college women are between 62 and 68\n",
    "inches tall?\n",
    "A. 0.68\n",
    "B. 0.50\n",
    "C 025\n",
    "D. 0.17\n",
    "\n",
    "Ans: A. 0.68\n",
    "\n",
    "confirm"
   ]
  },
  {
   "cell_type": "code",
   "execution_count": null,
   "id": "e4ed925b",
   "metadata": {},
   "outputs": [],
   "source": [
    "21)\n",
    "The payoff (X) for a lottery game has the following probability distribution.\n",
    "X=payoft\n",
    "$0 $5\n",
    "probability 0.8 0.2\n",
    "What is the expected value of X= payoff?\n",
    "A. $0\n",
    "B. $0.50\n",
    "C. $1.00\n",
    "D. $2.50\n",
    "\n",
    "Ans: C. $1.00"
   ]
  },
  {
   "cell_type": "code",
   "execution_count": null,
   "id": "df80eba4",
   "metadata": {},
   "outputs": [],
   "source": [
    "22)\n",
    "Which of the following doesn't match regexp/[abc].c+/\n",
    "(1) abc\n",
    "(2) abcvc\n",
    "(3) abcbcbcbc\n",
    "(4) ac\n",
    "(5) aaaaaaaaaa\n",
    "(6) None of Above\n",
    "\n",
    "'Ans: (4) ac\n",
    "(5) aaaaaaaaaa\n",
    "\n",
    "confirm"
   ]
  },
  {
   "cell_type": "code",
   "execution_count": null,
   "id": "97456e11",
   "metadata": {},
   "outputs": [],
   "source": [
    "23)\n",
    "The expected value of a random variable is the\n",
    "A. value that has the highest probability of occurring.\n",
    "B. mean value over an infinite number of observations of the variable.\n",
    "C. largest value that will ever occur.\n",
    "D. most common value over an infinite number of observations of the\n",
    "variable.\n",
    "\n",
    "Ans: B. mean value over an infinite number of observations of the variable."
   ]
  },
  {
   "cell_type": "code",
   "execution_count": null,
   "id": "10feb2dd",
   "metadata": {},
   "outputs": [],
   "source": [
    "24)\n",
    "Which one of these variables is a binomial random variable?\n",
    "A. time it takes a randomly selected student to complete a multiple choice\n",
    "exam\n",
    "B. number of textbooks a randomly selected student bought this term\n",
    "C. number of women taller than 68 inches in a random sample of 5 women\n",
    "D. number of CDs a randomly selected person owns\n",
    "\n",
    "Ans: C. number of women taller than 68 inches in a random sample of 5 women"
   ]
  },
  {
   "cell_type": "code",
   "execution_count": null,
   "id": "2358caae",
   "metadata": {},
   "outputs": [],
   "source": [
    "25)\n",
    "A measure of similarity between two vectors which is determined by\n",
    "measuring the angle between them is called:\n",
    "A. cosine similarity\n",
    "B. sin similarity\n",
    "C. vector similarity\n",
    "D. vector scoring\n",
    "\n",
    "Ans: A. cosine similarity"
   ]
  },
  {
   "cell_type": "code",
   "execution_count": null,
   "id": "415ac5dd",
   "metadata": {},
   "outputs": [],
   "source": []
  },
  {
   "cell_type": "code",
   "execution_count": null,
   "id": "6326d4f2",
   "metadata": {},
   "outputs": [],
   "source": [
    "If a random variable X is used in an experiment and the experiment has all\n",
    "the above mentioned properties, then the random variable X is known as a\n",
    "binomial random variable.\n",
    "Consider the random variable:\n",
    "X= number of women taller than 68 inches in a random sample of 5 women\n",
    "~The number of trials is fixed, i.e. n= 5.\n",
    "~The heights of each women is independent of others.\n",
    "~The trials have only two outcomes: women taller than 68 inches and\n",
    "women not taller than 68 inches.\n",
    "~Each trial has the same probability of success, P (women taller than 68\n",
    "inches)\n",
    "Thus, the random variable, number of women taller than 68 inches in a\n",
    "random sample of 5 women is a binomial random variable..\n",
    "\n",
    "\n",
    "Thus, the correct option is (B)."
   ]
  },
  {
   "cell_type": "code",
   "execution_count": null,
   "id": "e41dc45d",
   "metadata": {},
   "outputs": [],
   "source": [
    "Answer:\n",
    "The correct option is (B).\n",
    "\n",
    "\n",
    "Step-by-step explanation:\n",
    "A Binomial experiment has the following properties:\n",
    "There are a fixed number of trials (n).\n",
    "Each trial are independent of the others.\n",
    "Each trial has only two outcomes: Success and Failure\n",
    "Each trial has the same probability of success (p)."
   ]
  },
  {
   "cell_type": "code",
   "execution_count": null,
   "id": "aeaf7de0",
   "metadata": {},
   "outputs": [],
   "source": [
    "Q. MC test with 4 choices per question. Find probability of getting EXACTLY 5 out of\n",
    "12 questions correct. Which of the following is used to find the probability?\n",
    "answer choices\n",
    "binompdf(12, .25, 5)\n",
    "binomcdf(12, .25, 5)\n",
    "1-binomcdf(12, .25, 5)\n",
    "1-binompdf(12, .25, 5)\n",
    "\n",
    "Question 2\n",
    "\n",
    "O. MC test with 4 choices per question find probability of getting AT MOST 5 out of\n",
    "12 questions correct. Which of the following would be used?\n",
    "answer choices\n",
    "binompdf(12, .25, 5)\n",
    "binomcdf(12,.25,5)\n",
    "1-binomcdf(12, .25, 5)\n",
    "1-binomedf(12..25, 4)"
   ]
  },
  {
   "cell_type": "code",
   "execution_count": null,
   "id": "218a2dfc",
   "metadata": {},
   "outputs": [],
   "source": [
    "Q3. The probability of winning is 1/3. Bob plays 6 games. Find P(win at least 3\n",
    "games):\n",
    "answer choices\n",
    "P(X=0)+P(X=1)+P(X=2)+P(×=3)\n",
    "1-binomcdf(6, 1/3, 3)\n",
    "binompdf(6, 1/3, 3)\n",
    "1-binomcdf(6, 1/3, 2)\n",
    "\n",
    "Q. Which of the following is NOT an assumption of the Binomial distribution?\n",
    "answer choices\n",
    "\n",
    "All trials must be independent.\n",
    "All trials are dependent on each other.\n",
    "Each trial must be classified as a success\n",
    "or a failure.\n",
    "The number of successes in the trials is\n",
    "counted."
   ]
  },
  {
   "cell_type": "code",
   "execution_count": null,
   "id": "10cb13e5",
   "metadata": {},
   "outputs": [],
   "source": [
    "Q. Which one of these variables is a binomial random variable?\n",
    "answer choices\n",
    "Time it takes a randomly selected student\n",
    "to complete a multiple choice exam\n",
    "Number of textbooks a randomly\n",
    "selected student bought this term\n",
    "Number of women taller than 68 inches\n",
    "in a random sample of 5 women\n",
    "Number of CDs a randomly selected\n",
    "person owns\n",
    "\n",
    "© Question 6\n",
    "O. Determine whether the random variable is discrete or continuous.\n",
    "The number of students on the Glenbard West Honor Roll.\n",
    "answer choices\n",
    "Discrete\n",
    "Continuous"
   ]
  },
  {
   "cell_type": "code",
   "execution_count": null,
   "id": "f55398f9",
   "metadata": {},
   "outputs": [],
   "source": [
    "3.3 - Binomial Random Variable\n",
    "This is a specific type of discrete random variable. A binomial random variable counts how often a particular event occurs in a fixed number of tries or trials. For a variable te\n",
    "a binomial random variable, ALL of the following conditions must be met:\n",
    "There are a fixed number of trials (a fixed sample size).\n",
    "On each trial, the event of interest either occurs or does not.\n",
    "The probability of occurrence (or not) is the same on each trial.\n",
    "Trials are independent of one another.\n",
    "Examples of binomial random variables:\n",
    "Number of correct quesses at 30 true-false questions when you randomly quess all answers\n",
    "Number of winning lottery tickets when you buy 10 tickets of the same kind\n",
    "Number of left-handers in a randomly selected sample of 100 unrelated people\n",
    "Notation\n",
    "n= number of trials (samole size)\n",
    "p= probability event of interest occurs on any one trial\n",
    "Example : For the guessing at true questions example above, n = 30 and p = .5 (chance of getting any one question right).\n",
    "Probabilities for binomial random variables\n",
    "The conditions for being a binomial variable lead to a somewhat complicated formula for finding the probability any specific value occurs (such as the probability you get 20\n",
    "right when you quess as 20 True-False questions.)\n",
    "We'll use Minitab to find probabilities for binomial random variables. Don't worry about the \"by hand\" formula. However, for those of vou who are curious, the b hand formu\n",
    "for the probability of getting a specific outcome in a binomial experiment is:\n",
    "P(a)"
   ]
  },
  {
   "cell_type": "code",
   "execution_count": null,
   "id": "8f0540cc",
   "metadata": {},
   "outputs": [],
   "source": []
  },
  {
   "cell_type": "code",
   "execution_count": 1,
   "id": "24e7bacc",
   "metadata": {},
   "outputs": [
    {
     "data": {
      "text/html": [
       "<table>\n",
       "<tbody>\n",
       "\t<tr><td>0</td><td>9</td><td>1</td><td>4</td><td>7</td></tr>\n",
       "\t<tr><td>9</td><td>0</td><td>5</td><td>8</td><td>3</td></tr>\n",
       "\t<tr><td>1</td><td>5</td><td>0</td><td>6</td><td>7</td></tr>\n",
       "\t<tr><td>4</td><td>8</td><td>6</td><td>0</td><td>2</td></tr>\n",
       "\t<tr><td>7</td><td>3</td><td>7</td><td>2</td><td>0</td></tr>\n",
       "</tbody>\n",
       "</table>\n"
      ],
      "text/latex": [
       "\\begin{tabular}{lllll}\n",
       "\t 0 & 9 & 1 & 4 & 7\\\\\n",
       "\t 9 & 0 & 5 & 8 & 3\\\\\n",
       "\t 1 & 5 & 0 & 6 & 7\\\\\n",
       "\t 4 & 8 & 6 & 0 & 2\\\\\n",
       "\t 7 & 3 & 7 & 2 & 0\\\\\n",
       "\\end{tabular}\n"
      ],
      "text/markdown": [
       "\n",
       "| 0 | 9 | 1 | 4 | 7 |\n",
       "| 9 | 0 | 5 | 8 | 3 |\n",
       "| 1 | 5 | 0 | 6 | 7 |\n",
       "| 4 | 8 | 6 | 0 | 2 |\n",
       "| 7 | 3 | 7 | 2 | 0 |\n",
       "\n"
      ],
      "text/plain": [
       "     [,1] [,2] [,3] [,4] [,5]\n",
       "[1,] 0    9    1    4    7   \n",
       "[2,] 9    0    5    8    3   \n",
       "[3,] 1    5    0    6    7   \n",
       "[4,] 4    8    6    0    2   \n",
       "[5,] 7    3    7    2    0   "
      ]
     },
     "metadata": {},
     "output_type": "display_data"
    }
   ],
   "source": [
    "c1 = c(0, 9, 1, 4, 7)\n",
    "c2 = c(9, 0, 5, 8, 3)\n",
    "c3 = c(1, 5, 0, 6, 7)\n",
    "c4 = c(4, 8, 6, 0, 2)\n",
    "c5 = c(7, 3, 7, 2, 0)\n",
    "\n",
    "distance_matrix = array(c(c1, c2, c3, c4, c5), dim = c(5, 5))\n",
    "distance_matrix"
   ]
  },
  {
   "cell_type": "code",
   "execution_count": 2,
   "id": "e1d81676",
   "metadata": {},
   "outputs": [
    {
     "ename": "ERROR",
     "evalue": "Error in if (distance_matrix[r][c] <= min) {: missing value where TRUE/FALSE needed\n",
     "output_type": "error",
     "traceback": [
      "Error in if (distance_matrix[r][c] <= min) {: missing value where TRUE/FALSE needed\nTraceback:\n",
      "1. inter_clus_Min(cl1, cl2)"
     ]
    }
   ],
   "source": [
    "# 1. Suppose we have two clusters {1, 5} and {2, 3, 4}. \n",
    "# What are their inter-cluster distances by using \n",
    "# MIN, MAX, and  GROUP AVERAGE as distance metrics, \n",
    "# respectively? \n",
    "\n",
    "inter_clus_Min = function(cl1, cl2){\n",
    "    min = 100;\n",
    "    for (i in cl1){\n",
    "        for (j in cl2){\n",
    "            r = cl1[i]\n",
    "            c = cl2[j]\n",
    "            if (distance_matrix[r][c] <= min){\n",
    "                min = distance_matrix[r][c]\n",
    "            }\n",
    "        }\n",
    "    }\n",
    "    return(min)\n",
    "}\n",
    "\n",
    "\n",
    "cl1 = c(1, 5)\n",
    "cl2 = c(2, 3, 4)\n",
    "\n",
    "inter_clus_Min(cl1, cl2)"
   ]
  }
 ],
 "metadata": {
  "kernelspec": {
   "display_name": "R",
   "language": "R",
   "name": "ir"
  },
  "language_info": {
   "codemirror_mode": "r",
   "file_extension": ".r",
   "mimetype": "text/x-r-source",
   "name": "R",
   "pygments_lexer": "r",
   "version": "3.6.1"
  }
 },
 "nbformat": 4,
 "nbformat_minor": 5
}
