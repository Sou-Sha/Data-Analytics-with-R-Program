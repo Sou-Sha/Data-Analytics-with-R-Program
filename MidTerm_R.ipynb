{
 "cells": [
  {
   "cell_type": "code",
   "execution_count": 54,
   "id": "eb41230a",
   "metadata": {
    "colab": {
     "base_uri": "https://localhost:8080/"
    },
    "id": "eb41230a",
    "outputId": "c180f488-c939-4518-c6d5-919e5c18e91b"
   },
   "outputs": [
    {
     "name": "stderr",
     "output_type": "stream",
     "text": [
      "Installing package into ‘/usr/local/lib/R/site-library’\n",
      "(as ‘lib’ is unspecified)\n",
      "\n"
     ]
    }
   ],
   "source": [
    "# Q1\n",
    "install.packages('stringr')"
   ]
  },
  {
   "cell_type": "code",
   "execution_count": 55,
   "id": "aDlkzQ36PeH6",
   "metadata": {
    "id": "aDlkzQ36PeH6"
   },
   "outputs": [],
   "source": [
    "library('stringr')"
   ]
  },
  {
   "cell_type": "code",
   "execution_count": 57,
   "id": "jxudz_ADPeKS",
   "metadata": {
    "colab": {
     "base_uri": "https://localhost:8080/",
     "height": 1000
    },
    "id": "jxudz_ADPeKS",
    "outputId": "9783ee7f-09ce-4da7-c570-3e0f176a68d5"
   },
   "outputs": [
    {
     "data": {
      "text/html": [
       "<table class=\"dataframe\">\n",
       "<caption>A data.frame: 66 × 3</caption>\n",
       "<thead>\n",
       "\t<tr><th scope=col>currency_pair_name</th><th scope=col>currency_pair_code</th><th scope=col>history_first_trading_month</th></tr>\n",
       "\t<tr><th scope=col>&lt;chr&gt;</th><th scope=col>&lt;chr&gt;</th><th scope=col>&lt;int&gt;</th></tr>\n",
       "</thead>\n",
       "<tbody>\n",
       "\t<tr><td>EUR/USD</td><td>eurusd</td><td>200005</td></tr>\n",
       "\t<tr><td>EUR/CHF</td><td>eurchf</td><td>200203</td></tr>\n",
       "\t<tr><td>EUR/GBP</td><td>eurgbp</td><td>200203</td></tr>\n",
       "\t<tr><td>EUR/JPY</td><td>eurjpy</td><td>200203</td></tr>\n",
       "\t<tr><td>EUR/AUD</td><td>euraud</td><td>200208</td></tr>\n",
       "\t<tr><td>USD/CAD</td><td>usdcad</td><td>200006</td></tr>\n",
       "\t<tr><td>USD/CHF</td><td>usdchf</td><td>200005</td></tr>\n",
       "\t<tr><td>USD/JPY</td><td>usdjpy</td><td>200005</td></tr>\n",
       "\t<tr><td>USD/MXN</td><td>usdmxn</td><td>201011</td></tr>\n",
       "\t<tr><td>GBP/CHF</td><td>gbpchf</td><td>200208</td></tr>\n",
       "\t<tr><td>GBP/JPY</td><td>gbpjpy</td><td>200205</td></tr>\n",
       "\t<tr><td>GBP/USD</td><td>gbpusd</td><td>200005</td></tr>\n",
       "\t<tr><td>AUD/JPY</td><td>audjpy</td><td>200208</td></tr>\n",
       "\t<tr><td>AUD/USD</td><td>audusd</td><td>200006</td></tr>\n",
       "\t<tr><td>CHF/JPY</td><td>chfjpy</td><td>200208</td></tr>\n",
       "\t<tr><td>NZD/JPY</td><td>nzdjpy</td><td>200609</td></tr>\n",
       "\t<tr><td>NZD/USD</td><td>nzdusd</td><td>200508</td></tr>\n",
       "\t<tr><td>XAU/USD</td><td>xauusd</td><td>200903</td></tr>\n",
       "\t<tr><td>EUR/CAD</td><td>eurcad</td><td>200703</td></tr>\n",
       "\t<tr><td>AUD/CAD</td><td>audcad</td><td>200707</td></tr>\n",
       "\t<tr><td>CAD/JPY</td><td>cadjpy</td><td>200703</td></tr>\n",
       "\t<tr><td>EUR/NZD</td><td>eurnzd</td><td>200803</td></tr>\n",
       "\t<tr><td>GRX/EUR</td><td>grxeur</td><td>201011</td></tr>\n",
       "\t<tr><td>NZD/CAD</td><td>nzdcad</td><td>200803</td></tr>\n",
       "\t<tr><td>SGD/JPY</td><td>sgdjpy</td><td>200808</td></tr>\n",
       "\t<tr><td>USD/HKD</td><td>usdhkd</td><td>200808</td></tr>\n",
       "\t<tr><td>USD/NOK</td><td>usdnok</td><td>200808</td></tr>\n",
       "\t<tr><td>USD/TRY</td><td>usdtry</td><td>201011</td></tr>\n",
       "\t<tr><td>XAU/AUD</td><td>xauaud</td><td>200905</td></tr>\n",
       "\t<tr><td>AUD/CHF</td><td>audchf</td><td>200803</td></tr>\n",
       "\t<tr><td>⋮</td><td>⋮</td><td>⋮</td></tr>\n",
       "\t<tr><td>SPX/USD</td><td>spxusd</td><td>201011</td></tr>\n",
       "\t<tr><td>USD/HUF</td><td>usdhuf</td><td>201011</td></tr>\n",
       "\t<tr><td>USD/PLN</td><td>usdpln</td><td>201011</td></tr>\n",
       "\t<tr><td>USD/ZAR</td><td>usdzar</td><td>201011</td></tr>\n",
       "\t<tr><td>XAU/CHF</td><td>xauchf</td><td>200905</td></tr>\n",
       "\t<tr><td>ZAR/JPY</td><td>zarjpy</td><td>201011</td></tr>\n",
       "\t<tr><td>BCO/USD</td><td>bcousd</td><td>201011</td></tr>\n",
       "\t<tr><td>ETX/EUR</td><td>etxeur</td><td>201011</td></tr>\n",
       "\t<tr><td>EUR/CZK</td><td>eurczk</td><td>201011</td></tr>\n",
       "\t<tr><td>EUR/SEK</td><td>eursek</td><td>200808</td></tr>\n",
       "\t<tr><td>GBP/AUD</td><td>gbpaud</td><td>200709</td></tr>\n",
       "\t<tr><td>GBP/NZD</td><td>gbpnzd</td><td>200803</td></tr>\n",
       "\t<tr><td>JPX/JPY</td><td>jpxjpy</td><td>201011</td></tr>\n",
       "\t<tr><td>UDX/USD</td><td>udxusd</td><td>201011</td></tr>\n",
       "\t<tr><td>USD/CZK</td><td>usdczk</td><td>201008</td></tr>\n",
       "\t<tr><td>USD/SEK</td><td>usdsek</td><td>200808</td></tr>\n",
       "\t<tr><td>WTI/USD</td><td>wtiusd</td><td>201011</td></tr>\n",
       "\t<tr><td>XAU/EUR</td><td>xaueur</td><td>200905</td></tr>\n",
       "\t<tr><td>AUD/NZD</td><td>audnzd</td><td>200709</td></tr>\n",
       "\t<tr><td>CAD/CHF</td><td>cadchf</td><td>200803</td></tr>\n",
       "\t<tr><td>EUR/DKK</td><td>eurdkk</td><td>200808</td></tr>\n",
       "\t<tr><td>EUR/NOK</td><td>eurnok</td><td>200808</td></tr>\n",
       "\t<tr><td>EUR/TRY</td><td>eurtry</td><td>201011</td></tr>\n",
       "\t<tr><td>GBP/CAD</td><td>gbpcad</td><td>200709</td></tr>\n",
       "\t<tr><td>NSX/USD</td><td>nsxusd</td><td>201011</td></tr>\n",
       "\t<tr><td>UKX/GBP</td><td>ukxgbp</td><td>201011</td></tr>\n",
       "\t<tr><td>USD/DKK</td><td>usddkk</td><td>200808</td></tr>\n",
       "\t<tr><td>USD/SGD</td><td>usdsgd</td><td>200808</td></tr>\n",
       "\t<tr><td>XAG/USD</td><td>xagusd</td><td>200905</td></tr>\n",
       "\t<tr><td>XAU/GBP</td><td>xaugbp</td><td>200905</td></tr>\n",
       "</tbody>\n",
       "</table>\n"
      ],
      "text/latex": [
       "A data.frame: 66 × 3\n",
       "\\begin{tabular}{lll}\n",
       " currency\\_pair\\_name & currency\\_pair\\_code & history\\_first\\_trading\\_month\\\\\n",
       " <chr> & <chr> & <int>\\\\\n",
       "\\hline\n",
       "\t EUR/USD & eurusd & 200005\\\\\n",
       "\t EUR/CHF & eurchf & 200203\\\\\n",
       "\t EUR/GBP & eurgbp & 200203\\\\\n",
       "\t EUR/JPY & eurjpy & 200203\\\\\n",
       "\t EUR/AUD & euraud & 200208\\\\\n",
       "\t USD/CAD & usdcad & 200006\\\\\n",
       "\t USD/CHF & usdchf & 200005\\\\\n",
       "\t USD/JPY & usdjpy & 200005\\\\\n",
       "\t USD/MXN & usdmxn & 201011\\\\\n",
       "\t GBP/CHF & gbpchf & 200208\\\\\n",
       "\t GBP/JPY & gbpjpy & 200205\\\\\n",
       "\t GBP/USD & gbpusd & 200005\\\\\n",
       "\t AUD/JPY & audjpy & 200208\\\\\n",
       "\t AUD/USD & audusd & 200006\\\\\n",
       "\t CHF/JPY & chfjpy & 200208\\\\\n",
       "\t NZD/JPY & nzdjpy & 200609\\\\\n",
       "\t NZD/USD & nzdusd & 200508\\\\\n",
       "\t XAU/USD & xauusd & 200903\\\\\n",
       "\t EUR/CAD & eurcad & 200703\\\\\n",
       "\t AUD/CAD & audcad & 200707\\\\\n",
       "\t CAD/JPY & cadjpy & 200703\\\\\n",
       "\t EUR/NZD & eurnzd & 200803\\\\\n",
       "\t GRX/EUR & grxeur & 201011\\\\\n",
       "\t NZD/CAD & nzdcad & 200803\\\\\n",
       "\t SGD/JPY & sgdjpy & 200808\\\\\n",
       "\t USD/HKD & usdhkd & 200808\\\\\n",
       "\t USD/NOK & usdnok & 200808\\\\\n",
       "\t USD/TRY & usdtry & 201011\\\\\n",
       "\t XAU/AUD & xauaud & 200905\\\\\n",
       "\t AUD/CHF & audchf & 200803\\\\\n",
       "\t ⋮ & ⋮ & ⋮\\\\\n",
       "\t SPX/USD & spxusd & 201011\\\\\n",
       "\t USD/HUF & usdhuf & 201011\\\\\n",
       "\t USD/PLN & usdpln & 201011\\\\\n",
       "\t USD/ZAR & usdzar & 201011\\\\\n",
       "\t XAU/CHF & xauchf & 200905\\\\\n",
       "\t ZAR/JPY & zarjpy & 201011\\\\\n",
       "\t BCO/USD & bcousd & 201011\\\\\n",
       "\t ETX/EUR & etxeur & 201011\\\\\n",
       "\t EUR/CZK & eurczk & 201011\\\\\n",
       "\t EUR/SEK & eursek & 200808\\\\\n",
       "\t GBP/AUD & gbpaud & 200709\\\\\n",
       "\t GBP/NZD & gbpnzd & 200803\\\\\n",
       "\t JPX/JPY & jpxjpy & 201011\\\\\n",
       "\t UDX/USD & udxusd & 201011\\\\\n",
       "\t USD/CZK & usdczk & 201008\\\\\n",
       "\t USD/SEK & usdsek & 200808\\\\\n",
       "\t WTI/USD & wtiusd & 201011\\\\\n",
       "\t XAU/EUR & xaueur & 200905\\\\\n",
       "\t AUD/NZD & audnzd & 200709\\\\\n",
       "\t CAD/CHF & cadchf & 200803\\\\\n",
       "\t EUR/DKK & eurdkk & 200808\\\\\n",
       "\t EUR/NOK & eurnok & 200808\\\\\n",
       "\t EUR/TRY & eurtry & 201011\\\\\n",
       "\t GBP/CAD & gbpcad & 200709\\\\\n",
       "\t NSX/USD & nsxusd & 201011\\\\\n",
       "\t UKX/GBP & ukxgbp & 201011\\\\\n",
       "\t USD/DKK & usddkk & 200808\\\\\n",
       "\t USD/SGD & usdsgd & 200808\\\\\n",
       "\t XAG/USD & xagusd & 200905\\\\\n",
       "\t XAU/GBP & xaugbp & 200905\\\\\n",
       "\\end{tabular}\n"
      ],
      "text/markdown": [
       "\n",
       "A data.frame: 66 × 3\n",
       "\n",
       "| currency_pair_name &lt;chr&gt; | currency_pair_code &lt;chr&gt; | history_first_trading_month &lt;int&gt; |\n",
       "|---|---|---|\n",
       "| EUR/USD | eurusd | 200005 |\n",
       "| EUR/CHF | eurchf | 200203 |\n",
       "| EUR/GBP | eurgbp | 200203 |\n",
       "| EUR/JPY | eurjpy | 200203 |\n",
       "| EUR/AUD | euraud | 200208 |\n",
       "| USD/CAD | usdcad | 200006 |\n",
       "| USD/CHF | usdchf | 200005 |\n",
       "| USD/JPY | usdjpy | 200005 |\n",
       "| USD/MXN | usdmxn | 201011 |\n",
       "| GBP/CHF | gbpchf | 200208 |\n",
       "| GBP/JPY | gbpjpy | 200205 |\n",
       "| GBP/USD | gbpusd | 200005 |\n",
       "| AUD/JPY | audjpy | 200208 |\n",
       "| AUD/USD | audusd | 200006 |\n",
       "| CHF/JPY | chfjpy | 200208 |\n",
       "| NZD/JPY | nzdjpy | 200609 |\n",
       "| NZD/USD | nzdusd | 200508 |\n",
       "| XAU/USD | xauusd | 200903 |\n",
       "| EUR/CAD | eurcad | 200703 |\n",
       "| AUD/CAD | audcad | 200707 |\n",
       "| CAD/JPY | cadjpy | 200703 |\n",
       "| EUR/NZD | eurnzd | 200803 |\n",
       "| GRX/EUR | grxeur | 201011 |\n",
       "| NZD/CAD | nzdcad | 200803 |\n",
       "| SGD/JPY | sgdjpy | 200808 |\n",
       "| USD/HKD | usdhkd | 200808 |\n",
       "| USD/NOK | usdnok | 200808 |\n",
       "| USD/TRY | usdtry | 201011 |\n",
       "| XAU/AUD | xauaud | 200905 |\n",
       "| AUD/CHF | audchf | 200803 |\n",
       "| ⋮ | ⋮ | ⋮ |\n",
       "| SPX/USD | spxusd | 201011 |\n",
       "| USD/HUF | usdhuf | 201011 |\n",
       "| USD/PLN | usdpln | 201011 |\n",
       "| USD/ZAR | usdzar | 201011 |\n",
       "| XAU/CHF | xauchf | 200905 |\n",
       "| ZAR/JPY | zarjpy | 201011 |\n",
       "| BCO/USD | bcousd | 201011 |\n",
       "| ETX/EUR | etxeur | 201011 |\n",
       "| EUR/CZK | eurczk | 201011 |\n",
       "| EUR/SEK | eursek | 200808 |\n",
       "| GBP/AUD | gbpaud | 200709 |\n",
       "| GBP/NZD | gbpnzd | 200803 |\n",
       "| JPX/JPY | jpxjpy | 201011 |\n",
       "| UDX/USD | udxusd | 201011 |\n",
       "| USD/CZK | usdczk | 201008 |\n",
       "| USD/SEK | usdsek | 200808 |\n",
       "| WTI/USD | wtiusd | 201011 |\n",
       "| XAU/EUR | xaueur | 200905 |\n",
       "| AUD/NZD | audnzd | 200709 |\n",
       "| CAD/CHF | cadchf | 200803 |\n",
       "| EUR/DKK | eurdkk | 200808 |\n",
       "| EUR/NOK | eurnok | 200808 |\n",
       "| EUR/TRY | eurtry | 201011 |\n",
       "| GBP/CAD | gbpcad | 200709 |\n",
       "| NSX/USD | nsxusd | 201011 |\n",
       "| UKX/GBP | ukxgbp | 201011 |\n",
       "| USD/DKK | usddkk | 200808 |\n",
       "| USD/SGD | usdsgd | 200808 |\n",
       "| XAG/USD | xagusd | 200905 |\n",
       "| XAU/GBP | xaugbp | 200905 |\n",
       "\n"
      ],
      "text/plain": [
       "   currency_pair_name currency_pair_code history_first_trading_month\n",
       "1  EUR/USD            eurusd             200005                     \n",
       "2  EUR/CHF            eurchf             200203                     \n",
       "3  EUR/GBP            eurgbp             200203                     \n",
       "4  EUR/JPY            eurjpy             200203                     \n",
       "5  EUR/AUD            euraud             200208                     \n",
       "6  USD/CAD            usdcad             200006                     \n",
       "7  USD/CHF            usdchf             200005                     \n",
       "8  USD/JPY            usdjpy             200005                     \n",
       "9  USD/MXN            usdmxn             201011                     \n",
       "10 GBP/CHF            gbpchf             200208                     \n",
       "11 GBP/JPY            gbpjpy             200205                     \n",
       "12 GBP/USD            gbpusd             200005                     \n",
       "13 AUD/JPY            audjpy             200208                     \n",
       "14 AUD/USD            audusd             200006                     \n",
       "15 CHF/JPY            chfjpy             200208                     \n",
       "16 NZD/JPY            nzdjpy             200609                     \n",
       "17 NZD/USD            nzdusd             200508                     \n",
       "18 XAU/USD            xauusd             200903                     \n",
       "19 EUR/CAD            eurcad             200703                     \n",
       "20 AUD/CAD            audcad             200707                     \n",
       "21 CAD/JPY            cadjpy             200703                     \n",
       "22 EUR/NZD            eurnzd             200803                     \n",
       "23 GRX/EUR            grxeur             201011                     \n",
       "24 NZD/CAD            nzdcad             200803                     \n",
       "25 SGD/JPY            sgdjpy             200808                     \n",
       "26 USD/HKD            usdhkd             200808                     \n",
       "27 USD/NOK            usdnok             200808                     \n",
       "28 USD/TRY            usdtry             201011                     \n",
       "29 XAU/AUD            xauaud             200905                     \n",
       "30 AUD/CHF            audchf             200803                     \n",
       "⋮  ⋮                  ⋮                  ⋮                          \n",
       "37 SPX/USD            spxusd             201011                     \n",
       "38 USD/HUF            usdhuf             201011                     \n",
       "39 USD/PLN            usdpln             201011                     \n",
       "40 USD/ZAR            usdzar             201011                     \n",
       "41 XAU/CHF            xauchf             200905                     \n",
       "42 ZAR/JPY            zarjpy             201011                     \n",
       "43 BCO/USD            bcousd             201011                     \n",
       "44 ETX/EUR            etxeur             201011                     \n",
       "45 EUR/CZK            eurczk             201011                     \n",
       "46 EUR/SEK            eursek             200808                     \n",
       "47 GBP/AUD            gbpaud             200709                     \n",
       "48 GBP/NZD            gbpnzd             200803                     \n",
       "49 JPX/JPY            jpxjpy             201011                     \n",
       "50 UDX/USD            udxusd             201011                     \n",
       "51 USD/CZK            usdczk             201008                     \n",
       "52 USD/SEK            usdsek             200808                     \n",
       "53 WTI/USD            wtiusd             201011                     \n",
       "54 XAU/EUR            xaueur             200905                     \n",
       "55 AUD/NZD            audnzd             200709                     \n",
       "56 CAD/CHF            cadchf             200803                     \n",
       "57 EUR/DKK            eurdkk             200808                     \n",
       "58 EUR/NOK            eurnok             200808                     \n",
       "59 EUR/TRY            eurtry             201011                     \n",
       "60 GBP/CAD            gbpcad             200709                     \n",
       "61 NSX/USD            nsxusd             201011                     \n",
       "62 UKX/GBP            ukxgbp             201011                     \n",
       "63 USD/DKK            usddkk             200808                     \n",
       "64 USD/SGD            usdsgd             200808                     \n",
       "65 XAG/USD            xagusd             200905                     \n",
       "66 XAU/GBP            xaugbp             200905                     "
      ]
     },
     "metadata": {},
     "output_type": "display_data"
    }
   ],
   "source": [
    "# Q2\n",
    "\n",
    "pairs = read.csv(url(\"https://raw.githubusercontent.com/philipperemy/FX-1-Minute-Data/master/pairs.csv\"))\n",
    "\n",
    "#or \n",
    "\n",
    "#pairs<-read.csv(\"/Users/soumyasharma/Desktop/pairs.csv\")\n",
    "pairs"
   ]
  },
  {
   "cell_type": "code",
   "execution_count": 58,
   "id": "UoS8uUWUXUcr",
   "metadata": {
    "id": "UoS8uUWUXUcr"
   },
   "outputs": [],
   "source": [
    "library('dplyr')"
   ]
  },
  {
   "cell_type": "code",
   "execution_count": 63,
   "id": "0WrnEhdyPeMp",
   "metadata": {
    "colab": {
     "base_uri": "https://localhost:8080/",
     "height": 34
    },
    "id": "0WrnEhdyPeMp",
    "outputId": "d2967124-0f0f-45a3-cc57-05e7edc39562"
   },
   "outputs": [
    {
     "data": {
      "text/html": [
       "'EUR'"
      ],
      "text/latex": [
       "'EUR'"
      ],
      "text/markdown": [
       "'EUR'"
      ],
      "text/plain": [
       "[1] \"EUR\""
      ]
     },
     "metadata": {},
     "output_type": "display_data"
    }
   ],
   "source": [
    "#3\n",
    "curr_split = function(df){ \n",
    "  name = df[[1]] \n",
    "  str = str_split(name, \"/\") \n",
    "  curr = str[[1]]\n",
    "  return(curr)\n",
    "}\n",
    "\n",
    "currency_pair_name = pairs[1]\n",
    "curr_split(currency_pair_name)[1]"
   ]
  },
  {
   "cell_type": "code",
   "execution_count": 76,
   "id": "wxxIYivMXUfC",
   "metadata": {
    "colab": {
     "base_uri": "https://localhost:8080/",
     "height": 86
    },
    "id": "wxxIYivMXUfC",
    "outputId": "fee1c041-1c4f-43ff-9e6f-78b3669c97cd"
   },
   "outputs": [
    {
     "data": {
      "text/html": [
       "<style>\n",
       ".list-inline {list-style: none; margin:0; padding: 0}\n",
       ".list-inline>li {display: inline-block}\n",
       ".list-inline>li:not(:last-child)::after {content: \"\\00b7\"; padding: 0 .5ex}\n",
       "</style>\n",
       "<ol class=list-inline><li>'EUR'</li><li>'EUR'</li><li>'EUR'</li><li>'EUR'</li><li>'EUR'</li><li>'USD'</li><li>'USD'</li><li>'USD'</li><li>'USD'</li><li>'GBP'</li><li>'GBP'</li><li>'GBP'</li><li>'AUD'</li><li>'AUD'</li><li>'CHF'</li><li>'NZD'</li><li>'NZD'</li><li>'XAU'</li><li>'EUR'</li><li>'AUD'</li><li>'CAD'</li><li>'EUR'</li><li>'GRX'</li><li>'NZD'</li><li>'SGD'</li><li>'USD'</li><li>'USD'</li><li>'USD'</li><li>'XAU'</li><li>'AUD'</li><li>'AUX'</li><li>'EUR'</li><li>'EUR'</li><li>'FRX'</li><li>'HKX'</li><li>'NZD'</li><li>'SPX'</li><li>'USD'</li><li>'USD'</li><li>'USD'</li><li>'XAU'</li><li>'ZAR'</li><li>'BCO'</li><li>'ETX'</li><li>'EUR'</li><li>'EUR'</li><li>'GBP'</li><li>'GBP'</li><li>'JPX'</li><li>'UDX'</li><li>'USD'</li><li>'USD'</li><li>'WTI'</li><li>'XAU'</li><li>'AUD'</li><li>'CAD'</li><li>'EUR'</li><li>'EUR'</li><li>'EUR'</li><li>'GBP'</li><li>'NSX'</li><li>'UKX'</li><li>'USD'</li><li>'USD'</li><li>'XAG'</li><li>'XAU'</li></ol>\n"
      ],
      "text/latex": [
       "\\begin{enumerate*}\n",
       "\\item 'EUR'\n",
       "\\item 'EUR'\n",
       "\\item 'EUR'\n",
       "\\item 'EUR'\n",
       "\\item 'EUR'\n",
       "\\item 'USD'\n",
       "\\item 'USD'\n",
       "\\item 'USD'\n",
       "\\item 'USD'\n",
       "\\item 'GBP'\n",
       "\\item 'GBP'\n",
       "\\item 'GBP'\n",
       "\\item 'AUD'\n",
       "\\item 'AUD'\n",
       "\\item 'CHF'\n",
       "\\item 'NZD'\n",
       "\\item 'NZD'\n",
       "\\item 'XAU'\n",
       "\\item 'EUR'\n",
       "\\item 'AUD'\n",
       "\\item 'CAD'\n",
       "\\item 'EUR'\n",
       "\\item 'GRX'\n",
       "\\item 'NZD'\n",
       "\\item 'SGD'\n",
       "\\item 'USD'\n",
       "\\item 'USD'\n",
       "\\item 'USD'\n",
       "\\item 'XAU'\n",
       "\\item 'AUD'\n",
       "\\item 'AUX'\n",
       "\\item 'EUR'\n",
       "\\item 'EUR'\n",
       "\\item 'FRX'\n",
       "\\item 'HKX'\n",
       "\\item 'NZD'\n",
       "\\item 'SPX'\n",
       "\\item 'USD'\n",
       "\\item 'USD'\n",
       "\\item 'USD'\n",
       "\\item 'XAU'\n",
       "\\item 'ZAR'\n",
       "\\item 'BCO'\n",
       "\\item 'ETX'\n",
       "\\item 'EUR'\n",
       "\\item 'EUR'\n",
       "\\item 'GBP'\n",
       "\\item 'GBP'\n",
       "\\item 'JPX'\n",
       "\\item 'UDX'\n",
       "\\item 'USD'\n",
       "\\item 'USD'\n",
       "\\item 'WTI'\n",
       "\\item 'XAU'\n",
       "\\item 'AUD'\n",
       "\\item 'CAD'\n",
       "\\item 'EUR'\n",
       "\\item 'EUR'\n",
       "\\item 'EUR'\n",
       "\\item 'GBP'\n",
       "\\item 'NSX'\n",
       "\\item 'UKX'\n",
       "\\item 'USD'\n",
       "\\item 'USD'\n",
       "\\item 'XAG'\n",
       "\\item 'XAU'\n",
       "\\end{enumerate*}\n"
      ],
      "text/markdown": [
       "1. 'EUR'\n",
       "2. 'EUR'\n",
       "3. 'EUR'\n",
       "4. 'EUR'\n",
       "5. 'EUR'\n",
       "6. 'USD'\n",
       "7. 'USD'\n",
       "8. 'USD'\n",
       "9. 'USD'\n",
       "10. 'GBP'\n",
       "11. 'GBP'\n",
       "12. 'GBP'\n",
       "13. 'AUD'\n",
       "14. 'AUD'\n",
       "15. 'CHF'\n",
       "16. 'NZD'\n",
       "17. 'NZD'\n",
       "18. 'XAU'\n",
       "19. 'EUR'\n",
       "20. 'AUD'\n",
       "21. 'CAD'\n",
       "22. 'EUR'\n",
       "23. 'GRX'\n",
       "24. 'NZD'\n",
       "25. 'SGD'\n",
       "26. 'USD'\n",
       "27. 'USD'\n",
       "28. 'USD'\n",
       "29. 'XAU'\n",
       "30. 'AUD'\n",
       "31. 'AUX'\n",
       "32. 'EUR'\n",
       "33. 'EUR'\n",
       "34. 'FRX'\n",
       "35. 'HKX'\n",
       "36. 'NZD'\n",
       "37. 'SPX'\n",
       "38. 'USD'\n",
       "39. 'USD'\n",
       "40. 'USD'\n",
       "41. 'XAU'\n",
       "42. 'ZAR'\n",
       "43. 'BCO'\n",
       "44. 'ETX'\n",
       "45. 'EUR'\n",
       "46. 'EUR'\n",
       "47. 'GBP'\n",
       "48. 'GBP'\n",
       "49. 'JPX'\n",
       "50. 'UDX'\n",
       "51. 'USD'\n",
       "52. 'USD'\n",
       "53. 'WTI'\n",
       "54. 'XAU'\n",
       "55. 'AUD'\n",
       "56. 'CAD'\n",
       "57. 'EUR'\n",
       "58. 'EUR'\n",
       "59. 'EUR'\n",
       "60. 'GBP'\n",
       "61. 'NSX'\n",
       "62. 'UKX'\n",
       "63. 'USD'\n",
       "64. 'USD'\n",
       "65. 'XAG'\n",
       "66. 'XAU'\n",
       "\n",
       "\n"
      ],
      "text/plain": [
       " [1] \"EUR\" \"EUR\" \"EUR\" \"EUR\" \"EUR\" \"USD\" \"USD\" \"USD\" \"USD\" \"GBP\" \"GBP\" \"GBP\"\n",
       "[13] \"AUD\" \"AUD\" \"CHF\" \"NZD\" \"NZD\" \"XAU\" \"EUR\" \"AUD\" \"CAD\" \"EUR\" \"GRX\" \"NZD\"\n",
       "[25] \"SGD\" \"USD\" \"USD\" \"USD\" \"XAU\" \"AUD\" \"AUX\" \"EUR\" \"EUR\" \"FRX\" \"HKX\" \"NZD\"\n",
       "[37] \"SPX\" \"USD\" \"USD\" \"USD\" \"XAU\" \"ZAR\" \"BCO\" \"ETX\" \"EUR\" \"EUR\" \"GBP\" \"GBP\"\n",
       "[49] \"JPX\" \"UDX\" \"USD\" \"USD\" \"WTI\" \"XAU\" \"AUD\" \"CAD\" \"EUR\" \"EUR\" \"EUR\" \"GBP\"\n",
       "[61] \"NSX\" \"UKX\" \"USD\" \"USD\" \"XAG\" \"XAU\""
      ]
     },
     "metadata": {},
     "output_type": "display_data"
    }
   ],
   "source": [
    "# 4\n",
    "curr = apply(currency_pair_name, 1, split_cur)\n",
    "foreign_ccy = curr[1,]\n",
    "foreign_ccy"
   ]
  },
  {
   "cell_type": "code",
   "execution_count": 77,
   "id": "2wd4kEL9XUhY",
   "metadata": {
    "colab": {
     "base_uri": "https://localhost:8080/",
     "height": 286
    },
    "id": "2wd4kEL9XUhY",
    "outputId": "08af9cd7-0520-487b-93fa-f5abc645be50"
   },
   "outputs": [
    {
     "data": {
      "text/html": [
       "<table class=\"dataframe\">\n",
       "<caption>A data.frame: 6 × 5</caption>\n",
       "<thead>\n",
       "\t<tr><th></th><th scope=col>currency_pair_name</th><th scope=col>currency_pair_code</th><th scope=col>history_first_trading_month</th><th scope=col>foreign_ccy</th><th scope=col>domestic_ccy</th></tr>\n",
       "\t<tr><th></th><th scope=col>&lt;chr&gt;</th><th scope=col>&lt;chr&gt;</th><th scope=col>&lt;int&gt;</th><th scope=col>&lt;chr&gt;</th><th scope=col>&lt;chr&gt;</th></tr>\n",
       "</thead>\n",
       "<tbody>\n",
       "\t<tr><th scope=row>1</th><td>EUR/USD</td><td>eurusd</td><td>200005</td><td>EUR</td><td>USD</td></tr>\n",
       "\t<tr><th scope=row>2</th><td>EUR/CHF</td><td>eurchf</td><td>200203</td><td>EUR</td><td>CHF</td></tr>\n",
       "\t<tr><th scope=row>3</th><td>EUR/GBP</td><td>eurgbp</td><td>200203</td><td>EUR</td><td>GBP</td></tr>\n",
       "\t<tr><th scope=row>4</th><td>EUR/JPY</td><td>eurjpy</td><td>200203</td><td>EUR</td><td>JPY</td></tr>\n",
       "\t<tr><th scope=row>5</th><td>EUR/AUD</td><td>euraud</td><td>200208</td><td>EUR</td><td>AUD</td></tr>\n",
       "\t<tr><th scope=row>6</th><td>USD/CAD</td><td>usdcad</td><td>200006</td><td>USD</td><td>CAD</td></tr>\n",
       "</tbody>\n",
       "</table>\n"
      ],
      "text/latex": [
       "A data.frame: 6 × 5\n",
       "\\begin{tabular}{r|lllll}\n",
       "  & currency\\_pair\\_name & currency\\_pair\\_code & history\\_first\\_trading\\_month & foreign\\_ccy & domestic\\_ccy\\\\\n",
       "  & <chr> & <chr> & <int> & <chr> & <chr>\\\\\n",
       "\\hline\n",
       "\t1 & EUR/USD & eurusd & 200005 & EUR & USD\\\\\n",
       "\t2 & EUR/CHF & eurchf & 200203 & EUR & CHF\\\\\n",
       "\t3 & EUR/GBP & eurgbp & 200203 & EUR & GBP\\\\\n",
       "\t4 & EUR/JPY & eurjpy & 200203 & EUR & JPY\\\\\n",
       "\t5 & EUR/AUD & euraud & 200208 & EUR & AUD\\\\\n",
       "\t6 & USD/CAD & usdcad & 200006 & USD & CAD\\\\\n",
       "\\end{tabular}\n"
      ],
      "text/markdown": [
       "\n",
       "A data.frame: 6 × 5\n",
       "\n",
       "| <!--/--> | currency_pair_name &lt;chr&gt; | currency_pair_code &lt;chr&gt; | history_first_trading_month &lt;int&gt; | foreign_ccy &lt;chr&gt; | domestic_ccy &lt;chr&gt; |\n",
       "|---|---|---|---|---|---|\n",
       "| 1 | EUR/USD | eurusd | 200005 | EUR | USD |\n",
       "| 2 | EUR/CHF | eurchf | 200203 | EUR | CHF |\n",
       "| 3 | EUR/GBP | eurgbp | 200203 | EUR | GBP |\n",
       "| 4 | EUR/JPY | eurjpy | 200203 | EUR | JPY |\n",
       "| 5 | EUR/AUD | euraud | 200208 | EUR | AUD |\n",
       "| 6 | USD/CAD | usdcad | 200006 | USD | CAD |\n",
       "\n"
      ],
      "text/plain": [
       "  currency_pair_name currency_pair_code history_first_trading_month foreign_ccy\n",
       "1 EUR/USD            eurusd             200005                      EUR        \n",
       "2 EUR/CHF            eurchf             200203                      EUR        \n",
       "3 EUR/GBP            eurgbp             200203                      EUR        \n",
       "4 EUR/JPY            eurjpy             200203                      EUR        \n",
       "5 EUR/AUD            euraud             200208                      EUR        \n",
       "6 USD/CAD            usdcad             200006                      USD        \n",
       "  domestic_ccy\n",
       "1 USD         \n",
       "2 CHF         \n",
       "3 GBP         \n",
       "4 JPY         \n",
       "5 AUD         \n",
       "6 CAD         "
      ]
     },
     "metadata": {},
     "output_type": "display_data"
    }
   ],
   "source": [
    "# 5\n",
    "pairs$foreign_ccy = fc\n",
    "pairs$domestic_ccy = dc\n",
    "head(pairs)"
   ]
  },
  {
   "cell_type": "code",
   "execution_count": 78,
   "id": "J3lQ9LBNPePf",
   "metadata": {
    "colab": {
     "base_uri": "https://localhost:8080/",
     "height": 286
    },
    "id": "J3lQ9LBNPePf",
    "outputId": "4ea5a9e2-e500-4083-d240-9c874cf4567d"
   },
   "outputs": [
    {
     "data": {
      "text/html": [
       "<table class=\"dataframe\">\n",
       "<caption>A data.frame: 6 × 2</caption>\n",
       "<thead>\n",
       "\t<tr><th></th><th scope=col>foreign_ccy</th><th scope=col>domestic_ccy</th></tr>\n",
       "\t<tr><th></th><th scope=col>&lt;chr&gt;</th><th scope=col>&lt;chr&gt;</th></tr>\n",
       "</thead>\n",
       "<tbody>\n",
       "\t<tr><th scope=row>1</th><td>EUR</td><td>USD</td></tr>\n",
       "\t<tr><th scope=row>2</th><td>GBP</td><td>USD</td></tr>\n",
       "\t<tr><th scope=row>3</th><td>AUD</td><td>USD</td></tr>\n",
       "\t<tr><th scope=row>4</th><td>NZD</td><td>USD</td></tr>\n",
       "\t<tr><th scope=row>5</th><td>XAU</td><td>USD</td></tr>\n",
       "\t<tr><th scope=row>6</th><td>SPX</td><td>USD</td></tr>\n",
       "</tbody>\n",
       "</table>\n"
      ],
      "text/latex": [
       "A data.frame: 6 × 2\n",
       "\\begin{tabular}{r|ll}\n",
       "  & foreign\\_ccy & domestic\\_ccy\\\\\n",
       "  & <chr> & <chr>\\\\\n",
       "\\hline\n",
       "\t1 & EUR & USD\\\\\n",
       "\t2 & GBP & USD\\\\\n",
       "\t3 & AUD & USD\\\\\n",
       "\t4 & NZD & USD\\\\\n",
       "\t5 & XAU & USD\\\\\n",
       "\t6 & SPX & USD\\\\\n",
       "\\end{tabular}\n"
      ],
      "text/markdown": [
       "\n",
       "A data.frame: 6 × 2\n",
       "\n",
       "| <!--/--> | foreign_ccy &lt;chr&gt; | domestic_ccy &lt;chr&gt; |\n",
       "|---|---|---|\n",
       "| 1 | EUR | USD |\n",
       "| 2 | GBP | USD |\n",
       "| 3 | AUD | USD |\n",
       "| 4 | NZD | USD |\n",
       "| 5 | XAU | USD |\n",
       "| 6 | SPX | USD |\n",
       "\n"
      ],
      "text/plain": [
       "  foreign_ccy domestic_ccy\n",
       "1 EUR         USD         \n",
       "2 GBP         USD         \n",
       "3 AUD         USD         \n",
       "4 NZD         USD         \n",
       "5 XAU         USD         \n",
       "6 SPX         USD         "
      ]
     },
     "metadata": {},
     "output_type": "display_data"
    }
   ],
   "source": [
    "pairs_usd = filter(select(pairs, foreign_ccy, domestic_ccy), domestic_ccy == \"USD\")\n",
    "head(pairs_usd)"
   ]
  },
  {
   "cell_type": "code",
   "execution_count": 83,
   "id": "91AKnxqWabeH",
   "metadata": {
    "colab": {
     "base_uri": "https://localhost:8080/",
     "height": 286
    },
    "id": "91AKnxqWabeH",
    "outputId": "3bab059c-edf0-43bf-c5de-c0d358f0eca2"
   },
   "outputs": [
    {
     "data": {
      "text/html": [
       "<table class=\"dataframe\">\n",
       "<caption>A tibble: 6 × 2</caption>\n",
       "<thead>\n",
       "\t<tr><th scope=col>domestic_ccy</th><th scope=col>n</th></tr>\n",
       "\t<tr><th scope=col>&lt;chr&gt;</th><th scope=col>&lt;int&gt;</th></tr>\n",
       "</thead>\n",
       "<tbody>\n",
       "\t<tr><td>AUD</td><td>4</td></tr>\n",
       "\t<tr><td>CAD</td><td>5</td></tr>\n",
       "\t<tr><td>CHF</td><td>7</td></tr>\n",
       "\t<tr><td>CZK</td><td>2</td></tr>\n",
       "\t<tr><td>DKK</td><td>2</td></tr>\n",
       "\t<tr><td>EUR</td><td>4</td></tr>\n",
       "</tbody>\n",
       "</table>\n"
      ],
      "text/latex": [
       "A tibble: 6 × 2\n",
       "\\begin{tabular}{ll}\n",
       " domestic\\_ccy & n\\\\\n",
       " <chr> & <int>\\\\\n",
       "\\hline\n",
       "\t AUD & 4\\\\\n",
       "\t CAD & 5\\\\\n",
       "\t CHF & 7\\\\\n",
       "\t CZK & 2\\\\\n",
       "\t DKK & 2\\\\\n",
       "\t EUR & 4\\\\\n",
       "\\end{tabular}\n"
      ],
      "text/markdown": [
       "\n",
       "A tibble: 6 × 2\n",
       "\n",
       "| domestic_ccy &lt;chr&gt; | n &lt;int&gt; |\n",
       "|---|---|\n",
       "| AUD | 4 |\n",
       "| CAD | 5 |\n",
       "| CHF | 7 |\n",
       "| CZK | 2 |\n",
       "| DKK | 2 |\n",
       "| EUR | 4 |\n",
       "\n"
      ],
      "text/plain": [
       "  domestic_ccy n\n",
       "1 AUD          4\n",
       "2 CAD          5\n",
       "3 CHF          7\n",
       "4 CZK          2\n",
       "5 DKK          2\n",
       "6 EUR          4"
      ]
     },
     "metadata": {},
     "output_type": "display_data"
    }
   ],
   "source": [
    "#7\n",
    "domestic_count = select(pairs, domestic_ccy)\n",
    "domestic_count = domestic_count %>% group_by(domestic_ccy) %>% summarize(count=n())\n",
    "domestic_count = rename(domestic_count, n = count)\n",
    "\n",
    "head(domestic_count)"
   ]
  },
  {
   "cell_type": "code",
   "execution_count": 85,
   "id": "nXeBhBjoab1w",
   "metadata": {
    "colab": {
     "base_uri": "https://localhost:8080/",
     "height": 437
    },
    "id": "nXeBhBjoab1w",
    "outputId": "0d7d6ce3-b196-4a54-bd24-eaf37bd38ebd"
   },
   "outputs": [
    {
     "data": {
      "image/png": "[encoded data removed]",
      "text/plain": [
       "plot without title"
      ]
     },
     "metadata": {
      "image/png": {
       "height": 420,
       "width": 420
      }
     },
     "output_type": "display_data"
    }
   ],
   "source": [
    "#8\n",
    "library(tidyverse)\n",
    "ggplot(domestic_count, aes(x=domestic_ccy, y=n)) + geom_bar(stat=\"identity\")"
   ]
  },
  {
   "cell_type": "code",
   "execution_count": 95,
   "id": "TfXBTSDLacJD",
   "metadata": {
    "colab": {
     "base_uri": "https://localhost:8080/",
     "height": 321
    },
    "id": "TfXBTSDLacJD",
    "outputId": "a5a44d27-d31a-4bff-f63f-caaf4ee45214"
   },
   "outputs": [
    {
     "name": "stderr",
     "output_type": "stream",
     "text": [
      "\u001b[1m\u001b[22m`summarise()` has grouped output by 'domestic_ccy'. You can override using the\n",
      "`.groups` argument.\n"
     ]
    },
    {
     "data": {
      "text/html": [
       "<table class=\"dataframe\">\n",
       "<caption>A grouped_df: 6 × 3</caption>\n",
       "<thead>\n",
       "\t<tr><th scope=col>domestic_ccy</th><th scope=col>oldnew</th><th scope=col>n</th></tr>\n",
       "\t<tr><th scope=col>&lt;chr&gt;</th><th scope=col>&lt;chr&gt;</th><th scope=col>&lt;int&gt;</th></tr>\n",
       "</thead>\n",
       "<tbody>\n",
       "\t<tr><td>AUD</td><td>new</td><td>1</td></tr>\n",
       "\t<tr><td>AUD</td><td>old</td><td>3</td></tr>\n",
       "\t<tr><td>CAD</td><td>old</td><td>5</td></tr>\n",
       "\t<tr><td>CHF</td><td>old</td><td>7</td></tr>\n",
       "\t<tr><td>CZK</td><td>new</td><td>2</td></tr>\n",
       "\t<tr><td>DKK</td><td>old</td><td>2</td></tr>\n",
       "</tbody>\n",
       "</table>\n"
      ],
      "text/latex": [
       "A grouped\\_df: 6 × 3\n",
       "\\begin{tabular}{lll}\n",
       " domestic\\_ccy & oldnew & n\\\\\n",
       " <chr> & <chr> & <int>\\\\\n",
       "\\hline\n",
       "\t AUD & new & 1\\\\\n",
       "\t AUD & old & 3\\\\\n",
       "\t CAD & old & 5\\\\\n",
       "\t CHF & old & 7\\\\\n",
       "\t CZK & new & 2\\\\\n",
       "\t DKK & old & 2\\\\\n",
       "\\end{tabular}\n"
      ],
      "text/markdown": [
       "\n",
       "A grouped_df: 6 × 3\n",
       "\n",
       "| domestic_ccy &lt;chr&gt; | oldnew &lt;chr&gt; | n &lt;int&gt; |\n",
       "|---|---|---|\n",
       "| AUD | new | 1 |\n",
       "| AUD | old | 3 |\n",
       "| CAD | old | 5 |\n",
       "| CHF | old | 7 |\n",
       "| CZK | new | 2 |\n",
       "| DKK | old | 2 |\n",
       "\n"
      ],
      "text/plain": [
       "  domestic_ccy oldnew n\n",
       "1 AUD          new    1\n",
       "2 AUD          old    3\n",
       "3 CAD          old    5\n",
       "4 CHF          old    7\n",
       "5 CZK          new    2\n",
       "6 DKK          old    2"
      ]
     },
     "metadata": {},
     "output_type": "display_data"
    }
   ],
   "source": [
    "#9\n",
    "domestic_count_oldnew = select(pairs, domestic_ccy, history_first_trading_month)\n",
    "\n",
    "domestic_count_oldnew$oldnew = \"old\"\n",
    "domestic_count_oldnew$oldnew[domestic_count_oldnew$history_first_trading_month>201001] = \"new\"\n",
    "\n",
    "domestic_count_oldnew = select(domestic_count_oldnew, domestic_ccy, oldnew)\n",
    "domestic_count_oldnew = domestic_count_oldnew %>% group_by(domestic_ccy, oldnew) %>% summarize(count=n())\n",
    "domestic_count_oldnew = rename(domestic_count_oldnew, n=count)\n",
    "head(domestic_count_oldnew)"
   ]
  },
  {
   "cell_type": "code",
   "execution_count": 98,
   "id": "Q9vsOPvGac98",
   "metadata": {
    "colab": {
     "base_uri": "https://localhost:8080/",
     "height": 437
    },
    "id": "Q9vsOPvGac98",
    "outputId": "9c94814b-a417-4d02-9a47-606bb149574c"
   },
   "outputs": [
    {
     "data": {
      "image/png": "[encoded data removed]",
      "text/plain": [
       "plot without title"
      ]
     },
     "metadata": {
      "image/png": {
       "height": 420,
       "width": 420
      }
     },
     "output_type": "display_data"
    }
   ],
   "source": [
    "#10\n",
    "ggplot(domestic_count_oldnew, aes(fill=oldnew==\"new\", y=n, x=factor(domestic_ccy))) +\n",
    "geom_bar(position=\"dodge\", stat=\"identity\")"
   ]
  },
  {
   "cell_type": "code",
   "execution_count": 99,
   "id": "OG-ERPcjnRx1",
   "metadata": {
    "colab": {
     "base_uri": "https://localhost:8080/"
    },
    "id": "OG-ERPcjnRx1",
    "outputId": "5663df6d-715c-4366-caf7-69c0b0601047"
   },
   "outputs": [
    {
     "name": "stderr",
     "output_type": "stream",
     "text": [
      "Installing package into ‘/usr/local/lib/R/site-library’\n",
      "(as ‘lib’ is unspecified)\n",
      "\n"
     ]
    }
   ],
   "source": [
    "install.packages('sparklyr')"
   ]
  },
  {
   "cell_type": "code",
   "execution_count": null,
   "id": "qdP-xv2FnR4R",
   "metadata": {
    "id": "qdP-xv2FnR4R"
   },
   "outputs": [],
   "source": [
    "# Q11\n",
    "library(sparklyr)\n",
    "library(ggraph)\n",
    "library(igraph)\n",
    "library(graphframes)\n",
    "sc=spark_connect(master=\"local\")\n",
    "pairs_tbl = copy_to(sc, pairs, \"pairs\", overwrite = TRUE)\n",
    "pairs_tbl"
   ]
  },
  {
   "cell_type": "code",
   "execution_count": null,
   "id": "Mm5yXIOxnlTx",
   "metadata": {
    "id": "Mm5yXIOxnlTx"
   },
   "outputs": [],
   "source": [
    "# Q12\n",
    "exchangeable = pairs_tbl %>% select(foreign_ccy, domestic_ccy)\n",
    "exchangeable = exchangeable %>% rename(src = foreign_ccy, dst = domestic_ccy)\n",
    "exchangeable"
   ]
  }
 ],
 "metadata": {
  "colab": {
   "collapsed_sections": [],
   "name": "MTR.ipynb",
   "provenance": []
  },
  "kernelspec": {
   "display_name": "R",
   "language": "R",
   "name": "ir"
  },
  "language_info": {
   "codemirror_mode": "r",
   "file_extension": ".r",
   "mimetype": "text/x-r-source",
   "name": "R",
   "pygments_lexer": "r",
   "version": "3.6.1"
  }
 },
 "nbformat": 4,
 "nbformat_minor": 5
}
